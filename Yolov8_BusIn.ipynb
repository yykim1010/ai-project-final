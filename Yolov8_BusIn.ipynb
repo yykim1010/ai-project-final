{
 "cells": [
  {
   "cell_type": "code",
   "execution_count": 4,
   "id": "d5dad53a-7257-4d1e-a412-3e7685b9fa8b",
   "metadata": {},
   "outputs": [],
   "source": [
    "from ultralytics import YOLO\n",
    "import cv2\n",
    "import os\n",
    "import urllib\n",
    "import glob\n",
    "from IPython.display import Image, display"
   ]
  },
  {
   "cell_type": "code",
   "execution_count": 5,
   "id": "028f13ec-2982-4035-9eba-a9064a050548",
   "metadata": {},
   "outputs": [
    {
     "name": "stdout",
     "output_type": "stream",
     "text": [
      "Downloading https://github.com/ultralytics/assets/releases/download/v0.0.0/yolov8n.pt to 'pretrained/yolov8n.pt'...\n"
     ]
    },
    {
     "name": "stderr",
     "output_type": "stream",
     "text": [
      "100%|██████████████████████████████████████| 6.23M/6.23M [00:00<00:00, 77.3MB/s]\n"
     ]
    }
   ],
   "source": [
    "# load model\n",
    "model = YOLO(\"./pretrained/yolov8n.pt\")"
   ]
  },
  {
   "cell_type": "code",
   "execution_count": null,
   "id": "e1d3608d-f77b-41f4-8159-a913e2c89918",
   "metadata": {},
   "outputs": [],
   "source": [
    "import os\n",
    "\n",
    "from roboflow import Roboflow\n",
    "rf = Roboflow(api_key=\"uCJ2k5MR1iQKiq9QkXyN\")\n",
    "project = rf.workspace(\"postech-4ygpj\").project(\"pohang_bus_clean2_\")\n",
    "dataset = project.version(2).download(\"yolov8\")"
   ]
  },
  {
   "cell_type": "markdown",
   "id": "3747f982-379e-4cdc-b605-139312f50fb5",
   "metadata": {},
   "source": [
    "## train"
   ]
  },
  {
   "cell_type": "code",
   "execution_count": 7,
   "id": "355436ed-d7ea-4fce-a04c-6ac98c3a8931",
   "metadata": {},
   "outputs": [
    {
     "name": "stdout",
     "output_type": "stream",
     "text": [
      "Ultralytics YOLOv8.0.227 🚀 Python-3.8.18 torch-2.1.0+cu121 CUDA:0 (NVIDIA GeForce RTX 2080, 7974MiB)\n",
      "\u001b[34m\u001b[1mengine/trainer: \u001b[0mtask=detect, mode=train, model=./pretrained/yolov8n.pt, data=./yolo8_busin/data.yaml, epochs=100, patience=50, batch=16, imgsz=640, save=True, save_period=-1, cache=False, device=None, workers=8, project=None, name=train21, exist_ok=False, pretrained=True, optimizer=auto, verbose=True, seed=0, deterministic=True, single_cls=False, rect=False, cos_lr=False, close_mosaic=10, resume=False, amp=True, fraction=1.0, profile=False, freeze=None, overlap_mask=True, mask_ratio=4, dropout=0.0, val=True, split=val, save_json=False, save_hybrid=False, conf=None, iou=0.7, max_det=300, half=False, dnn=False, plots=True, source=None, vid_stride=1, stream_buffer=False, visualize=False, augment=False, agnostic_nms=False, classes=None, retina_masks=False, show=False, save_frames=False, save_txt=False, save_conf=False, save_crop=False, show_labels=True, show_conf=True, show_boxes=True, line_width=None, format=torchscript, keras=False, optimize=False, int8=False, dynamic=False, simplify=False, opset=None, workspace=4, nms=False, lr0=0.01, lrf=0.01, momentum=0.937, weight_decay=0.0005, warmup_epochs=3.0, warmup_momentum=0.8, warmup_bias_lr=0.1, box=7.5, cls=0.5, dfl=1.5, pose=12.0, kobj=1.0, label_smoothing=0.0, nbs=64, hsv_h=0.015, hsv_s=0.7, hsv_v=0.4, degrees=0.0, translate=0.1, scale=0.5, shear=0.0, perspective=0.0, flipud=0.0, fliplr=0.5, mosaic=1.0, mixup=0.0, copy_paste=0.0, cfg=None, tracker=botsort.yaml, save_dir=runs/detect/train21\n",
      "\n",
      "                   from  n    params  module                                       arguments                     \n",
      "  0                  -1  1       464  ultralytics.nn.modules.conv.Conv             [3, 16, 3, 2]                 \n",
      "  1                  -1  1      4672  ultralytics.nn.modules.conv.Conv             [16, 32, 3, 2]                \n",
      "  2                  -1  1      7360  ultralytics.nn.modules.block.C2f             [32, 32, 1, True]             \n",
      "  3                  -1  1     18560  ultralytics.nn.modules.conv.Conv             [32, 64, 3, 2]                \n",
      "  4                  -1  2     49664  ultralytics.nn.modules.block.C2f             [64, 64, 2, True]             \n",
      "  5                  -1  1     73984  ultralytics.nn.modules.conv.Conv             [64, 128, 3, 2]               \n",
      "  6                  -1  2    197632  ultralytics.nn.modules.block.C2f             [128, 128, 2, True]           \n",
      "  7                  -1  1    295424  ultralytics.nn.modules.conv.Conv             [128, 256, 3, 2]              \n",
      "  8                  -1  1    460288  ultralytics.nn.modules.block.C2f             [256, 256, 1, True]           \n",
      "  9                  -1  1    164608  ultralytics.nn.modules.block.SPPF            [256, 256, 5]                 \n",
      " 10                  -1  1         0  torch.nn.modules.upsampling.Upsample         [None, 2, 'nearest']          \n",
      " 11             [-1, 6]  1         0  ultralytics.nn.modules.conv.Concat           [1]                           \n",
      " 12                  -1  1    148224  ultralytics.nn.modules.block.C2f             [384, 128, 1]                 \n",
      " 13                  -1  1         0  torch.nn.modules.upsampling.Upsample         [None, 2, 'nearest']          \n",
      " 14             [-1, 4]  1         0  ultralytics.nn.modules.conv.Concat           [1]                           \n",
      " 15                  -1  1     37248  ultralytics.nn.modules.block.C2f             [192, 64, 1]                  \n",
      " 16                  -1  1     36992  ultralytics.nn.modules.conv.Conv             [64, 64, 3, 2]                \n",
      " 17            [-1, 12]  1         0  ultralytics.nn.modules.conv.Concat           [1]                           \n",
      " 18                  -1  1    123648  ultralytics.nn.modules.block.C2f             [192, 128, 1]                 \n",
      " 19                  -1  1    147712  ultralytics.nn.modules.conv.Conv             [128, 128, 3, 2]              \n",
      " 20             [-1, 9]  1         0  ultralytics.nn.modules.conv.Concat           [1]                           \n",
      " 21                  -1  1    493056  ultralytics.nn.modules.block.C2f             [384, 256, 1]                 \n",
      " 22        [15, 18, 21]  1    752287  ultralytics.nn.modules.head.Detect           [5, [64, 128, 256]]           \n",
      "Model summary: 225 layers, 3011823 parameters, 3011807 gradients, 8.2 GFLOPs\n",
      "\n",
      "Transferred 355/355 items from pretrained weights\n",
      "\u001b[34m\u001b[1mTensorBoard: \u001b[0mStart with 'tensorboard --logdir runs/detect/train21', view at http://localhost:6006/\n",
      "Freezing layer 'model.22.dfl.conv.weight'\n",
      "\u001b[34m\u001b[1mAMP: \u001b[0mrunning Automatic Mixed Precision (AMP) checks with YOLOv8n...\n",
      "\u001b[34m\u001b[1mAMP: \u001b[0mchecks passed ✅\n"
     ]
    },
    {
     "name": "stderr",
     "output_type": "stream",
     "text": [
      "\u001b[34m\u001b[1mtrain: \u001b[0mScanning /home/piai/yolo8_busin/train/labels.cache... 5058 images, 2 back\u001b[0m"
     ]
    },
    {
     "name": "stdout",
     "output_type": "stream",
     "text": [
      "WARNING ⚠️ Box and segment counts should be equal, but got len(segments) = 452, len(boxes) = 7048. To resolve this only boxes will be used and all segments will be removed. To avoid this please supply either a detect or segment dataset, not a detect-segment mixed dataset.\n"
     ]
    },
    {
     "name": "stderr",
     "output_type": "stream",
     "text": [
      "\n",
      "\u001b[34m\u001b[1mval: \u001b[0mScanning /home/piai/yolo8_busin/valid/labels.cache... 712 images, 2 backgro\u001b[0m"
     ]
    },
    {
     "name": "stdout",
     "output_type": "stream",
     "text": [
      "WARNING ⚠️ Box and segment counts should be equal, but got len(segments) = 57, len(boxes) = 1015. To resolve this only boxes will be used and all segments will be removed. To avoid this please supply either a detect or segment dataset, not a detect-segment mixed dataset.\n"
     ]
    },
    {
     "name": "stderr",
     "output_type": "stream",
     "text": [
      "\n"
     ]
    },
    {
     "name": "stdout",
     "output_type": "stream",
     "text": [
      "Plotting labels to runs/detect/train21/labels.jpg... \n",
      "\u001b[34m\u001b[1moptimizer:\u001b[0m 'optimizer=auto' found, ignoring 'lr0=0.01' and 'momentum=0.937' and determining best 'optimizer', 'lr0' and 'momentum' automatically... \n",
      "\u001b[34m\u001b[1moptimizer:\u001b[0m AdamW(lr=0.001111, momentum=0.9) with parameter groups 57 weight(decay=0.0), 64 weight(decay=0.0005), 63 bias(decay=0.0)\n",
      "Image sizes 640 train, 640 val\n",
      "Using 4 dataloader workers\n",
      "Logging results to \u001b[1mruns/detect/train21\u001b[0m\n",
      "Starting training for 100 epochs...\n",
      "\n",
      "      Epoch    GPU_mem   box_loss   cls_loss   dfl_loss  Instances       Size\n"
     ]
    },
    {
     "name": "stderr",
     "output_type": "stream",
     "text": [
      "      1/100      2.29G      1.171      2.154      1.393          2        640: 1\n",
      "                 Class     Images  Instances      Box(P          R      mAP50  m"
     ]
    },
    {
     "name": "stdout",
     "output_type": "stream",
     "text": [
      "                   all        712       1015      0.791       0.73      0.777      0.534\n"
     ]
    },
    {
     "name": "stderr",
     "output_type": "stream",
     "text": [
      "\n"
     ]
    },
    {
     "name": "stdout",
     "output_type": "stream",
     "text": [
      "\n",
      "      Epoch    GPU_mem   box_loss   cls_loss   dfl_loss  Instances       Size\n"
     ]
    },
    {
     "name": "stderr",
     "output_type": "stream",
     "text": [
      "      2/100      2.34G      1.109      1.303      1.313          2        640: 1\n",
      "                 Class     Images  Instances      Box(P          R      mAP50  m"
     ]
    },
    {
     "name": "stdout",
     "output_type": "stream",
     "text": [
      "                   all        712       1015      0.774      0.752      0.796      0.538\n"
     ]
    },
    {
     "name": "stderr",
     "output_type": "stream",
     "text": [
      "\n"
     ]
    },
    {
     "name": "stdout",
     "output_type": "stream",
     "text": [
      "\n",
      "      Epoch    GPU_mem   box_loss   cls_loss   dfl_loss  Instances       Size\n"
     ]
    },
    {
     "name": "stderr",
     "output_type": "stream",
     "text": [
      "      3/100      2.32G      1.099      1.095      1.312          3        640: 1\n",
      "                 Class     Images  Instances      Box(P          R      mAP50  m"
     ]
    },
    {
     "name": "stdout",
     "output_type": "stream",
     "text": [
      "                   all        712       1015      0.701      0.753      0.748      0.502\n"
     ]
    },
    {
     "name": "stderr",
     "output_type": "stream",
     "text": [
      "\n"
     ]
    },
    {
     "name": "stdout",
     "output_type": "stream",
     "text": [
      "\n",
      "      Epoch    GPU_mem   box_loss   cls_loss   dfl_loss  Instances       Size\n"
     ]
    },
    {
     "name": "stderr",
     "output_type": "stream",
     "text": [
      "      4/100      2.34G      1.075      1.001      1.285          2        640: 1\n",
      "                 Class     Images  Instances      Box(P          R      mAP50  m"
     ]
    },
    {
     "name": "stdout",
     "output_type": "stream",
     "text": [
      "                   all        712       1015      0.729      0.762      0.775      0.496\n"
     ]
    },
    {
     "name": "stderr",
     "output_type": "stream",
     "text": [
      "\n"
     ]
    },
    {
     "name": "stdout",
     "output_type": "stream",
     "text": [
      "\n",
      "      Epoch    GPU_mem   box_loss   cls_loss   dfl_loss  Instances       Size\n"
     ]
    },
    {
     "name": "stderr",
     "output_type": "stream",
     "text": [
      "      5/100      2.32G      1.026     0.9053      1.248          7        640: 1\n",
      "                 Class     Images  Instances      Box(P          R      mAP50  m"
     ]
    },
    {
     "name": "stdout",
     "output_type": "stream",
     "text": [
      "                   all        712       1015      0.805       0.78      0.828      0.596\n"
     ]
    },
    {
     "name": "stderr",
     "output_type": "stream",
     "text": [
      "\n"
     ]
    },
    {
     "name": "stdout",
     "output_type": "stream",
     "text": [
      "\n",
      "      Epoch    GPU_mem   box_loss   cls_loss   dfl_loss  Instances       Size\n"
     ]
    },
    {
     "name": "stderr",
     "output_type": "stream",
     "text": [
      "      6/100      2.31G      1.004     0.8468      1.236          7        640: 1\n",
      "                 Class     Images  Instances      Box(P          R      mAP50  m"
     ]
    },
    {
     "name": "stdout",
     "output_type": "stream",
     "text": [
      "                   all        712       1015      0.827       0.84      0.864      0.615\n"
     ]
    },
    {
     "name": "stderr",
     "output_type": "stream",
     "text": [
      "\n"
     ]
    },
    {
     "name": "stdout",
     "output_type": "stream",
     "text": [
      "\n",
      "      Epoch    GPU_mem   box_loss   cls_loss   dfl_loss  Instances       Size\n"
     ]
    },
    {
     "name": "stderr",
     "output_type": "stream",
     "text": [
      "      7/100      2.32G     0.9815     0.8143      1.222          9        640: 1\n",
      "                 Class     Images  Instances      Box(P          R      mAP50  m"
     ]
    },
    {
     "name": "stdout",
     "output_type": "stream",
     "text": [
      "                   all        712       1015      0.836      0.849      0.888       0.66\n"
     ]
    },
    {
     "name": "stderr",
     "output_type": "stream",
     "text": [
      "\n"
     ]
    },
    {
     "name": "stdout",
     "output_type": "stream",
     "text": [
      "\n",
      "      Epoch    GPU_mem   box_loss   cls_loss   dfl_loss  Instances       Size\n"
     ]
    },
    {
     "name": "stderr",
     "output_type": "stream",
     "text": [
      "      8/100      2.32G     0.9443      0.773      1.202          7        640: 1\n",
      "                 Class     Images  Instances      Box(P          R      mAP50  m"
     ]
    },
    {
     "name": "stdout",
     "output_type": "stream",
     "text": [
      "                   all        712       1015       0.89      0.805      0.872      0.641\n"
     ]
    },
    {
     "name": "stderr",
     "output_type": "stream",
     "text": [
      "\n"
     ]
    },
    {
     "name": "stdout",
     "output_type": "stream",
     "text": [
      "\n",
      "      Epoch    GPU_mem   box_loss   cls_loss   dfl_loss  Instances       Size\n"
     ]
    },
    {
     "name": "stderr",
     "output_type": "stream",
     "text": [
      "      9/100      2.32G     0.9378     0.7737      1.191          2        640: 1\n",
      "                 Class     Images  Instances      Box(P          R      mAP50  m"
     ]
    },
    {
     "name": "stdout",
     "output_type": "stream",
     "text": [
      "                   all        712       1015       0.85      0.814       0.88      0.656\n"
     ]
    },
    {
     "name": "stderr",
     "output_type": "stream",
     "text": [
      "\n"
     ]
    },
    {
     "name": "stdout",
     "output_type": "stream",
     "text": [
      "\n",
      "      Epoch    GPU_mem   box_loss   cls_loss   dfl_loss  Instances       Size\n"
     ]
    },
    {
     "name": "stderr",
     "output_type": "stream",
     "text": [
      "     10/100      2.33G     0.9261     0.7355      1.185          5        640: 1\n",
      "                 Class     Images  Instances      Box(P          R      mAP50  m"
     ]
    },
    {
     "name": "stdout",
     "output_type": "stream",
     "text": [
      "                   all        712       1015      0.784      0.783      0.819      0.586\n"
     ]
    },
    {
     "name": "stderr",
     "output_type": "stream",
     "text": [
      "\n"
     ]
    },
    {
     "name": "stdout",
     "output_type": "stream",
     "text": [
      "\n",
      "      Epoch    GPU_mem   box_loss   cls_loss   dfl_loss  Instances       Size\n"
     ]
    },
    {
     "name": "stderr",
     "output_type": "stream",
     "text": [
      "     11/100      2.32G      0.899     0.7032      1.167          7        640: 1\n",
      "                 Class     Images  Instances      Box(P          R      mAP50  m"
     ]
    },
    {
     "name": "stdout",
     "output_type": "stream",
     "text": [
      "                   all        712       1015      0.804      0.863      0.869       0.64\n"
     ]
    },
    {
     "name": "stderr",
     "output_type": "stream",
     "text": [
      "\n"
     ]
    },
    {
     "name": "stdout",
     "output_type": "stream",
     "text": [
      "\n",
      "      Epoch    GPU_mem   box_loss   cls_loss   dfl_loss  Instances       Size\n"
     ]
    },
    {
     "name": "stderr",
     "output_type": "stream",
     "text": [
      "     12/100      2.32G     0.8974     0.6944      1.162          3        640: 1\n",
      "                 Class     Images  Instances      Box(P          R      mAP50  m"
     ]
    },
    {
     "name": "stdout",
     "output_type": "stream",
     "text": [
      "                   all        712       1015      0.865      0.871      0.894      0.667\n"
     ]
    },
    {
     "name": "stderr",
     "output_type": "stream",
     "text": [
      "\n"
     ]
    },
    {
     "name": "stdout",
     "output_type": "stream",
     "text": [
      "\n",
      "      Epoch    GPU_mem   box_loss   cls_loss   dfl_loss  Instances       Size\n"
     ]
    },
    {
     "name": "stderr",
     "output_type": "stream",
     "text": [
      "     13/100      2.33G     0.8921     0.6939       1.16          5        640: 1\n",
      "                 Class     Images  Instances      Box(P          R      mAP50  m"
     ]
    },
    {
     "name": "stdout",
     "output_type": "stream",
     "text": [
      "                   all        712       1015      0.863      0.903       0.92      0.693\n"
     ]
    },
    {
     "name": "stderr",
     "output_type": "stream",
     "text": [
      "\n"
     ]
    },
    {
     "name": "stdout",
     "output_type": "stream",
     "text": [
      "\n",
      "      Epoch    GPU_mem   box_loss   cls_loss   dfl_loss  Instances       Size\n"
     ]
    },
    {
     "name": "stderr",
     "output_type": "stream",
     "text": [
      "     14/100      2.31G     0.8678     0.6754      1.149          4        640: 1\n",
      "                 Class     Images  Instances      Box(P          R      mAP50  m"
     ]
    },
    {
     "name": "stdout",
     "output_type": "stream",
     "text": [
      "                   all        712       1015      0.848       0.87      0.894      0.671\n"
     ]
    },
    {
     "name": "stderr",
     "output_type": "stream",
     "text": [
      "\n"
     ]
    },
    {
     "name": "stdout",
     "output_type": "stream",
     "text": [
      "\n",
      "      Epoch    GPU_mem   box_loss   cls_loss   dfl_loss  Instances       Size\n"
     ]
    },
    {
     "name": "stderr",
     "output_type": "stream",
     "text": [
      "     15/100      2.32G     0.8615     0.6547      1.144          6        640: 1\n",
      "                 Class     Images  Instances      Box(P          R      mAP50  m"
     ]
    },
    {
     "name": "stdout",
     "output_type": "stream",
     "text": [
      "                   all        712       1015      0.815      0.845      0.886       0.68\n"
     ]
    },
    {
     "name": "stderr",
     "output_type": "stream",
     "text": [
      "\n"
     ]
    },
    {
     "name": "stdout",
     "output_type": "stream",
     "text": [
      "\n",
      "      Epoch    GPU_mem   box_loss   cls_loss   dfl_loss  Instances       Size\n"
     ]
    },
    {
     "name": "stderr",
     "output_type": "stream",
     "text": [
      "     16/100      2.32G     0.8571     0.6498       1.14          7        640: 1\n",
      "                 Class     Images  Instances      Box(P          R      mAP50  m"
     ]
    },
    {
     "name": "stdout",
     "output_type": "stream",
     "text": [
      "                   all        712       1015      0.882      0.897      0.936      0.724\n"
     ]
    },
    {
     "name": "stderr",
     "output_type": "stream",
     "text": [
      "\n"
     ]
    },
    {
     "name": "stdout",
     "output_type": "stream",
     "text": [
      "\n",
      "      Epoch    GPU_mem   box_loss   cls_loss   dfl_loss  Instances       Size\n"
     ]
    },
    {
     "name": "stderr",
     "output_type": "stream",
     "text": [
      "     17/100      2.32G     0.8443      0.648      1.132         10        640: 1\n",
      "                 Class     Images  Instances      Box(P          R      mAP50  m"
     ]
    },
    {
     "name": "stdout",
     "output_type": "stream",
     "text": [
      "                   all        712       1015      0.878      0.896      0.926      0.708\n"
     ]
    },
    {
     "name": "stderr",
     "output_type": "stream",
     "text": [
      "\n"
     ]
    },
    {
     "name": "stdout",
     "output_type": "stream",
     "text": [
      "\n",
      "      Epoch    GPU_mem   box_loss   cls_loss   dfl_loss  Instances       Size\n"
     ]
    },
    {
     "name": "stderr",
     "output_type": "stream",
     "text": [
      "     18/100      2.32G     0.8501     0.6416      1.135          4        640: 1\n",
      "                 Class     Images  Instances      Box(P          R      mAP50  m"
     ]
    },
    {
     "name": "stdout",
     "output_type": "stream",
     "text": [
      "                   all        712       1015      0.831      0.921      0.929      0.709\n"
     ]
    },
    {
     "name": "stderr",
     "output_type": "stream",
     "text": [
      "\n"
     ]
    },
    {
     "name": "stdout",
     "output_type": "stream",
     "text": [
      "\n",
      "      Epoch    GPU_mem   box_loss   cls_loss   dfl_loss  Instances       Size\n"
     ]
    },
    {
     "name": "stderr",
     "output_type": "stream",
     "text": [
      "     19/100      2.32G     0.8363     0.6268      1.124          6        640: 1\n",
      "                 Class     Images  Instances      Box(P          R      mAP50  m"
     ]
    },
    {
     "name": "stdout",
     "output_type": "stream",
     "text": [
      "                   all        712       1015       0.85      0.918      0.926      0.704\n"
     ]
    },
    {
     "name": "stderr",
     "output_type": "stream",
     "text": [
      "\n"
     ]
    },
    {
     "name": "stdout",
     "output_type": "stream",
     "text": [
      "\n",
      "      Epoch    GPU_mem   box_loss   cls_loss   dfl_loss  Instances       Size\n"
     ]
    },
    {
     "name": "stderr",
     "output_type": "stream",
     "text": [
      "     20/100      2.33G     0.8346     0.6249      1.123          5        640: 1\n",
      "                 Class     Images  Instances      Box(P          R      mAP50  m"
     ]
    },
    {
     "name": "stdout",
     "output_type": "stream",
     "text": [
      "                   all        712       1015      0.856      0.931      0.924      0.708\n"
     ]
    },
    {
     "name": "stderr",
     "output_type": "stream",
     "text": [
      "\n"
     ]
    },
    {
     "name": "stdout",
     "output_type": "stream",
     "text": [
      "\n",
      "      Epoch    GPU_mem   box_loss   cls_loss   dfl_loss  Instances       Size\n"
     ]
    },
    {
     "name": "stderr",
     "output_type": "stream",
     "text": [
      "     21/100      2.32G     0.8178     0.6177       1.12          6        640: 1\n",
      "                 Class     Images  Instances      Box(P          R      mAP50  m"
     ]
    },
    {
     "name": "stdout",
     "output_type": "stream",
     "text": [
      "                   all        712       1015      0.857      0.902      0.909      0.695\n"
     ]
    },
    {
     "name": "stderr",
     "output_type": "stream",
     "text": [
      "\n"
     ]
    },
    {
     "name": "stdout",
     "output_type": "stream",
     "text": [
      "\n",
      "      Epoch    GPU_mem   box_loss   cls_loss   dfl_loss  Instances       Size\n"
     ]
    },
    {
     "name": "stderr",
     "output_type": "stream",
     "text": [
      "     22/100      2.31G     0.8259     0.6167      1.125          3        640: 1\n",
      "                 Class     Images  Instances      Box(P          R      mAP50  m"
     ]
    },
    {
     "name": "stdout",
     "output_type": "stream",
     "text": [
      "                   all        712       1015      0.841      0.902      0.889       0.69\n"
     ]
    },
    {
     "name": "stderr",
     "output_type": "stream",
     "text": [
      "\n"
     ]
    },
    {
     "name": "stdout",
     "output_type": "stream",
     "text": [
      "\n",
      "      Epoch    GPU_mem   box_loss   cls_loss   dfl_loss  Instances       Size\n"
     ]
    },
    {
     "name": "stderr",
     "output_type": "stream",
     "text": [
      "     23/100      2.32G     0.8134      0.599      1.115          2        640: 1\n",
      "                 Class     Images  Instances      Box(P          R      mAP50  m"
     ]
    },
    {
     "name": "stdout",
     "output_type": "stream",
     "text": [
      "                   all        712       1015      0.857      0.928      0.937      0.725\n"
     ]
    },
    {
     "name": "stderr",
     "output_type": "stream",
     "text": [
      "\n"
     ]
    },
    {
     "name": "stdout",
     "output_type": "stream",
     "text": [
      "\n",
      "      Epoch    GPU_mem   box_loss   cls_loss   dfl_loss  Instances       Size\n"
     ]
    },
    {
     "name": "stderr",
     "output_type": "stream",
     "text": [
      "     24/100      2.32G      0.811     0.5926      1.109          8        640: 1\n",
      "                 Class     Images  Instances      Box(P          R      mAP50  m"
     ]
    },
    {
     "name": "stdout",
     "output_type": "stream",
     "text": [
      "                   all        712       1015      0.845      0.933      0.935      0.722\n"
     ]
    },
    {
     "name": "stderr",
     "output_type": "stream",
     "text": [
      "\n"
     ]
    },
    {
     "name": "stdout",
     "output_type": "stream",
     "text": [
      "\n",
      "      Epoch    GPU_mem   box_loss   cls_loss   dfl_loss  Instances       Size\n"
     ]
    },
    {
     "name": "stderr",
     "output_type": "stream",
     "text": [
      "     25/100      2.32G     0.8032     0.5978      1.111         10        640: 1\n",
      "                 Class     Images  Instances      Box(P          R      mAP50  m"
     ]
    },
    {
     "name": "stdout",
     "output_type": "stream",
     "text": [
      "                   all        712       1015      0.867      0.937      0.944      0.741\n"
     ]
    },
    {
     "name": "stderr",
     "output_type": "stream",
     "text": [
      "\n"
     ]
    },
    {
     "name": "stdout",
     "output_type": "stream",
     "text": [
      "\n",
      "      Epoch    GPU_mem   box_loss   cls_loss   dfl_loss  Instances       Size\n"
     ]
    },
    {
     "name": "stderr",
     "output_type": "stream",
     "text": [
      "     26/100      2.31G     0.8045     0.5833      1.104          3        640: 1\n",
      "                 Class     Images  Instances      Box(P          R      mAP50  m"
     ]
    },
    {
     "name": "stdout",
     "output_type": "stream",
     "text": [
      "                   all        712       1015      0.868      0.924      0.937      0.726\n"
     ]
    },
    {
     "name": "stderr",
     "output_type": "stream",
     "text": [
      "\n"
     ]
    },
    {
     "name": "stdout",
     "output_type": "stream",
     "text": [
      "\n",
      "      Epoch    GPU_mem   box_loss   cls_loss   dfl_loss  Instances       Size\n"
     ]
    },
    {
     "name": "stderr",
     "output_type": "stream",
     "text": [
      "     27/100      2.32G     0.7817     0.5811      1.097          1        640: 1\n",
      "                 Class     Images  Instances      Box(P          R      mAP50  m"
     ]
    },
    {
     "name": "stdout",
     "output_type": "stream",
     "text": [
      "                   all        712       1015      0.844      0.898      0.915      0.708\n"
     ]
    },
    {
     "name": "stderr",
     "output_type": "stream",
     "text": [
      "\n"
     ]
    },
    {
     "name": "stdout",
     "output_type": "stream",
     "text": [
      "\n",
      "      Epoch    GPU_mem   box_loss   cls_loss   dfl_loss  Instances       Size\n"
     ]
    },
    {
     "name": "stderr",
     "output_type": "stream",
     "text": [
      "     28/100      2.32G     0.7817     0.5779      1.091          3        640: 1\n",
      "                 Class     Images  Instances      Box(P          R      mAP50  m"
     ]
    },
    {
     "name": "stdout",
     "output_type": "stream",
     "text": [
      "                   all        712       1015      0.844      0.939       0.94      0.727\n"
     ]
    },
    {
     "name": "stderr",
     "output_type": "stream",
     "text": [
      "\n"
     ]
    },
    {
     "name": "stdout",
     "output_type": "stream",
     "text": [
      "\n",
      "      Epoch    GPU_mem   box_loss   cls_loss   dfl_loss  Instances       Size\n"
     ]
    },
    {
     "name": "stderr",
     "output_type": "stream",
     "text": [
      "     29/100      2.32G       0.78     0.5716      1.094          6        640: 1\n",
      "                 Class     Images  Instances      Box(P          R      mAP50  m"
     ]
    },
    {
     "name": "stdout",
     "output_type": "stream",
     "text": [
      "                   all        712       1015      0.857       0.89      0.944      0.738\n"
     ]
    },
    {
     "name": "stderr",
     "output_type": "stream",
     "text": [
      "\n"
     ]
    },
    {
     "name": "stdout",
     "output_type": "stream",
     "text": [
      "\n",
      "      Epoch    GPU_mem   box_loss   cls_loss   dfl_loss  Instances       Size\n"
     ]
    },
    {
     "name": "stderr",
     "output_type": "stream",
     "text": [
      "     30/100      2.31G     0.7903     0.5766      1.099          4        640: 1\n",
      "                 Class     Images  Instances      Box(P          R      mAP50  m"
     ]
    },
    {
     "name": "stdout",
     "output_type": "stream",
     "text": [
      "                   all        712       1015      0.899      0.944      0.964      0.762\n"
     ]
    },
    {
     "name": "stderr",
     "output_type": "stream",
     "text": [
      "\n"
     ]
    },
    {
     "name": "stdout",
     "output_type": "stream",
     "text": [
      "\n",
      "      Epoch    GPU_mem   box_loss   cls_loss   dfl_loss  Instances       Size\n"
     ]
    },
    {
     "name": "stderr",
     "output_type": "stream",
     "text": [
      "     31/100      2.32G     0.7857      0.573      1.096          4        640: 1\n",
      "                 Class     Images  Instances      Box(P          R      mAP50  m"
     ]
    },
    {
     "name": "stdout",
     "output_type": "stream",
     "text": [
      "                   all        712       1015      0.884      0.921       0.94      0.736\n"
     ]
    },
    {
     "name": "stderr",
     "output_type": "stream",
     "text": [
      "\n"
     ]
    },
    {
     "name": "stdout",
     "output_type": "stream",
     "text": [
      "\n",
      "      Epoch    GPU_mem   box_loss   cls_loss   dfl_loss  Instances       Size\n"
     ]
    },
    {
     "name": "stderr",
     "output_type": "stream",
     "text": [
      "     32/100      2.32G     0.7789      0.569      1.091          3        640: 1\n",
      "                 Class     Images  Instances      Box(P          R      mAP50  m"
     ]
    },
    {
     "name": "stdout",
     "output_type": "stream",
     "text": [
      "                   all        712       1015      0.832      0.931      0.929      0.733\n"
     ]
    },
    {
     "name": "stderr",
     "output_type": "stream",
     "text": [
      "\n"
     ]
    },
    {
     "name": "stdout",
     "output_type": "stream",
     "text": [
      "\n",
      "      Epoch    GPU_mem   box_loss   cls_loss   dfl_loss  Instances       Size\n"
     ]
    },
    {
     "name": "stderr",
     "output_type": "stream",
     "text": [
      "     33/100      2.32G     0.7732     0.5586      1.087          3        640: 1\n",
      "                 Class     Images  Instances      Box(P          R      mAP50  m"
     ]
    },
    {
     "name": "stdout",
     "output_type": "stream",
     "text": [
      "                   all        712       1015      0.878      0.903      0.916      0.722\n"
     ]
    },
    {
     "name": "stderr",
     "output_type": "stream",
     "text": [
      "\n"
     ]
    },
    {
     "name": "stdout",
     "output_type": "stream",
     "text": [
      "\n",
      "      Epoch    GPU_mem   box_loss   cls_loss   dfl_loss  Instances       Size\n"
     ]
    },
    {
     "name": "stderr",
     "output_type": "stream",
     "text": [
      "     34/100      2.33G     0.7686     0.5557      1.088         10        640: 1\n",
      "                 Class     Images  Instances      Box(P          R      mAP50  m"
     ]
    },
    {
     "name": "stdout",
     "output_type": "stream",
     "text": [
      "                   all        712       1015      0.881       0.92      0.928      0.719\n"
     ]
    },
    {
     "name": "stderr",
     "output_type": "stream",
     "text": [
      "\n"
     ]
    },
    {
     "name": "stdout",
     "output_type": "stream",
     "text": [
      "\n",
      "      Epoch    GPU_mem   box_loss   cls_loss   dfl_loss  Instances       Size\n"
     ]
    },
    {
     "name": "stderr",
     "output_type": "stream",
     "text": [
      "     35/100      2.32G     0.7566     0.5499      1.078          3        640: 1\n",
      "                 Class     Images  Instances      Box(P          R      mAP50  m"
     ]
    },
    {
     "name": "stdout",
     "output_type": "stream",
     "text": [
      "                   all        712       1015      0.869      0.863      0.896      0.692\n"
     ]
    },
    {
     "name": "stderr",
     "output_type": "stream",
     "text": [
      "\n"
     ]
    },
    {
     "name": "stdout",
     "output_type": "stream",
     "text": [
      "\n",
      "      Epoch    GPU_mem   box_loss   cls_loss   dfl_loss  Instances       Size\n"
     ]
    },
    {
     "name": "stderr",
     "output_type": "stream",
     "text": [
      "     36/100      2.32G     0.7513     0.5402      1.077          5        640: 1\n",
      "                 Class     Images  Instances      Box(P          R      mAP50  m"
     ]
    },
    {
     "name": "stdout",
     "output_type": "stream",
     "text": [
      "                   all        712       1015      0.895      0.905      0.936      0.736\n"
     ]
    },
    {
     "name": "stderr",
     "output_type": "stream",
     "text": [
      "\n"
     ]
    },
    {
     "name": "stdout",
     "output_type": "stream",
     "text": [
      "\n",
      "      Epoch    GPU_mem   box_loss   cls_loss   dfl_loss  Instances       Size\n"
     ]
    },
    {
     "name": "stderr",
     "output_type": "stream",
     "text": [
      "     37/100      2.32G     0.7481     0.5351      1.079          4        640: 1\n",
      "                 Class     Images  Instances      Box(P          R      mAP50  m"
     ]
    },
    {
     "name": "stdout",
     "output_type": "stream",
     "text": [
      "                   all        712       1015      0.856      0.926      0.923      0.726\n"
     ]
    },
    {
     "name": "stderr",
     "output_type": "stream",
     "text": [
      "\n"
     ]
    },
    {
     "name": "stdout",
     "output_type": "stream",
     "text": [
      "\n",
      "      Epoch    GPU_mem   box_loss   cls_loss   dfl_loss  Instances       Size\n"
     ]
    },
    {
     "name": "stderr",
     "output_type": "stream",
     "text": [
      "     38/100      2.31G     0.7518     0.5377      1.073          4        640: 1\n",
      "                 Class     Images  Instances      Box(P          R      mAP50  m"
     ]
    },
    {
     "name": "stdout",
     "output_type": "stream",
     "text": [
      "                   all        712       1015      0.888      0.929      0.932      0.731\n"
     ]
    },
    {
     "name": "stderr",
     "output_type": "stream",
     "text": [
      "\n"
     ]
    },
    {
     "name": "stdout",
     "output_type": "stream",
     "text": [
      "\n",
      "      Epoch    GPU_mem   box_loss   cls_loss   dfl_loss  Instances       Size\n"
     ]
    },
    {
     "name": "stderr",
     "output_type": "stream",
     "text": [
      "     39/100      2.32G      0.744     0.5351      1.075          5        640: 1\n",
      "                 Class     Images  Instances      Box(P          R      mAP50  m"
     ]
    },
    {
     "name": "stdout",
     "output_type": "stream",
     "text": [
      "                   all        712       1015      0.867       0.93      0.924      0.725\n"
     ]
    },
    {
     "name": "stderr",
     "output_type": "stream",
     "text": [
      "\n"
     ]
    },
    {
     "name": "stdout",
     "output_type": "stream",
     "text": [
      "\n",
      "      Epoch    GPU_mem   box_loss   cls_loss   dfl_loss  Instances       Size\n"
     ]
    },
    {
     "name": "stderr",
     "output_type": "stream",
     "text": [
      "     40/100      2.32G      0.747      0.533      1.073          2        640: 1\n",
      "                 Class     Images  Instances      Box(P          R      mAP50  m"
     ]
    },
    {
     "name": "stdout",
     "output_type": "stream",
     "text": [
      "                   all        712       1015      0.913      0.889      0.951      0.739\n"
     ]
    },
    {
     "name": "stderr",
     "output_type": "stream",
     "text": [
      "\n"
     ]
    },
    {
     "name": "stdout",
     "output_type": "stream",
     "text": [
      "\n",
      "      Epoch    GPU_mem   box_loss   cls_loss   dfl_loss  Instances       Size\n"
     ]
    },
    {
     "name": "stderr",
     "output_type": "stream",
     "text": [
      "     41/100      2.33G      0.738     0.5298      1.069          4        640: 1\n",
      "                 Class     Images  Instances      Box(P          R      mAP50  m"
     ]
    },
    {
     "name": "stdout",
     "output_type": "stream",
     "text": [
      "                   all        712       1015      0.853      0.938      0.934      0.747\n"
     ]
    },
    {
     "name": "stderr",
     "output_type": "stream",
     "text": [
      "\n"
     ]
    },
    {
     "name": "stdout",
     "output_type": "stream",
     "text": [
      "\n",
      "      Epoch    GPU_mem   box_loss   cls_loss   dfl_loss  Instances       Size\n"
     ]
    },
    {
     "name": "stderr",
     "output_type": "stream",
     "text": [
      "     42/100      2.31G      0.737     0.5265       1.07         12        640: 1\n",
      "                 Class     Images  Instances      Box(P          R      mAP50  m"
     ]
    },
    {
     "name": "stdout",
     "output_type": "stream",
     "text": [
      "                   all        712       1015      0.859      0.937      0.909      0.725\n"
     ]
    },
    {
     "name": "stderr",
     "output_type": "stream",
     "text": [
      "\n"
     ]
    },
    {
     "name": "stdout",
     "output_type": "stream",
     "text": [
      "\n",
      "      Epoch    GPU_mem   box_loss   cls_loss   dfl_loss  Instances       Size\n"
     ]
    },
    {
     "name": "stderr",
     "output_type": "stream",
     "text": [
      "     43/100      2.32G     0.7383     0.5271      1.073         12        640: 1\n",
      "                 Class     Images  Instances      Box(P          R      mAP50  m"
     ]
    },
    {
     "name": "stdout",
     "output_type": "stream",
     "text": [
      "                   all        712       1015      0.908      0.931      0.936      0.741\n"
     ]
    },
    {
     "name": "stderr",
     "output_type": "stream",
     "text": [
      "\n"
     ]
    },
    {
     "name": "stdout",
     "output_type": "stream",
     "text": [
      "\n",
      "      Epoch    GPU_mem   box_loss   cls_loss   dfl_loss  Instances       Size\n"
     ]
    },
    {
     "name": "stderr",
     "output_type": "stream",
     "text": [
      "     44/100      2.34G     0.7353     0.5263      1.072          2        640: 1\n",
      "                 Class     Images  Instances      Box(P          R      mAP50  m"
     ]
    },
    {
     "name": "stdout",
     "output_type": "stream",
     "text": [
      "                   all        712       1015      0.851      0.963      0.932      0.731\n"
     ]
    },
    {
     "name": "stderr",
     "output_type": "stream",
     "text": [
      "\n"
     ]
    },
    {
     "name": "stdout",
     "output_type": "stream",
     "text": [
      "\n",
      "      Epoch    GPU_mem   box_loss   cls_loss   dfl_loss  Instances       Size\n"
     ]
    },
    {
     "name": "stderr",
     "output_type": "stream",
     "text": [
      "     45/100      2.32G     0.7294     0.5156      1.066          7        640: 1\n",
      "                 Class     Images  Instances      Box(P          R      mAP50  m"
     ]
    },
    {
     "name": "stdout",
     "output_type": "stream",
     "text": [
      "                   all        712       1015       0.84      0.939      0.943       0.75\n"
     ]
    },
    {
     "name": "stderr",
     "output_type": "stream",
     "text": [
      "\n"
     ]
    },
    {
     "name": "stdout",
     "output_type": "stream",
     "text": [
      "\n",
      "      Epoch    GPU_mem   box_loss   cls_loss   dfl_loss  Instances       Size\n"
     ]
    },
    {
     "name": "stderr",
     "output_type": "stream",
     "text": [
      "     46/100      2.31G     0.7238     0.5165      1.062          8        640: 1\n",
      "                 Class     Images  Instances      Box(P          R      mAP50  m"
     ]
    },
    {
     "name": "stdout",
     "output_type": "stream",
     "text": [
      "                   all        712       1015      0.875      0.924       0.95       0.76\n"
     ]
    },
    {
     "name": "stderr",
     "output_type": "stream",
     "text": [
      "\n"
     ]
    },
    {
     "name": "stdout",
     "output_type": "stream",
     "text": [
      "\n",
      "      Epoch    GPU_mem   box_loss   cls_loss   dfl_loss  Instances       Size\n"
     ]
    },
    {
     "name": "stderr",
     "output_type": "stream",
     "text": [
      "     47/100      2.32G     0.7169     0.5038      1.058          7        640: 1\n",
      "                 Class     Images  Instances      Box(P          R      mAP50  m"
     ]
    },
    {
     "name": "stdout",
     "output_type": "stream",
     "text": [
      "                   all        712       1015      0.873      0.938      0.951      0.763\n"
     ]
    },
    {
     "name": "stderr",
     "output_type": "stream",
     "text": [
      "\n"
     ]
    },
    {
     "name": "stdout",
     "output_type": "stream",
     "text": [
      "\n",
      "      Epoch    GPU_mem   box_loss   cls_loss   dfl_loss  Instances       Size\n"
     ]
    },
    {
     "name": "stderr",
     "output_type": "stream",
     "text": [
      "     48/100      2.32G     0.7236     0.5078      1.061          6        640: 1\n",
      "                 Class     Images  Instances      Box(P          R      mAP50  m"
     ]
    },
    {
     "name": "stdout",
     "output_type": "stream",
     "text": [
      "                   all        712       1015      0.881      0.957       0.95      0.742\n"
     ]
    },
    {
     "name": "stderr",
     "output_type": "stream",
     "text": [
      "\n"
     ]
    },
    {
     "name": "stdout",
     "output_type": "stream",
     "text": [
      "\n",
      "      Epoch    GPU_mem   box_loss   cls_loss   dfl_loss  Instances       Size\n"
     ]
    },
    {
     "name": "stderr",
     "output_type": "stream",
     "text": [
      "     49/100      2.33G     0.7175     0.4974      1.056          9        640: 1\n",
      "                 Class     Images  Instances      Box(P          R      mAP50  m"
     ]
    },
    {
     "name": "stdout",
     "output_type": "stream",
     "text": [
      "                   all        712       1015      0.887      0.935      0.949      0.738\n"
     ]
    },
    {
     "name": "stderr",
     "output_type": "stream",
     "text": [
      "\n"
     ]
    },
    {
     "name": "stdout",
     "output_type": "stream",
     "text": [
      "\n",
      "      Epoch    GPU_mem   box_loss   cls_loss   dfl_loss  Instances       Size\n"
     ]
    },
    {
     "name": "stderr",
     "output_type": "stream",
     "text": [
      "     50/100      2.31G     0.7116     0.4955      1.056          6        640: 1\n",
      "                 Class     Images  Instances      Box(P          R      mAP50  m"
     ]
    },
    {
     "name": "stdout",
     "output_type": "stream",
     "text": [
      "                   all        712       1015      0.901      0.918      0.946      0.751\n"
     ]
    },
    {
     "name": "stderr",
     "output_type": "stream",
     "text": [
      "\n"
     ]
    },
    {
     "name": "stdout",
     "output_type": "stream",
     "text": [
      "\n",
      "      Epoch    GPU_mem   box_loss   cls_loss   dfl_loss  Instances       Size\n"
     ]
    },
    {
     "name": "stderr",
     "output_type": "stream",
     "text": [
      "     51/100      2.32G       0.71     0.4984      1.057          8        640: 1\n",
      "                 Class     Images  Instances      Box(P          R      mAP50  m"
     ]
    },
    {
     "name": "stdout",
     "output_type": "stream",
     "text": [
      "                   all        712       1015       0.91      0.936      0.964      0.759\n"
     ]
    },
    {
     "name": "stderr",
     "output_type": "stream",
     "text": [
      "\n"
     ]
    },
    {
     "name": "stdout",
     "output_type": "stream",
     "text": [
      "\n",
      "      Epoch    GPU_mem   box_loss   cls_loss   dfl_loss  Instances       Size\n"
     ]
    },
    {
     "name": "stderr",
     "output_type": "stream",
     "text": [
      "     52/100      2.33G     0.7063     0.4874      1.051          3        640: 1\n",
      "                 Class     Images  Instances      Box(P          R      mAP50  m"
     ]
    },
    {
     "name": "stdout",
     "output_type": "stream",
     "text": [
      "                   all        712       1015      0.899      0.935      0.948       0.75\n"
     ]
    },
    {
     "name": "stderr",
     "output_type": "stream",
     "text": [
      "\n"
     ]
    },
    {
     "name": "stdout",
     "output_type": "stream",
     "text": [
      "\n",
      "      Epoch    GPU_mem   box_loss   cls_loss   dfl_loss  Instances       Size\n"
     ]
    },
    {
     "name": "stderr",
     "output_type": "stream",
     "text": [
      "     53/100      2.32G     0.6974     0.4858      1.045          7        640: 1\n",
      "                 Class     Images  Instances      Box(P          R      mAP50  m"
     ]
    },
    {
     "name": "stdout",
     "output_type": "stream",
     "text": [
      "                   all        712       1015      0.892      0.945      0.957      0.749\n"
     ]
    },
    {
     "name": "stderr",
     "output_type": "stream",
     "text": [
      "\n"
     ]
    },
    {
     "name": "stdout",
     "output_type": "stream",
     "text": [
      "\n",
      "      Epoch    GPU_mem   box_loss   cls_loss   dfl_loss  Instances       Size\n"
     ]
    },
    {
     "name": "stderr",
     "output_type": "stream",
     "text": [
      "     54/100      2.31G     0.6935     0.4769      1.046          6        640: 1\n",
      "                 Class     Images  Instances      Box(P          R      mAP50  m"
     ]
    },
    {
     "name": "stdout",
     "output_type": "stream",
     "text": [
      "                   all        712       1015      0.911      0.917       0.95      0.738\n"
     ]
    },
    {
     "name": "stderr",
     "output_type": "stream",
     "text": [
      "\n"
     ]
    },
    {
     "name": "stdout",
     "output_type": "stream",
     "text": [
      "\n",
      "      Epoch    GPU_mem   box_loss   cls_loss   dfl_loss  Instances       Size\n"
     ]
    },
    {
     "name": "stderr",
     "output_type": "stream",
     "text": [
      "     55/100      2.32G      0.701     0.4878      1.049          3        640: 1\n",
      "                 Class     Images  Instances      Box(P          R      mAP50  m"
     ]
    },
    {
     "name": "stdout",
     "output_type": "stream",
     "text": [
      "                   all        712       1015       0.88      0.957      0.953      0.741\n"
     ]
    },
    {
     "name": "stderr",
     "output_type": "stream",
     "text": [
      "\n"
     ]
    },
    {
     "name": "stdout",
     "output_type": "stream",
     "text": [
      "\n",
      "      Epoch    GPU_mem   box_loss   cls_loss   dfl_loss  Instances       Size\n"
     ]
    },
    {
     "name": "stderr",
     "output_type": "stream",
     "text": [
      "     56/100      2.32G     0.6932     0.4784      1.044         11        640: 1\n",
      "                 Class     Images  Instances      Box(P          R      mAP50  m"
     ]
    },
    {
     "name": "stdout",
     "output_type": "stream",
     "text": [
      "                   all        712       1015      0.896      0.924       0.95       0.75\n"
     ]
    },
    {
     "name": "stderr",
     "output_type": "stream",
     "text": [
      "\n"
     ]
    },
    {
     "name": "stdout",
     "output_type": "stream",
     "text": [
      "\n",
      "      Epoch    GPU_mem   box_loss   cls_loss   dfl_loss  Instances       Size\n"
     ]
    },
    {
     "name": "stderr",
     "output_type": "stream",
     "text": [
      "     57/100      2.32G     0.6926     0.4786      1.047          3        640: 1\n",
      "                 Class     Images  Instances      Box(P          R      mAP50  m"
     ]
    },
    {
     "name": "stdout",
     "output_type": "stream",
     "text": [
      "                   all        712       1015      0.892      0.938      0.957      0.759\n"
     ]
    },
    {
     "name": "stderr",
     "output_type": "stream",
     "text": [
      "\n"
     ]
    },
    {
     "name": "stdout",
     "output_type": "stream",
     "text": [
      "\n",
      "      Epoch    GPU_mem   box_loss   cls_loss   dfl_loss  Instances       Size\n"
     ]
    },
    {
     "name": "stderr",
     "output_type": "stream",
     "text": [
      "     58/100      2.31G     0.6915     0.4806      1.049          6        640: 1\n",
      "                 Class     Images  Instances      Box(P          R      mAP50  m"
     ]
    },
    {
     "name": "stdout",
     "output_type": "stream",
     "text": [
      "                   all        712       1015      0.894      0.931      0.943      0.746\n"
     ]
    },
    {
     "name": "stderr",
     "output_type": "stream",
     "text": [
      "\n"
     ]
    },
    {
     "name": "stdout",
     "output_type": "stream",
     "text": [
      "\n",
      "      Epoch    GPU_mem   box_loss   cls_loss   dfl_loss  Instances       Size\n"
     ]
    },
    {
     "name": "stderr",
     "output_type": "stream",
     "text": [
      "     59/100      2.32G      0.695     0.4743      1.046          7        640: 1\n",
      "                 Class     Images  Instances      Box(P          R      mAP50  m"
     ]
    },
    {
     "name": "stdout",
     "output_type": "stream",
     "text": [
      "                   all        712       1015      0.919      0.922       0.96      0.757\n"
     ]
    },
    {
     "name": "stderr",
     "output_type": "stream",
     "text": [
      "\n"
     ]
    },
    {
     "name": "stdout",
     "output_type": "stream",
     "text": [
      "\n",
      "      Epoch    GPU_mem   box_loss   cls_loss   dfl_loss  Instances       Size\n"
     ]
    },
    {
     "name": "stderr",
     "output_type": "stream",
     "text": [
      "     60/100      2.32G      0.681     0.4676      1.039          4        640: 1\n",
      "                 Class     Images  Instances      Box(P          R      mAP50  m"
     ]
    },
    {
     "name": "stdout",
     "output_type": "stream",
     "text": [
      "                   all        712       1015      0.895      0.933      0.946      0.755\n"
     ]
    },
    {
     "name": "stderr",
     "output_type": "stream",
     "text": [
      "\n"
     ]
    },
    {
     "name": "stdout",
     "output_type": "stream",
     "text": [
      "\n",
      "      Epoch    GPU_mem   box_loss   cls_loss   dfl_loss  Instances       Size\n"
     ]
    },
    {
     "name": "stderr",
     "output_type": "stream",
     "text": [
      "     61/100      2.32G     0.6829     0.4723      1.039          5        640: 1\n",
      "                 Class     Images  Instances      Box(P          R      mAP50  m"
     ]
    },
    {
     "name": "stdout",
     "output_type": "stream",
     "text": [
      "                   all        712       1015      0.868      0.955      0.952      0.764\n"
     ]
    },
    {
     "name": "stderr",
     "output_type": "stream",
     "text": [
      "\n"
     ]
    },
    {
     "name": "stdout",
     "output_type": "stream",
     "text": [
      "\n",
      "      Epoch    GPU_mem   box_loss   cls_loss   dfl_loss  Instances       Size\n"
     ]
    },
    {
     "name": "stderr",
     "output_type": "stream",
     "text": [
      "     62/100      2.31G     0.6769     0.4669      1.036          2        640: 1\n",
      "                 Class     Images  Instances      Box(P          R      mAP50  m"
     ]
    },
    {
     "name": "stdout",
     "output_type": "stream",
     "text": [
      "                   all        712       1015      0.863      0.943      0.941      0.744\n"
     ]
    },
    {
     "name": "stderr",
     "output_type": "stream",
     "text": [
      "\n"
     ]
    },
    {
     "name": "stdout",
     "output_type": "stream",
     "text": [
      "\n",
      "      Epoch    GPU_mem   box_loss   cls_loss   dfl_loss  Instances       Size\n"
     ]
    },
    {
     "name": "stderr",
     "output_type": "stream",
     "text": [
      "     63/100      2.32G     0.6707     0.4686      1.034          4        640: 1\n",
      "                 Class     Images  Instances      Box(P          R      mAP50  m"
     ]
    },
    {
     "name": "stdout",
     "output_type": "stream",
     "text": [
      "                   all        712       1015      0.905      0.915       0.94      0.753\n"
     ]
    },
    {
     "name": "stderr",
     "output_type": "stream",
     "text": [
      "\n"
     ]
    },
    {
     "name": "stdout",
     "output_type": "stream",
     "text": [
      "\n",
      "      Epoch    GPU_mem   box_loss   cls_loss   dfl_loss  Instances       Size\n"
     ]
    },
    {
     "name": "stderr",
     "output_type": "stream",
     "text": [
      "     64/100      2.32G     0.6754     0.4693      1.033          2        640: 1\n",
      "                 Class     Images  Instances      Box(P          R      mAP50  m"
     ]
    },
    {
     "name": "stdout",
     "output_type": "stream",
     "text": [
      "                   all        712       1015      0.896       0.91      0.947       0.75\n"
     ]
    },
    {
     "name": "stderr",
     "output_type": "stream",
     "text": [
      "\n"
     ]
    },
    {
     "name": "stdout",
     "output_type": "stream",
     "text": [
      "\n",
      "      Epoch    GPU_mem   box_loss   cls_loss   dfl_loss  Instances       Size\n"
     ]
    },
    {
     "name": "stderr",
     "output_type": "stream",
     "text": [
      "     65/100      2.32G     0.6745      0.461      1.034          6        640: 1\n",
      "                 Class     Images  Instances      Box(P          R      mAP50  m"
     ]
    },
    {
     "name": "stdout",
     "output_type": "stream",
     "text": [
      "                   all        712       1015      0.914      0.936       0.96      0.753\n"
     ]
    },
    {
     "name": "stderr",
     "output_type": "stream",
     "text": [
      "\n"
     ]
    },
    {
     "name": "stdout",
     "output_type": "stream",
     "text": [
      "\n",
      "      Epoch    GPU_mem   box_loss   cls_loss   dfl_loss  Instances       Size\n"
     ]
    },
    {
     "name": "stderr",
     "output_type": "stream",
     "text": [
      "     66/100      2.31G     0.6583     0.4485      1.027          7        640: 1\n",
      "                 Class     Images  Instances      Box(P          R      mAP50  m"
     ]
    },
    {
     "name": "stdout",
     "output_type": "stream",
     "text": [
      "                   all        712       1015      0.895      0.915      0.946      0.757\n"
     ]
    },
    {
     "name": "stderr",
     "output_type": "stream",
     "text": [
      "\n"
     ]
    },
    {
     "name": "stdout",
     "output_type": "stream",
     "text": [
      "\n",
      "      Epoch    GPU_mem   box_loss   cls_loss   dfl_loss  Instances       Size\n"
     ]
    },
    {
     "name": "stderr",
     "output_type": "stream",
     "text": [
      "     67/100      2.32G     0.6681     0.4587      1.035          4        640: 1\n",
      "                 Class     Images  Instances      Box(P          R      mAP50  m"
     ]
    },
    {
     "name": "stdout",
     "output_type": "stream",
     "text": [
      "                   all        712       1015      0.875      0.916      0.945      0.752\n"
     ]
    },
    {
     "name": "stderr",
     "output_type": "stream",
     "text": [
      "\n"
     ]
    },
    {
     "name": "stdout",
     "output_type": "stream",
     "text": [
      "\n",
      "      Epoch    GPU_mem   box_loss   cls_loss   dfl_loss  Instances       Size\n"
     ]
    },
    {
     "name": "stderr",
     "output_type": "stream",
     "text": [
      "     68/100      2.32G     0.6646     0.4649      1.036          3        640: 1\n",
      "                 Class     Images  Instances      Box(P          R      mAP50  m"
     ]
    },
    {
     "name": "stdout",
     "output_type": "stream",
     "text": [
      "                   all        712       1015      0.886      0.907      0.942      0.761\n"
     ]
    },
    {
     "name": "stderr",
     "output_type": "stream",
     "text": [
      "\n"
     ]
    },
    {
     "name": "stdout",
     "output_type": "stream",
     "text": [
      "\n",
      "      Epoch    GPU_mem   box_loss   cls_loss   dfl_loss  Instances       Size\n"
     ]
    },
    {
     "name": "stderr",
     "output_type": "stream",
     "text": [
      "     69/100      2.32G      0.662     0.4544      1.024          5        640: 1\n",
      "                 Class     Images  Instances      Box(P          R      mAP50  m"
     ]
    },
    {
     "name": "stdout",
     "output_type": "stream",
     "text": [
      "                   all        712       1015      0.901      0.918      0.942      0.751\n"
     ]
    },
    {
     "name": "stderr",
     "output_type": "stream",
     "text": [
      "\n"
     ]
    },
    {
     "name": "stdout",
     "output_type": "stream",
     "text": [
      "\n",
      "      Epoch    GPU_mem   box_loss   cls_loss   dfl_loss  Instances       Size\n"
     ]
    },
    {
     "name": "stderr",
     "output_type": "stream",
     "text": [
      "     70/100      2.31G     0.6522      0.449      1.028          7        640: 1\n",
      "                 Class     Images  Instances      Box(P          R      mAP50  m"
     ]
    },
    {
     "name": "stdout",
     "output_type": "stream",
     "text": [
      "                   all        712       1015      0.875      0.935      0.942      0.752\n"
     ]
    },
    {
     "name": "stderr",
     "output_type": "stream",
     "text": [
      "\n"
     ]
    },
    {
     "name": "stdout",
     "output_type": "stream",
     "text": [
      "\n",
      "      Epoch    GPU_mem   box_loss   cls_loss   dfl_loss  Instances       Size\n"
     ]
    },
    {
     "name": "stderr",
     "output_type": "stream",
     "text": [
      "     71/100      2.32G      0.643     0.4476      1.024          3        640: 1\n",
      "                 Class     Images  Instances      Box(P          R      mAP50  m"
     ]
    },
    {
     "name": "stdout",
     "output_type": "stream",
     "text": [
      "                   all        712       1015      0.893      0.925      0.946       0.76\n"
     ]
    },
    {
     "name": "stderr",
     "output_type": "stream",
     "text": [
      "\n"
     ]
    },
    {
     "name": "stdout",
     "output_type": "stream",
     "text": [
      "\n",
      "      Epoch    GPU_mem   box_loss   cls_loss   dfl_loss  Instances       Size\n"
     ]
    },
    {
     "name": "stderr",
     "output_type": "stream",
     "text": [
      "     72/100      2.33G      0.655     0.4503      1.023          4        640: 1\n",
      "                 Class     Images  Instances      Box(P          R      mAP50  m"
     ]
    },
    {
     "name": "stdout",
     "output_type": "stream",
     "text": [
      "                   all        712       1015      0.898      0.897      0.938      0.757\n"
     ]
    },
    {
     "name": "stderr",
     "output_type": "stream",
     "text": [
      "\n"
     ]
    },
    {
     "name": "stdout",
     "output_type": "stream",
     "text": [
      "\n",
      "      Epoch    GPU_mem   box_loss   cls_loss   dfl_loss  Instances       Size\n"
     ]
    },
    {
     "name": "stderr",
     "output_type": "stream",
     "text": [
      "     73/100      2.32G     0.6469     0.4472      1.023          8        640: 1\n",
      "                 Class     Images  Instances      Box(P          R      mAP50  m"
     ]
    },
    {
     "name": "stdout",
     "output_type": "stream",
     "text": [
      "                   all        712       1015      0.873      0.959      0.947      0.746\n"
     ]
    },
    {
     "name": "stderr",
     "output_type": "stream",
     "text": [
      "\n"
     ]
    },
    {
     "name": "stdout",
     "output_type": "stream",
     "text": [
      "\n",
      "      Epoch    GPU_mem   box_loss   cls_loss   dfl_loss  Instances       Size\n"
     ]
    },
    {
     "name": "stderr",
     "output_type": "stream",
     "text": [
      "     74/100      2.31G     0.6456     0.4431       1.02          5        640: 1\n",
      "                 Class     Images  Instances      Box(P          R      mAP50  m"
     ]
    },
    {
     "name": "stdout",
     "output_type": "stream",
     "text": [
      "                   all        712       1015      0.905      0.906      0.942      0.755\n"
     ]
    },
    {
     "name": "stderr",
     "output_type": "stream",
     "text": [
      "\n"
     ]
    },
    {
     "name": "stdout",
     "output_type": "stream",
     "text": [
      "\n",
      "      Epoch    GPU_mem   box_loss   cls_loss   dfl_loss  Instances       Size\n"
     ]
    },
    {
     "name": "stderr",
     "output_type": "stream",
     "text": [
      "     75/100      2.32G     0.6498     0.4371      1.023          7        640: 1\n",
      "                 Class     Images  Instances      Box(P          R      mAP50  m"
     ]
    },
    {
     "name": "stdout",
     "output_type": "stream",
     "text": [
      "                   all        712       1015      0.898      0.896       0.94      0.753\n"
     ]
    },
    {
     "name": "stderr",
     "output_type": "stream",
     "text": [
      "\n"
     ]
    },
    {
     "name": "stdout",
     "output_type": "stream",
     "text": [
      "\n",
      "      Epoch    GPU_mem   box_loss   cls_loss   dfl_loss  Instances       Size\n"
     ]
    },
    {
     "name": "stderr",
     "output_type": "stream",
     "text": [
      "     76/100      2.32G     0.6431     0.4388      1.023          4        640: 1\n",
      "                 Class     Images  Instances      Box(P          R      mAP50  m"
     ]
    },
    {
     "name": "stdout",
     "output_type": "stream",
     "text": [
      "                   all        712       1015      0.881      0.933      0.949      0.755\n"
     ]
    },
    {
     "name": "stderr",
     "output_type": "stream",
     "text": [
      "\n"
     ]
    },
    {
     "name": "stdout",
     "output_type": "stream",
     "text": [
      "\n",
      "      Epoch    GPU_mem   box_loss   cls_loss   dfl_loss  Instances       Size\n"
     ]
    },
    {
     "name": "stderr",
     "output_type": "stream",
     "text": [
      "     77/100      2.32G     0.6366     0.4323      1.017          5        640: 1\n",
      "                 Class     Images  Instances      Box(P          R      mAP50  m"
     ]
    },
    {
     "name": "stdout",
     "output_type": "stream",
     "text": [
      "                   all        712       1015      0.908      0.873      0.937      0.753\n"
     ]
    },
    {
     "name": "stderr",
     "output_type": "stream",
     "text": [
      "\n"
     ]
    },
    {
     "name": "stdout",
     "output_type": "stream",
     "text": [
      "\n",
      "      Epoch    GPU_mem   box_loss   cls_loss   dfl_loss  Instances       Size\n"
     ]
    },
    {
     "name": "stderr",
     "output_type": "stream",
     "text": [
      "     78/100      2.32G      0.635     0.4295      1.012          5        640: 1\n",
      "                 Class     Images  Instances      Box(P          R      mAP50  m"
     ]
    },
    {
     "name": "stdout",
     "output_type": "stream",
     "text": [
      "                   all        712       1015      0.918      0.907      0.953      0.761\n"
     ]
    },
    {
     "name": "stderr",
     "output_type": "stream",
     "text": [
      "\n"
     ]
    },
    {
     "name": "stdout",
     "output_type": "stream",
     "text": [
      "\n",
      "      Epoch    GPU_mem   box_loss   cls_loss   dfl_loss  Instances       Size\n"
     ]
    },
    {
     "name": "stderr",
     "output_type": "stream",
     "text": [
      "     79/100      2.32G     0.6371     0.4288      1.016          6        640: 1\n",
      "                 Class     Images  Instances      Box(P          R      mAP50  m"
     ]
    },
    {
     "name": "stdout",
     "output_type": "stream",
     "text": [
      "                   all        712       1015      0.883      0.956      0.953      0.756\n"
     ]
    },
    {
     "name": "stderr",
     "output_type": "stream",
     "text": [
      "\n"
     ]
    },
    {
     "name": "stdout",
     "output_type": "stream",
     "text": [
      "\n",
      "      Epoch    GPU_mem   box_loss   cls_loss   dfl_loss  Instances       Size\n"
     ]
    },
    {
     "name": "stderr",
     "output_type": "stream",
     "text": [
      "     80/100      2.32G     0.6283     0.4236      1.016          4        640: 1\n",
      "                 Class     Images  Instances      Box(P          R      mAP50  m"
     ]
    },
    {
     "name": "stdout",
     "output_type": "stream",
     "text": [
      "                   all        712       1015      0.905      0.942      0.948      0.746\n"
     ]
    },
    {
     "name": "stderr",
     "output_type": "stream",
     "text": [
      "\n"
     ]
    },
    {
     "name": "stdout",
     "output_type": "stream",
     "text": [
      "\n",
      "      Epoch    GPU_mem   box_loss   cls_loss   dfl_loss  Instances       Size\n"
     ]
    },
    {
     "name": "stderr",
     "output_type": "stream",
     "text": [
      "     81/100      2.32G     0.6214      0.423      1.009          5        640: 1\n",
      "                 Class     Images  Instances      Box(P          R      mAP50  m"
     ]
    },
    {
     "name": "stdout",
     "output_type": "stream",
     "text": [
      "                   all        712       1015      0.917       0.94       0.95       0.76\n"
     ]
    },
    {
     "name": "stderr",
     "output_type": "stream",
     "text": [
      "\n"
     ]
    },
    {
     "name": "stdout",
     "output_type": "stream",
     "text": [
      "\n",
      "      Epoch    GPU_mem   box_loss   cls_loss   dfl_loss  Instances       Size\n"
     ]
    },
    {
     "name": "stderr",
     "output_type": "stream",
     "text": [
      "     82/100      2.31G     0.6249     0.4227      1.014         10        640: 1\n",
      "                 Class     Images  Instances      Box(P          R      mAP50  m"
     ]
    },
    {
     "name": "stdout",
     "output_type": "stream",
     "text": [
      "                   all        712       1015      0.907      0.931      0.947      0.752\n"
     ]
    },
    {
     "name": "stderr",
     "output_type": "stream",
     "text": [
      "\n"
     ]
    },
    {
     "name": "stdout",
     "output_type": "stream",
     "text": [
      "\n",
      "      Epoch    GPU_mem   box_loss   cls_loss   dfl_loss  Instances       Size\n"
     ]
    },
    {
     "name": "stderr",
     "output_type": "stream",
     "text": [
      "     83/100      2.32G      0.624     0.4256      1.014          5        640: 1\n",
      "                 Class     Images  Instances      Box(P          R      mAP50  m"
     ]
    },
    {
     "name": "stdout",
     "output_type": "stream",
     "text": [
      "                   all        712       1015      0.891      0.944      0.958      0.767\n"
     ]
    },
    {
     "name": "stderr",
     "output_type": "stream",
     "text": [
      "\n"
     ]
    },
    {
     "name": "stdout",
     "output_type": "stream",
     "text": [
      "\n",
      "      Epoch    GPU_mem   box_loss   cls_loss   dfl_loss  Instances       Size\n"
     ]
    },
    {
     "name": "stderr",
     "output_type": "stream",
     "text": [
      "     84/100      2.32G     0.6199     0.4155       1.01          5        640: 1\n",
      "                 Class     Images  Instances      Box(P          R      mAP50  m"
     ]
    },
    {
     "name": "stdout",
     "output_type": "stream",
     "text": [
      "                   all        712       1015      0.875      0.955      0.949      0.758\n"
     ]
    },
    {
     "name": "stderr",
     "output_type": "stream",
     "text": [
      "\n"
     ]
    },
    {
     "name": "stdout",
     "output_type": "stream",
     "text": [
      "\n",
      "      Epoch    GPU_mem   box_loss   cls_loss   dfl_loss  Instances       Size\n"
     ]
    },
    {
     "name": "stderr",
     "output_type": "stream",
     "text": [
      "     85/100      2.34G     0.6168     0.4214      1.011          2        640: 1\n",
      "                 Class     Images  Instances      Box(P          R      mAP50  m"
     ]
    },
    {
     "name": "stdout",
     "output_type": "stream",
     "text": [
      "                   all        712       1015      0.905      0.927      0.942      0.758\n"
     ]
    },
    {
     "name": "stderr",
     "output_type": "stream",
     "text": [
      "\n"
     ]
    },
    {
     "name": "stdout",
     "output_type": "stream",
     "text": [
      "\n",
      "      Epoch    GPU_mem   box_loss   cls_loss   dfl_loss  Instances       Size\n"
     ]
    },
    {
     "name": "stderr",
     "output_type": "stream",
     "text": [
      "     86/100      2.31G      0.609     0.4101      1.005          6        640: 1\n",
      "                 Class     Images  Instances      Box(P          R      mAP50  m"
     ]
    },
    {
     "name": "stdout",
     "output_type": "stream",
     "text": [
      "                   all        712       1015      0.906      0.927      0.945      0.762\n"
     ]
    },
    {
     "name": "stderr",
     "output_type": "stream",
     "text": [
      "\n"
     ]
    },
    {
     "name": "stdout",
     "output_type": "stream",
     "text": [
      "\n",
      "      Epoch    GPU_mem   box_loss   cls_loss   dfl_loss  Instances       Size\n"
     ]
    },
    {
     "name": "stderr",
     "output_type": "stream",
     "text": [
      "     87/100      2.32G     0.6095     0.4103      1.008          4        640: 1\n",
      "                 Class     Images  Instances      Box(P          R      mAP50  m"
     ]
    },
    {
     "name": "stdout",
     "output_type": "stream",
     "text": [
      "                   all        712       1015      0.889      0.931      0.941      0.758\n"
     ]
    },
    {
     "name": "stderr",
     "output_type": "stream",
     "text": [
      "\n"
     ]
    },
    {
     "name": "stdout",
     "output_type": "stream",
     "text": [
      "\n",
      "      Epoch    GPU_mem   box_loss   cls_loss   dfl_loss  Instances       Size\n"
     ]
    },
    {
     "name": "stderr",
     "output_type": "stream",
     "text": [
      "     88/100      2.33G     0.6176     0.4061      1.011          3        640: 1\n",
      "                 Class     Images  Instances      Box(P          R      mAP50  m"
     ]
    },
    {
     "name": "stdout",
     "output_type": "stream",
     "text": [
      "                   all        712       1015      0.912      0.922      0.944      0.761\n"
     ]
    },
    {
     "name": "stderr",
     "output_type": "stream",
     "text": [
      "\n"
     ]
    },
    {
     "name": "stdout",
     "output_type": "stream",
     "text": [
      "\n",
      "      Epoch    GPU_mem   box_loss   cls_loss   dfl_loss  Instances       Size\n"
     ]
    },
    {
     "name": "stderr",
     "output_type": "stream",
     "text": [
      "     89/100      2.32G     0.6127     0.4078      1.003          7        640: 1\n",
      "                 Class     Images  Instances      Box(P          R      mAP50  m"
     ]
    },
    {
     "name": "stdout",
     "output_type": "stream",
     "text": [
      "                   all        712       1015      0.885      0.952      0.947      0.766\n"
     ]
    },
    {
     "name": "stderr",
     "output_type": "stream",
     "text": [
      "\n"
     ]
    },
    {
     "name": "stdout",
     "output_type": "stream",
     "text": [
      "\n",
      "      Epoch    GPU_mem   box_loss   cls_loss   dfl_loss  Instances       Size\n"
     ]
    },
    {
     "name": "stderr",
     "output_type": "stream",
     "text": [
      "     90/100      2.33G     0.6013     0.4008     0.9994          5        640: 1\n",
      "                 Class     Images  Instances      Box(P          R      mAP50  m"
     ]
    },
    {
     "name": "stdout",
     "output_type": "stream",
     "text": [
      "                   all        712       1015      0.918      0.919      0.943      0.761\n"
     ]
    },
    {
     "name": "stderr",
     "output_type": "stream",
     "text": [
      "\n"
     ]
    },
    {
     "name": "stdout",
     "output_type": "stream",
     "text": [
      "Closing dataloader mosaic\n",
      "\n",
      "      Epoch    GPU_mem   box_loss   cls_loss   dfl_loss  Instances       Size\n"
     ]
    },
    {
     "name": "stderr",
     "output_type": "stream",
     "text": [
      "     91/100      2.32G     0.5724     0.3535      1.002          3        640: 1\n",
      "                 Class     Images  Instances      Box(P          R      mAP50  m"
     ]
    },
    {
     "name": "stdout",
     "output_type": "stream",
     "text": [
      "                   all        712       1015      0.913      0.926      0.945      0.757\n"
     ]
    },
    {
     "name": "stderr",
     "output_type": "stream",
     "text": [
      "\n"
     ]
    },
    {
     "name": "stdout",
     "output_type": "stream",
     "text": [
      "\n",
      "      Epoch    GPU_mem   box_loss   cls_loss   dfl_loss  Instances       Size\n"
     ]
    },
    {
     "name": "stderr",
     "output_type": "stream",
     "text": [
      "     92/100      2.32G     0.5552     0.3396     0.9868          3        640: 1\n",
      "                 Class     Images  Instances      Box(P          R      mAP50  m"
     ]
    },
    {
     "name": "stdout",
     "output_type": "stream",
     "text": [
      "                   all        712       1015      0.899      0.932      0.942      0.761\n"
     ]
    },
    {
     "name": "stderr",
     "output_type": "stream",
     "text": [
      "\n"
     ]
    },
    {
     "name": "stdout",
     "output_type": "stream",
     "text": [
      "\n",
      "      Epoch    GPU_mem   box_loss   cls_loss   dfl_loss  Instances       Size\n"
     ]
    },
    {
     "name": "stderr",
     "output_type": "stream",
     "text": [
      "     93/100      2.32G      0.553     0.3377     0.9855          4        640: 1\n",
      "                 Class     Images  Instances      Box(P          R      mAP50  m"
     ]
    },
    {
     "name": "stdout",
     "output_type": "stream",
     "text": [
      "                   all        712       1015      0.897      0.926      0.942      0.761\n"
     ]
    },
    {
     "name": "stderr",
     "output_type": "stream",
     "text": [
      "\n"
     ]
    },
    {
     "name": "stdout",
     "output_type": "stream",
     "text": [
      "\n",
      "      Epoch    GPU_mem   box_loss   cls_loss   dfl_loss  Instances       Size\n"
     ]
    },
    {
     "name": "stderr",
     "output_type": "stream",
     "text": [
      "     94/100      2.31G      0.548     0.3333     0.9854          3        640: 1\n",
      "                 Class     Images  Instances      Box(P          R      mAP50  m"
     ]
    },
    {
     "name": "stdout",
     "output_type": "stream",
     "text": [
      "                   all        712       1015      0.895      0.926      0.944      0.762\n"
     ]
    },
    {
     "name": "stderr",
     "output_type": "stream",
     "text": [
      "\n"
     ]
    },
    {
     "name": "stdout",
     "output_type": "stream",
     "text": [
      "\n",
      "      Epoch    GPU_mem   box_loss   cls_loss   dfl_loss  Instances       Size\n"
     ]
    },
    {
     "name": "stderr",
     "output_type": "stream",
     "text": [
      "     95/100      2.32G     0.5475     0.3305     0.9869          2        640: 1\n",
      "                 Class     Images  Instances      Box(P          R      mAP50  m"
     ]
    },
    {
     "name": "stdout",
     "output_type": "stream",
     "text": [
      "                   all        712       1015      0.888      0.923      0.945      0.771\n"
     ]
    },
    {
     "name": "stderr",
     "output_type": "stream",
     "text": [
      "\n"
     ]
    },
    {
     "name": "stdout",
     "output_type": "stream",
     "text": [
      "\n",
      "      Epoch    GPU_mem   box_loss   cls_loss   dfl_loss  Instances       Size\n"
     ]
    },
    {
     "name": "stderr",
     "output_type": "stream",
     "text": [
      "     96/100      2.32G     0.5404     0.3295     0.9832          3        640: 1\n",
      "                 Class     Images  Instances      Box(P          R      mAP50  m"
     ]
    },
    {
     "name": "stdout",
     "output_type": "stream",
     "text": [
      "                   all        712       1015      0.872      0.946      0.942      0.762\n"
     ]
    },
    {
     "name": "stderr",
     "output_type": "stream",
     "text": [
      "\n"
     ]
    },
    {
     "name": "stdout",
     "output_type": "stream",
     "text": [
      "\n",
      "      Epoch    GPU_mem   box_loss   cls_loss   dfl_loss  Instances       Size\n"
     ]
    },
    {
     "name": "stderr",
     "output_type": "stream",
     "text": [
      "     97/100      2.32G     0.5364     0.3221     0.9745          2        640: 1\n",
      "                 Class     Images  Instances      Box(P          R      mAP50  m"
     ]
    },
    {
     "name": "stdout",
     "output_type": "stream",
     "text": [
      "                   all        712       1015      0.867      0.948      0.946      0.765\n"
     ]
    },
    {
     "name": "stderr",
     "output_type": "stream",
     "text": [
      "\n"
     ]
    },
    {
     "name": "stdout",
     "output_type": "stream",
     "text": [
      "\n",
      "      Epoch    GPU_mem   box_loss   cls_loss   dfl_loss  Instances       Size\n"
     ]
    },
    {
     "name": "stderr",
     "output_type": "stream",
     "text": [
      "     98/100      2.31G     0.5305     0.3183      0.975          2        640: 1\n",
      "                 Class     Images  Instances      Box(P          R      mAP50  m"
     ]
    },
    {
     "name": "stdout",
     "output_type": "stream",
     "text": [
      "                   all        712       1015      0.899      0.912      0.944      0.763\n"
     ]
    },
    {
     "name": "stderr",
     "output_type": "stream",
     "text": [
      "\n"
     ]
    },
    {
     "name": "stdout",
     "output_type": "stream",
     "text": [
      "\n",
      "      Epoch    GPU_mem   box_loss   cls_loss   dfl_loss  Instances       Size\n"
     ]
    },
    {
     "name": "stderr",
     "output_type": "stream",
     "text": [
      "     99/100      2.32G     0.5331     0.3234     0.9757          2        640: 1\n",
      "                 Class     Images  Instances      Box(P          R      mAP50  m"
     ]
    },
    {
     "name": "stdout",
     "output_type": "stream",
     "text": [
      "                   all        712       1015      0.899      0.917      0.943      0.763\n"
     ]
    },
    {
     "name": "stderr",
     "output_type": "stream",
     "text": [
      "\n"
     ]
    },
    {
     "name": "stdout",
     "output_type": "stream",
     "text": [
      "\n",
      "      Epoch    GPU_mem   box_loss   cls_loss   dfl_loss  Instances       Size\n"
     ]
    },
    {
     "name": "stderr",
     "output_type": "stream",
     "text": [
      "    100/100      2.32G     0.5301     0.3186     0.9736          4        640: 1\n",
      "                 Class     Images  Instances      Box(P          R      mAP50  m"
     ]
    },
    {
     "name": "stdout",
     "output_type": "stream",
     "text": [
      "                   all        712       1015        0.9      0.913      0.943      0.761\n"
     ]
    },
    {
     "name": "stderr",
     "output_type": "stream",
     "text": [
      "\n"
     ]
    },
    {
     "name": "stdout",
     "output_type": "stream",
     "text": [
      "\n",
      "100 epochs completed in 1.132 hours.\n",
      "Optimizer stripped from runs/detect/train21/weights/last.pt, 6.3MB\n",
      "Optimizer stripped from runs/detect/train21/weights/best.pt, 6.3MB\n",
      "\n",
      "Validating runs/detect/train21/weights/best.pt...\n",
      "Ultralytics YOLOv8.0.227 🚀 Python-3.8.18 torch-2.1.0+cu121 CUDA:0 (NVIDIA GeForce RTX 2080, 7974MiB)\n",
      "Model summary (fused): 168 layers, 3006623 parameters, 0 gradients, 8.1 GFLOPs\n"
     ]
    },
    {
     "name": "stderr",
     "output_type": "stream",
     "text": [
      "                 Class     Images  Instances      Box(P          R      mAP50  m\n"
     ]
    },
    {
     "name": "stdout",
     "output_type": "stream",
     "text": [
      "                   all        712       1015      0.888      0.923      0.945      0.771\n",
      "                  bell        712         13       0.72      0.923      0.895      0.739\n",
      "                  card        712        406      0.947      0.931      0.967      0.753\n",
      "                  door        712        430      0.922      0.891       0.95      0.781\n",
      "                  pink        712         79      0.891      0.962      0.967       0.82\n",
      "                yellow        712         87       0.96      0.908      0.945      0.759\n",
      "Speed: 0.2ms preprocess, 1.3ms inference, 0.0ms loss, 1.9ms postprocess per image\n",
      "Results saved to \u001b[1mruns/detect/train21\u001b[0m\n"
     ]
    },
    {
     "data": {
      "text/plain": [
       "ultralytics.utils.metrics.DetMetrics object with attributes:\n",
       "\n",
       "ap_class_index: array([0, 1, 2, 3, 4])\n",
       "box: ultralytics.utils.metrics.Metric object\n",
       "confusion_matrix: <ultralytics.utils.metrics.ConfusionMatrix object at 0x7f1b5c6ada60>\n",
       "curves: ['Precision-Recall(B)', 'F1-Confidence(B)', 'Precision-Confidence(B)', 'Recall-Confidence(B)']\n",
       "curves_results: [[array([          0,    0.001001,    0.002002,    0.003003,    0.004004,    0.005005,    0.006006,    0.007007,    0.008008,    0.009009,     0.01001,    0.011011,    0.012012,    0.013013,    0.014014,    0.015015,    0.016016,    0.017017,    0.018018,    0.019019,     0.02002,    0.021021,    0.022022,    0.023023,\n",
       "          0.024024,    0.025025,    0.026026,    0.027027,    0.028028,    0.029029,     0.03003,    0.031031,    0.032032,    0.033033,    0.034034,    0.035035,    0.036036,    0.037037,    0.038038,    0.039039,     0.04004,    0.041041,    0.042042,    0.043043,    0.044044,    0.045045,    0.046046,    0.047047,\n",
       "          0.048048,    0.049049,     0.05005,    0.051051,    0.052052,    0.053053,    0.054054,    0.055055,    0.056056,    0.057057,    0.058058,    0.059059,     0.06006,    0.061061,    0.062062,    0.063063,    0.064064,    0.065065,    0.066066,    0.067067,    0.068068,    0.069069,     0.07007,    0.071071,\n",
       "          0.072072,    0.073073,    0.074074,    0.075075,    0.076076,    0.077077,    0.078078,    0.079079,     0.08008,    0.081081,    0.082082,    0.083083,    0.084084,    0.085085,    0.086086,    0.087087,    0.088088,    0.089089,     0.09009,    0.091091,    0.092092,    0.093093,    0.094094,    0.095095,\n",
       "          0.096096,    0.097097,    0.098098,    0.099099,      0.1001,      0.1011,      0.1021,      0.1031,      0.1041,     0.10511,     0.10611,     0.10711,     0.10811,     0.10911,     0.11011,     0.11111,     0.11211,     0.11311,     0.11411,     0.11512,     0.11612,     0.11712,     0.11812,     0.11912,\n",
       "           0.12012,     0.12112,     0.12212,     0.12312,     0.12412,     0.12513,     0.12613,     0.12713,     0.12813,     0.12913,     0.13013,     0.13113,     0.13213,     0.13313,     0.13413,     0.13514,     0.13614,     0.13714,     0.13814,     0.13914,     0.14014,     0.14114,     0.14214,     0.14314,\n",
       "           0.14414,     0.14515,     0.14615,     0.14715,     0.14815,     0.14915,     0.15015,     0.15115,     0.15215,     0.15315,     0.15415,     0.15516,     0.15616,     0.15716,     0.15816,     0.15916,     0.16016,     0.16116,     0.16216,     0.16316,     0.16416,     0.16517,     0.16617,     0.16717,\n",
       "           0.16817,     0.16917,     0.17017,     0.17117,     0.17217,     0.17317,     0.17417,     0.17518,     0.17618,     0.17718,     0.17818,     0.17918,     0.18018,     0.18118,     0.18218,     0.18318,     0.18418,     0.18519,     0.18619,     0.18719,     0.18819,     0.18919,     0.19019,     0.19119,\n",
       "           0.19219,     0.19319,     0.19419,      0.1952,      0.1962,      0.1972,      0.1982,      0.1992,      0.2002,      0.2012,      0.2022,      0.2032,      0.2042,     0.20521,     0.20621,     0.20721,     0.20821,     0.20921,     0.21021,     0.21121,     0.21221,     0.21321,     0.21421,     0.21522,\n",
       "           0.21622,     0.21722,     0.21822,     0.21922,     0.22022,     0.22122,     0.22222,     0.22322,     0.22422,     0.22523,     0.22623,     0.22723,     0.22823,     0.22923,     0.23023,     0.23123,     0.23223,     0.23323,     0.23423,     0.23524,     0.23624,     0.23724,     0.23824,     0.23924,\n",
       "           0.24024,     0.24124,     0.24224,     0.24324,     0.24424,     0.24525,     0.24625,     0.24725,     0.24825,     0.24925,     0.25025,     0.25125,     0.25225,     0.25325,     0.25425,     0.25526,     0.25626,     0.25726,     0.25826,     0.25926,     0.26026,     0.26126,     0.26226,     0.26326,\n",
       "           0.26426,     0.26527,     0.26627,     0.26727,     0.26827,     0.26927,     0.27027,     0.27127,     0.27227,     0.27327,     0.27427,     0.27528,     0.27628,     0.27728,     0.27828,     0.27928,     0.28028,     0.28128,     0.28228,     0.28328,     0.28428,     0.28529,     0.28629,     0.28729,\n",
       "           0.28829,     0.28929,     0.29029,     0.29129,     0.29229,     0.29329,     0.29429,      0.2953,      0.2963,      0.2973,      0.2983,      0.2993,      0.3003,      0.3013,      0.3023,      0.3033,      0.3043,     0.30531,     0.30631,     0.30731,     0.30831,     0.30931,     0.31031,     0.31131,\n",
       "           0.31231,     0.31331,     0.31431,     0.31532,     0.31632,     0.31732,     0.31832,     0.31932,     0.32032,     0.32132,     0.32232,     0.32332,     0.32432,     0.32533,     0.32633,     0.32733,     0.32833,     0.32933,     0.33033,     0.33133,     0.33233,     0.33333,     0.33433,     0.33534,\n",
       "           0.33634,     0.33734,     0.33834,     0.33934,     0.34034,     0.34134,     0.34234,     0.34334,     0.34434,     0.34535,     0.34635,     0.34735,     0.34835,     0.34935,     0.35035,     0.35135,     0.35235,     0.35335,     0.35435,     0.35536,     0.35636,     0.35736,     0.35836,     0.35936,\n",
       "           0.36036,     0.36136,     0.36236,     0.36336,     0.36436,     0.36537,     0.36637,     0.36737,     0.36837,     0.36937,     0.37037,     0.37137,     0.37237,     0.37337,     0.37437,     0.37538,     0.37638,     0.37738,     0.37838,     0.37938,     0.38038,     0.38138,     0.38238,     0.38338,\n",
       "           0.38438,     0.38539,     0.38639,     0.38739,     0.38839,     0.38939,     0.39039,     0.39139,     0.39239,     0.39339,     0.39439,      0.3954,      0.3964,      0.3974,      0.3984,      0.3994,      0.4004,      0.4014,      0.4024,      0.4034,      0.4044,     0.40541,     0.40641,     0.40741,\n",
       "           0.40841,     0.40941,     0.41041,     0.41141,     0.41241,     0.41341,     0.41441,     0.41542,     0.41642,     0.41742,     0.41842,     0.41942,     0.42042,     0.42142,     0.42242,     0.42342,     0.42442,     0.42543,     0.42643,     0.42743,     0.42843,     0.42943,     0.43043,     0.43143,\n",
       "           0.43243,     0.43343,     0.43443,     0.43544,     0.43644,     0.43744,     0.43844,     0.43944,     0.44044,     0.44144,     0.44244,     0.44344,     0.44444,     0.44545,     0.44645,     0.44745,     0.44845,     0.44945,     0.45045,     0.45145,     0.45245,     0.45345,     0.45445,     0.45546,\n",
       "           0.45646,     0.45746,     0.45846,     0.45946,     0.46046,     0.46146,     0.46246,     0.46346,     0.46446,     0.46547,     0.46647,     0.46747,     0.46847,     0.46947,     0.47047,     0.47147,     0.47247,     0.47347,     0.47447,     0.47548,     0.47648,     0.47748,     0.47848,     0.47948,\n",
       "           0.48048,     0.48148,     0.48248,     0.48348,     0.48448,     0.48549,     0.48649,     0.48749,     0.48849,     0.48949,     0.49049,     0.49149,     0.49249,     0.49349,     0.49449,      0.4955,      0.4965,      0.4975,      0.4985,      0.4995,      0.5005,      0.5015,      0.5025,      0.5035,\n",
       "            0.5045,     0.50551,     0.50651,     0.50751,     0.50851,     0.50951,     0.51051,     0.51151,     0.51251,     0.51351,     0.51451,     0.51552,     0.51652,     0.51752,     0.51852,     0.51952,     0.52052,     0.52152,     0.52252,     0.52352,     0.52452,     0.52553,     0.52653,     0.52753,\n",
       "           0.52853,     0.52953,     0.53053,     0.53153,     0.53253,     0.53353,     0.53453,     0.53554,     0.53654,     0.53754,     0.53854,     0.53954,     0.54054,     0.54154,     0.54254,     0.54354,     0.54454,     0.54555,     0.54655,     0.54755,     0.54855,     0.54955,     0.55055,     0.55155,\n",
       "           0.55255,     0.55355,     0.55455,     0.55556,     0.55656,     0.55756,     0.55856,     0.55956,     0.56056,     0.56156,     0.56256,     0.56356,     0.56456,     0.56557,     0.56657,     0.56757,     0.56857,     0.56957,     0.57057,     0.57157,     0.57257,     0.57357,     0.57457,     0.57558,\n",
       "           0.57658,     0.57758,     0.57858,     0.57958,     0.58058,     0.58158,     0.58258,     0.58358,     0.58458,     0.58559,     0.58659,     0.58759,     0.58859,     0.58959,     0.59059,     0.59159,     0.59259,     0.59359,     0.59459,      0.5956,      0.5966,      0.5976,      0.5986,      0.5996,\n",
       "            0.6006,      0.6016,      0.6026,      0.6036,      0.6046,     0.60561,     0.60661,     0.60761,     0.60861,     0.60961,     0.61061,     0.61161,     0.61261,     0.61361,     0.61461,     0.61562,     0.61662,     0.61762,     0.61862,     0.61962,     0.62062,     0.62162,     0.62262,     0.62362,\n",
       "           0.62462,     0.62563,     0.62663,     0.62763,     0.62863,     0.62963,     0.63063,     0.63163,     0.63263,     0.63363,     0.63463,     0.63564,     0.63664,     0.63764,     0.63864,     0.63964,     0.64064,     0.64164,     0.64264,     0.64364,     0.64464,     0.64565,     0.64665,     0.64765,\n",
       "           0.64865,     0.64965,     0.65065,     0.65165,     0.65265,     0.65365,     0.65465,     0.65566,     0.65666,     0.65766,     0.65866,     0.65966,     0.66066,     0.66166,     0.66266,     0.66366,     0.66466,     0.66567,     0.66667,     0.66767,     0.66867,     0.66967,     0.67067,     0.67167,\n",
       "           0.67267,     0.67367,     0.67467,     0.67568,     0.67668,     0.67768,     0.67868,     0.67968,     0.68068,     0.68168,     0.68268,     0.68368,     0.68468,     0.68569,     0.68669,     0.68769,     0.68869,     0.68969,     0.69069,     0.69169,     0.69269,     0.69369,     0.69469,      0.6957,\n",
       "            0.6967,      0.6977,      0.6987,      0.6997,      0.7007,      0.7017,      0.7027,      0.7037,      0.7047,     0.70571,     0.70671,     0.70771,     0.70871,     0.70971,     0.71071,     0.71171,     0.71271,     0.71371,     0.71471,     0.71572,     0.71672,     0.71772,     0.71872,     0.71972,\n",
       "           0.72072,     0.72172,     0.72272,     0.72372,     0.72472,     0.72573,     0.72673,     0.72773,     0.72873,     0.72973,     0.73073,     0.73173,     0.73273,     0.73373,     0.73473,     0.73574,     0.73674,     0.73774,     0.73874,     0.73974,     0.74074,     0.74174,     0.74274,     0.74374,\n",
       "           0.74474,     0.74575,     0.74675,     0.74775,     0.74875,     0.74975,     0.75075,     0.75175,     0.75275,     0.75375,     0.75475,     0.75576,     0.75676,     0.75776,     0.75876,     0.75976,     0.76076,     0.76176,     0.76276,     0.76376,     0.76476,     0.76577,     0.76677,     0.76777,\n",
       "           0.76877,     0.76977,     0.77077,     0.77177,     0.77277,     0.77377,     0.77477,     0.77578,     0.77678,     0.77778,     0.77878,     0.77978,     0.78078,     0.78178,     0.78278,     0.78378,     0.78478,     0.78579,     0.78679,     0.78779,     0.78879,     0.78979,     0.79079,     0.79179,\n",
       "           0.79279,     0.79379,     0.79479,      0.7958,      0.7968,      0.7978,      0.7988,      0.7998,      0.8008,      0.8018,      0.8028,      0.8038,      0.8048,     0.80581,     0.80681,     0.80781,     0.80881,     0.80981,     0.81081,     0.81181,     0.81281,     0.81381,     0.81481,     0.81582,\n",
       "           0.81682,     0.81782,     0.81882,     0.81982,     0.82082,     0.82182,     0.82282,     0.82382,     0.82482,     0.82583,     0.82683,     0.82783,     0.82883,     0.82983,     0.83083,     0.83183,     0.83283,     0.83383,     0.83483,     0.83584,     0.83684,     0.83784,     0.83884,     0.83984,\n",
       "           0.84084,     0.84184,     0.84284,     0.84384,     0.84484,     0.84585,     0.84685,     0.84785,     0.84885,     0.84985,     0.85085,     0.85185,     0.85285,     0.85385,     0.85485,     0.85586,     0.85686,     0.85786,     0.85886,     0.85986,     0.86086,     0.86186,     0.86286,     0.86386,\n",
       "           0.86486,     0.86587,     0.86687,     0.86787,     0.86887,     0.86987,     0.87087,     0.87187,     0.87287,     0.87387,     0.87487,     0.87588,     0.87688,     0.87788,     0.87888,     0.87988,     0.88088,     0.88188,     0.88288,     0.88388,     0.88488,     0.88589,     0.88689,     0.88789,\n",
       "           0.88889,     0.88989,     0.89089,     0.89189,     0.89289,     0.89389,     0.89489,      0.8959,      0.8969,      0.8979,      0.8989,      0.8999,      0.9009,      0.9019,      0.9029,      0.9039,      0.9049,     0.90591,     0.90691,     0.90791,     0.90891,     0.90991,     0.91091,     0.91191,\n",
       "           0.91291,     0.91391,     0.91491,     0.91592,     0.91692,     0.91792,     0.91892,     0.91992,     0.92092,     0.92192,     0.92292,     0.92392,     0.92492,     0.92593,     0.92693,     0.92793,     0.92893,     0.92993,     0.93093,     0.93193,     0.93293,     0.93393,     0.93493,     0.93594,\n",
       "           0.93694,     0.93794,     0.93894,     0.93994,     0.94094,     0.94194,     0.94294,     0.94394,     0.94494,     0.94595,     0.94695,     0.94795,     0.94895,     0.94995,     0.95095,     0.95195,     0.95295,     0.95395,     0.95495,     0.95596,     0.95696,     0.95796,     0.95896,     0.95996,\n",
       "           0.96096,     0.96196,     0.96296,     0.96396,     0.96496,     0.96597,     0.96697,     0.96797,     0.96897,     0.96997,     0.97097,     0.97197,     0.97297,     0.97397,     0.97497,     0.97598,     0.97698,     0.97798,     0.97898,     0.97998,     0.98098,     0.98198,     0.98298,     0.98398,\n",
       "           0.98498,     0.98599,     0.98699,     0.98799,     0.98899,     0.98999,     0.99099,     0.99199,     0.99299,     0.99399,     0.99499,       0.996,       0.997,       0.998,       0.999,           1]), array([[          1,           1,           1, ...,        0.65,        0.65,           0],\n",
       "       [          1,           1,           1, ...,    0.064883,    0.032441,           0],\n",
       "       [          1,           1,           1, ...,    0.057608,    0.028804,           0],\n",
       "       [          1,           1,           1, ...,     0.73148,     0.73148,           0],\n",
       "       [          1,           1,           1, ...,    0.013459,   0.0067295,           0]]), 'Recall', 'Precision'], [array([          0,    0.001001,    0.002002,    0.003003,    0.004004,    0.005005,    0.006006,    0.007007,    0.008008,    0.009009,     0.01001,    0.011011,    0.012012,    0.013013,    0.014014,    0.015015,    0.016016,    0.017017,    0.018018,    0.019019,     0.02002,    0.021021,    0.022022,    0.023023,\n",
       "          0.024024,    0.025025,    0.026026,    0.027027,    0.028028,    0.029029,     0.03003,    0.031031,    0.032032,    0.033033,    0.034034,    0.035035,    0.036036,    0.037037,    0.038038,    0.039039,     0.04004,    0.041041,    0.042042,    0.043043,    0.044044,    0.045045,    0.046046,    0.047047,\n",
       "          0.048048,    0.049049,     0.05005,    0.051051,    0.052052,    0.053053,    0.054054,    0.055055,    0.056056,    0.057057,    0.058058,    0.059059,     0.06006,    0.061061,    0.062062,    0.063063,    0.064064,    0.065065,    0.066066,    0.067067,    0.068068,    0.069069,     0.07007,    0.071071,\n",
       "          0.072072,    0.073073,    0.074074,    0.075075,    0.076076,    0.077077,    0.078078,    0.079079,     0.08008,    0.081081,    0.082082,    0.083083,    0.084084,    0.085085,    0.086086,    0.087087,    0.088088,    0.089089,     0.09009,    0.091091,    0.092092,    0.093093,    0.094094,    0.095095,\n",
       "          0.096096,    0.097097,    0.098098,    0.099099,      0.1001,      0.1011,      0.1021,      0.1031,      0.1041,     0.10511,     0.10611,     0.10711,     0.10811,     0.10911,     0.11011,     0.11111,     0.11211,     0.11311,     0.11411,     0.11512,     0.11612,     0.11712,     0.11812,     0.11912,\n",
       "           0.12012,     0.12112,     0.12212,     0.12312,     0.12412,     0.12513,     0.12613,     0.12713,     0.12813,     0.12913,     0.13013,     0.13113,     0.13213,     0.13313,     0.13413,     0.13514,     0.13614,     0.13714,     0.13814,     0.13914,     0.14014,     0.14114,     0.14214,     0.14314,\n",
       "           0.14414,     0.14515,     0.14615,     0.14715,     0.14815,     0.14915,     0.15015,     0.15115,     0.15215,     0.15315,     0.15415,     0.15516,     0.15616,     0.15716,     0.15816,     0.15916,     0.16016,     0.16116,     0.16216,     0.16316,     0.16416,     0.16517,     0.16617,     0.16717,\n",
       "           0.16817,     0.16917,     0.17017,     0.17117,     0.17217,     0.17317,     0.17417,     0.17518,     0.17618,     0.17718,     0.17818,     0.17918,     0.18018,     0.18118,     0.18218,     0.18318,     0.18418,     0.18519,     0.18619,     0.18719,     0.18819,     0.18919,     0.19019,     0.19119,\n",
       "           0.19219,     0.19319,     0.19419,      0.1952,      0.1962,      0.1972,      0.1982,      0.1992,      0.2002,      0.2012,      0.2022,      0.2032,      0.2042,     0.20521,     0.20621,     0.20721,     0.20821,     0.20921,     0.21021,     0.21121,     0.21221,     0.21321,     0.21421,     0.21522,\n",
       "           0.21622,     0.21722,     0.21822,     0.21922,     0.22022,     0.22122,     0.22222,     0.22322,     0.22422,     0.22523,     0.22623,     0.22723,     0.22823,     0.22923,     0.23023,     0.23123,     0.23223,     0.23323,     0.23423,     0.23524,     0.23624,     0.23724,     0.23824,     0.23924,\n",
       "           0.24024,     0.24124,     0.24224,     0.24324,     0.24424,     0.24525,     0.24625,     0.24725,     0.24825,     0.24925,     0.25025,     0.25125,     0.25225,     0.25325,     0.25425,     0.25526,     0.25626,     0.25726,     0.25826,     0.25926,     0.26026,     0.26126,     0.26226,     0.26326,\n",
       "           0.26426,     0.26527,     0.26627,     0.26727,     0.26827,     0.26927,     0.27027,     0.27127,     0.27227,     0.27327,     0.27427,     0.27528,     0.27628,     0.27728,     0.27828,     0.27928,     0.28028,     0.28128,     0.28228,     0.28328,     0.28428,     0.28529,     0.28629,     0.28729,\n",
       "           0.28829,     0.28929,     0.29029,     0.29129,     0.29229,     0.29329,     0.29429,      0.2953,      0.2963,      0.2973,      0.2983,      0.2993,      0.3003,      0.3013,      0.3023,      0.3033,      0.3043,     0.30531,     0.30631,     0.30731,     0.30831,     0.30931,     0.31031,     0.31131,\n",
       "           0.31231,     0.31331,     0.31431,     0.31532,     0.31632,     0.31732,     0.31832,     0.31932,     0.32032,     0.32132,     0.32232,     0.32332,     0.32432,     0.32533,     0.32633,     0.32733,     0.32833,     0.32933,     0.33033,     0.33133,     0.33233,     0.33333,     0.33433,     0.33534,\n",
       "           0.33634,     0.33734,     0.33834,     0.33934,     0.34034,     0.34134,     0.34234,     0.34334,     0.34434,     0.34535,     0.34635,     0.34735,     0.34835,     0.34935,     0.35035,     0.35135,     0.35235,     0.35335,     0.35435,     0.35536,     0.35636,     0.35736,     0.35836,     0.35936,\n",
       "           0.36036,     0.36136,     0.36236,     0.36336,     0.36436,     0.36537,     0.36637,     0.36737,     0.36837,     0.36937,     0.37037,     0.37137,     0.37237,     0.37337,     0.37437,     0.37538,     0.37638,     0.37738,     0.37838,     0.37938,     0.38038,     0.38138,     0.38238,     0.38338,\n",
       "           0.38438,     0.38539,     0.38639,     0.38739,     0.38839,     0.38939,     0.39039,     0.39139,     0.39239,     0.39339,     0.39439,      0.3954,      0.3964,      0.3974,      0.3984,      0.3994,      0.4004,      0.4014,      0.4024,      0.4034,      0.4044,     0.40541,     0.40641,     0.40741,\n",
       "           0.40841,     0.40941,     0.41041,     0.41141,     0.41241,     0.41341,     0.41441,     0.41542,     0.41642,     0.41742,     0.41842,     0.41942,     0.42042,     0.42142,     0.42242,     0.42342,     0.42442,     0.42543,     0.42643,     0.42743,     0.42843,     0.42943,     0.43043,     0.43143,\n",
       "           0.43243,     0.43343,     0.43443,     0.43544,     0.43644,     0.43744,     0.43844,     0.43944,     0.44044,     0.44144,     0.44244,     0.44344,     0.44444,     0.44545,     0.44645,     0.44745,     0.44845,     0.44945,     0.45045,     0.45145,     0.45245,     0.45345,     0.45445,     0.45546,\n",
       "           0.45646,     0.45746,     0.45846,     0.45946,     0.46046,     0.46146,     0.46246,     0.46346,     0.46446,     0.46547,     0.46647,     0.46747,     0.46847,     0.46947,     0.47047,     0.47147,     0.47247,     0.47347,     0.47447,     0.47548,     0.47648,     0.47748,     0.47848,     0.47948,\n",
       "           0.48048,     0.48148,     0.48248,     0.48348,     0.48448,     0.48549,     0.48649,     0.48749,     0.48849,     0.48949,     0.49049,     0.49149,     0.49249,     0.49349,     0.49449,      0.4955,      0.4965,      0.4975,      0.4985,      0.4995,      0.5005,      0.5015,      0.5025,      0.5035,\n",
       "            0.5045,     0.50551,     0.50651,     0.50751,     0.50851,     0.50951,     0.51051,     0.51151,     0.51251,     0.51351,     0.51451,     0.51552,     0.51652,     0.51752,     0.51852,     0.51952,     0.52052,     0.52152,     0.52252,     0.52352,     0.52452,     0.52553,     0.52653,     0.52753,\n",
       "           0.52853,     0.52953,     0.53053,     0.53153,     0.53253,     0.53353,     0.53453,     0.53554,     0.53654,     0.53754,     0.53854,     0.53954,     0.54054,     0.54154,     0.54254,     0.54354,     0.54454,     0.54555,     0.54655,     0.54755,     0.54855,     0.54955,     0.55055,     0.55155,\n",
       "           0.55255,     0.55355,     0.55455,     0.55556,     0.55656,     0.55756,     0.55856,     0.55956,     0.56056,     0.56156,     0.56256,     0.56356,     0.56456,     0.56557,     0.56657,     0.56757,     0.56857,     0.56957,     0.57057,     0.57157,     0.57257,     0.57357,     0.57457,     0.57558,\n",
       "           0.57658,     0.57758,     0.57858,     0.57958,     0.58058,     0.58158,     0.58258,     0.58358,     0.58458,     0.58559,     0.58659,     0.58759,     0.58859,     0.58959,     0.59059,     0.59159,     0.59259,     0.59359,     0.59459,      0.5956,      0.5966,      0.5976,      0.5986,      0.5996,\n",
       "            0.6006,      0.6016,      0.6026,      0.6036,      0.6046,     0.60561,     0.60661,     0.60761,     0.60861,     0.60961,     0.61061,     0.61161,     0.61261,     0.61361,     0.61461,     0.61562,     0.61662,     0.61762,     0.61862,     0.61962,     0.62062,     0.62162,     0.62262,     0.62362,\n",
       "           0.62462,     0.62563,     0.62663,     0.62763,     0.62863,     0.62963,     0.63063,     0.63163,     0.63263,     0.63363,     0.63463,     0.63564,     0.63664,     0.63764,     0.63864,     0.63964,     0.64064,     0.64164,     0.64264,     0.64364,     0.64464,     0.64565,     0.64665,     0.64765,\n",
       "           0.64865,     0.64965,     0.65065,     0.65165,     0.65265,     0.65365,     0.65465,     0.65566,     0.65666,     0.65766,     0.65866,     0.65966,     0.66066,     0.66166,     0.66266,     0.66366,     0.66466,     0.66567,     0.66667,     0.66767,     0.66867,     0.66967,     0.67067,     0.67167,\n",
       "           0.67267,     0.67367,     0.67467,     0.67568,     0.67668,     0.67768,     0.67868,     0.67968,     0.68068,     0.68168,     0.68268,     0.68368,     0.68468,     0.68569,     0.68669,     0.68769,     0.68869,     0.68969,     0.69069,     0.69169,     0.69269,     0.69369,     0.69469,      0.6957,\n",
       "            0.6967,      0.6977,      0.6987,      0.6997,      0.7007,      0.7017,      0.7027,      0.7037,      0.7047,     0.70571,     0.70671,     0.70771,     0.70871,     0.70971,     0.71071,     0.71171,     0.71271,     0.71371,     0.71471,     0.71572,     0.71672,     0.71772,     0.71872,     0.71972,\n",
       "           0.72072,     0.72172,     0.72272,     0.72372,     0.72472,     0.72573,     0.72673,     0.72773,     0.72873,     0.72973,     0.73073,     0.73173,     0.73273,     0.73373,     0.73473,     0.73574,     0.73674,     0.73774,     0.73874,     0.73974,     0.74074,     0.74174,     0.74274,     0.74374,\n",
       "           0.74474,     0.74575,     0.74675,     0.74775,     0.74875,     0.74975,     0.75075,     0.75175,     0.75275,     0.75375,     0.75475,     0.75576,     0.75676,     0.75776,     0.75876,     0.75976,     0.76076,     0.76176,     0.76276,     0.76376,     0.76476,     0.76577,     0.76677,     0.76777,\n",
       "           0.76877,     0.76977,     0.77077,     0.77177,     0.77277,     0.77377,     0.77477,     0.77578,     0.77678,     0.77778,     0.77878,     0.77978,     0.78078,     0.78178,     0.78278,     0.78378,     0.78478,     0.78579,     0.78679,     0.78779,     0.78879,     0.78979,     0.79079,     0.79179,\n",
       "           0.79279,     0.79379,     0.79479,      0.7958,      0.7968,      0.7978,      0.7988,      0.7998,      0.8008,      0.8018,      0.8028,      0.8038,      0.8048,     0.80581,     0.80681,     0.80781,     0.80881,     0.80981,     0.81081,     0.81181,     0.81281,     0.81381,     0.81481,     0.81582,\n",
       "           0.81682,     0.81782,     0.81882,     0.81982,     0.82082,     0.82182,     0.82282,     0.82382,     0.82482,     0.82583,     0.82683,     0.82783,     0.82883,     0.82983,     0.83083,     0.83183,     0.83283,     0.83383,     0.83483,     0.83584,     0.83684,     0.83784,     0.83884,     0.83984,\n",
       "           0.84084,     0.84184,     0.84284,     0.84384,     0.84484,     0.84585,     0.84685,     0.84785,     0.84885,     0.84985,     0.85085,     0.85185,     0.85285,     0.85385,     0.85485,     0.85586,     0.85686,     0.85786,     0.85886,     0.85986,     0.86086,     0.86186,     0.86286,     0.86386,\n",
       "           0.86486,     0.86587,     0.86687,     0.86787,     0.86887,     0.86987,     0.87087,     0.87187,     0.87287,     0.87387,     0.87487,     0.87588,     0.87688,     0.87788,     0.87888,     0.87988,     0.88088,     0.88188,     0.88288,     0.88388,     0.88488,     0.88589,     0.88689,     0.88789,\n",
       "           0.88889,     0.88989,     0.89089,     0.89189,     0.89289,     0.89389,     0.89489,      0.8959,      0.8969,      0.8979,      0.8989,      0.8999,      0.9009,      0.9019,      0.9029,      0.9039,      0.9049,     0.90591,     0.90691,     0.90791,     0.90891,     0.90991,     0.91091,     0.91191,\n",
       "           0.91291,     0.91391,     0.91491,     0.91592,     0.91692,     0.91792,     0.91892,     0.91992,     0.92092,     0.92192,     0.92292,     0.92392,     0.92492,     0.92593,     0.92693,     0.92793,     0.92893,     0.92993,     0.93093,     0.93193,     0.93293,     0.93393,     0.93493,     0.93594,\n",
       "           0.93694,     0.93794,     0.93894,     0.93994,     0.94094,     0.94194,     0.94294,     0.94394,     0.94494,     0.94595,     0.94695,     0.94795,     0.94895,     0.94995,     0.95095,     0.95195,     0.95295,     0.95395,     0.95495,     0.95596,     0.95696,     0.95796,     0.95896,     0.95996,\n",
       "           0.96096,     0.96196,     0.96296,     0.96396,     0.96496,     0.96597,     0.96697,     0.96797,     0.96897,     0.96997,     0.97097,     0.97197,     0.97297,     0.97397,     0.97497,     0.97598,     0.97698,     0.97798,     0.97898,     0.97998,     0.98098,     0.98198,     0.98298,     0.98398,\n",
       "           0.98498,     0.98599,     0.98699,     0.98799,     0.98899,     0.98999,     0.99099,     0.99199,     0.99299,     0.99399,     0.99499,       0.996,       0.997,       0.998,       0.999,           1]), array([[    0.22807,     0.22807,     0.29883, ...,           0,           0,           0],\n",
       "       [    0.48288,     0.48288,     0.58536, ...,           0,           0,           0],\n",
       "       [    0.57066,     0.57066,     0.63799, ...,           0,           0,           0],\n",
       "       [    0.36916,     0.36916,     0.51294, ...,           0,           0,           0],\n",
       "       [    0.26688,     0.26688,     0.34071, ...,           0,           0,           0]]), 'Confidence', 'F1'], [array([          0,    0.001001,    0.002002,    0.003003,    0.004004,    0.005005,    0.006006,    0.007007,    0.008008,    0.009009,     0.01001,    0.011011,    0.012012,    0.013013,    0.014014,    0.015015,    0.016016,    0.017017,    0.018018,    0.019019,     0.02002,    0.021021,    0.022022,    0.023023,\n",
       "          0.024024,    0.025025,    0.026026,    0.027027,    0.028028,    0.029029,     0.03003,    0.031031,    0.032032,    0.033033,    0.034034,    0.035035,    0.036036,    0.037037,    0.038038,    0.039039,     0.04004,    0.041041,    0.042042,    0.043043,    0.044044,    0.045045,    0.046046,    0.047047,\n",
       "          0.048048,    0.049049,     0.05005,    0.051051,    0.052052,    0.053053,    0.054054,    0.055055,    0.056056,    0.057057,    0.058058,    0.059059,     0.06006,    0.061061,    0.062062,    0.063063,    0.064064,    0.065065,    0.066066,    0.067067,    0.068068,    0.069069,     0.07007,    0.071071,\n",
       "          0.072072,    0.073073,    0.074074,    0.075075,    0.076076,    0.077077,    0.078078,    0.079079,     0.08008,    0.081081,    0.082082,    0.083083,    0.084084,    0.085085,    0.086086,    0.087087,    0.088088,    0.089089,     0.09009,    0.091091,    0.092092,    0.093093,    0.094094,    0.095095,\n",
       "          0.096096,    0.097097,    0.098098,    0.099099,      0.1001,      0.1011,      0.1021,      0.1031,      0.1041,     0.10511,     0.10611,     0.10711,     0.10811,     0.10911,     0.11011,     0.11111,     0.11211,     0.11311,     0.11411,     0.11512,     0.11612,     0.11712,     0.11812,     0.11912,\n",
       "           0.12012,     0.12112,     0.12212,     0.12312,     0.12412,     0.12513,     0.12613,     0.12713,     0.12813,     0.12913,     0.13013,     0.13113,     0.13213,     0.13313,     0.13413,     0.13514,     0.13614,     0.13714,     0.13814,     0.13914,     0.14014,     0.14114,     0.14214,     0.14314,\n",
       "           0.14414,     0.14515,     0.14615,     0.14715,     0.14815,     0.14915,     0.15015,     0.15115,     0.15215,     0.15315,     0.15415,     0.15516,     0.15616,     0.15716,     0.15816,     0.15916,     0.16016,     0.16116,     0.16216,     0.16316,     0.16416,     0.16517,     0.16617,     0.16717,\n",
       "           0.16817,     0.16917,     0.17017,     0.17117,     0.17217,     0.17317,     0.17417,     0.17518,     0.17618,     0.17718,     0.17818,     0.17918,     0.18018,     0.18118,     0.18218,     0.18318,     0.18418,     0.18519,     0.18619,     0.18719,     0.18819,     0.18919,     0.19019,     0.19119,\n",
       "           0.19219,     0.19319,     0.19419,      0.1952,      0.1962,      0.1972,      0.1982,      0.1992,      0.2002,      0.2012,      0.2022,      0.2032,      0.2042,     0.20521,     0.20621,     0.20721,     0.20821,     0.20921,     0.21021,     0.21121,     0.21221,     0.21321,     0.21421,     0.21522,\n",
       "           0.21622,     0.21722,     0.21822,     0.21922,     0.22022,     0.22122,     0.22222,     0.22322,     0.22422,     0.22523,     0.22623,     0.22723,     0.22823,     0.22923,     0.23023,     0.23123,     0.23223,     0.23323,     0.23423,     0.23524,     0.23624,     0.23724,     0.23824,     0.23924,\n",
       "           0.24024,     0.24124,     0.24224,     0.24324,     0.24424,     0.24525,     0.24625,     0.24725,     0.24825,     0.24925,     0.25025,     0.25125,     0.25225,     0.25325,     0.25425,     0.25526,     0.25626,     0.25726,     0.25826,     0.25926,     0.26026,     0.26126,     0.26226,     0.26326,\n",
       "           0.26426,     0.26527,     0.26627,     0.26727,     0.26827,     0.26927,     0.27027,     0.27127,     0.27227,     0.27327,     0.27427,     0.27528,     0.27628,     0.27728,     0.27828,     0.27928,     0.28028,     0.28128,     0.28228,     0.28328,     0.28428,     0.28529,     0.28629,     0.28729,\n",
       "           0.28829,     0.28929,     0.29029,     0.29129,     0.29229,     0.29329,     0.29429,      0.2953,      0.2963,      0.2973,      0.2983,      0.2993,      0.3003,      0.3013,      0.3023,      0.3033,      0.3043,     0.30531,     0.30631,     0.30731,     0.30831,     0.30931,     0.31031,     0.31131,\n",
       "           0.31231,     0.31331,     0.31431,     0.31532,     0.31632,     0.31732,     0.31832,     0.31932,     0.32032,     0.32132,     0.32232,     0.32332,     0.32432,     0.32533,     0.32633,     0.32733,     0.32833,     0.32933,     0.33033,     0.33133,     0.33233,     0.33333,     0.33433,     0.33534,\n",
       "           0.33634,     0.33734,     0.33834,     0.33934,     0.34034,     0.34134,     0.34234,     0.34334,     0.34434,     0.34535,     0.34635,     0.34735,     0.34835,     0.34935,     0.35035,     0.35135,     0.35235,     0.35335,     0.35435,     0.35536,     0.35636,     0.35736,     0.35836,     0.35936,\n",
       "           0.36036,     0.36136,     0.36236,     0.36336,     0.36436,     0.36537,     0.36637,     0.36737,     0.36837,     0.36937,     0.37037,     0.37137,     0.37237,     0.37337,     0.37437,     0.37538,     0.37638,     0.37738,     0.37838,     0.37938,     0.38038,     0.38138,     0.38238,     0.38338,\n",
       "           0.38438,     0.38539,     0.38639,     0.38739,     0.38839,     0.38939,     0.39039,     0.39139,     0.39239,     0.39339,     0.39439,      0.3954,      0.3964,      0.3974,      0.3984,      0.3994,      0.4004,      0.4014,      0.4024,      0.4034,      0.4044,     0.40541,     0.40641,     0.40741,\n",
       "           0.40841,     0.40941,     0.41041,     0.41141,     0.41241,     0.41341,     0.41441,     0.41542,     0.41642,     0.41742,     0.41842,     0.41942,     0.42042,     0.42142,     0.42242,     0.42342,     0.42442,     0.42543,     0.42643,     0.42743,     0.42843,     0.42943,     0.43043,     0.43143,\n",
       "           0.43243,     0.43343,     0.43443,     0.43544,     0.43644,     0.43744,     0.43844,     0.43944,     0.44044,     0.44144,     0.44244,     0.44344,     0.44444,     0.44545,     0.44645,     0.44745,     0.44845,     0.44945,     0.45045,     0.45145,     0.45245,     0.45345,     0.45445,     0.45546,\n",
       "           0.45646,     0.45746,     0.45846,     0.45946,     0.46046,     0.46146,     0.46246,     0.46346,     0.46446,     0.46547,     0.46647,     0.46747,     0.46847,     0.46947,     0.47047,     0.47147,     0.47247,     0.47347,     0.47447,     0.47548,     0.47648,     0.47748,     0.47848,     0.47948,\n",
       "           0.48048,     0.48148,     0.48248,     0.48348,     0.48448,     0.48549,     0.48649,     0.48749,     0.48849,     0.48949,     0.49049,     0.49149,     0.49249,     0.49349,     0.49449,      0.4955,      0.4965,      0.4975,      0.4985,      0.4995,      0.5005,      0.5015,      0.5025,      0.5035,\n",
       "            0.5045,     0.50551,     0.50651,     0.50751,     0.50851,     0.50951,     0.51051,     0.51151,     0.51251,     0.51351,     0.51451,     0.51552,     0.51652,     0.51752,     0.51852,     0.51952,     0.52052,     0.52152,     0.52252,     0.52352,     0.52452,     0.52553,     0.52653,     0.52753,\n",
       "           0.52853,     0.52953,     0.53053,     0.53153,     0.53253,     0.53353,     0.53453,     0.53554,     0.53654,     0.53754,     0.53854,     0.53954,     0.54054,     0.54154,     0.54254,     0.54354,     0.54454,     0.54555,     0.54655,     0.54755,     0.54855,     0.54955,     0.55055,     0.55155,\n",
       "           0.55255,     0.55355,     0.55455,     0.55556,     0.55656,     0.55756,     0.55856,     0.55956,     0.56056,     0.56156,     0.56256,     0.56356,     0.56456,     0.56557,     0.56657,     0.56757,     0.56857,     0.56957,     0.57057,     0.57157,     0.57257,     0.57357,     0.57457,     0.57558,\n",
       "           0.57658,     0.57758,     0.57858,     0.57958,     0.58058,     0.58158,     0.58258,     0.58358,     0.58458,     0.58559,     0.58659,     0.58759,     0.58859,     0.58959,     0.59059,     0.59159,     0.59259,     0.59359,     0.59459,      0.5956,      0.5966,      0.5976,      0.5986,      0.5996,\n",
       "            0.6006,      0.6016,      0.6026,      0.6036,      0.6046,     0.60561,     0.60661,     0.60761,     0.60861,     0.60961,     0.61061,     0.61161,     0.61261,     0.61361,     0.61461,     0.61562,     0.61662,     0.61762,     0.61862,     0.61962,     0.62062,     0.62162,     0.62262,     0.62362,\n",
       "           0.62462,     0.62563,     0.62663,     0.62763,     0.62863,     0.62963,     0.63063,     0.63163,     0.63263,     0.63363,     0.63463,     0.63564,     0.63664,     0.63764,     0.63864,     0.63964,     0.64064,     0.64164,     0.64264,     0.64364,     0.64464,     0.64565,     0.64665,     0.64765,\n",
       "           0.64865,     0.64965,     0.65065,     0.65165,     0.65265,     0.65365,     0.65465,     0.65566,     0.65666,     0.65766,     0.65866,     0.65966,     0.66066,     0.66166,     0.66266,     0.66366,     0.66466,     0.66567,     0.66667,     0.66767,     0.66867,     0.66967,     0.67067,     0.67167,\n",
       "           0.67267,     0.67367,     0.67467,     0.67568,     0.67668,     0.67768,     0.67868,     0.67968,     0.68068,     0.68168,     0.68268,     0.68368,     0.68468,     0.68569,     0.68669,     0.68769,     0.68869,     0.68969,     0.69069,     0.69169,     0.69269,     0.69369,     0.69469,      0.6957,\n",
       "            0.6967,      0.6977,      0.6987,      0.6997,      0.7007,      0.7017,      0.7027,      0.7037,      0.7047,     0.70571,     0.70671,     0.70771,     0.70871,     0.70971,     0.71071,     0.71171,     0.71271,     0.71371,     0.71471,     0.71572,     0.71672,     0.71772,     0.71872,     0.71972,\n",
       "           0.72072,     0.72172,     0.72272,     0.72372,     0.72472,     0.72573,     0.72673,     0.72773,     0.72873,     0.72973,     0.73073,     0.73173,     0.73273,     0.73373,     0.73473,     0.73574,     0.73674,     0.73774,     0.73874,     0.73974,     0.74074,     0.74174,     0.74274,     0.74374,\n",
       "           0.74474,     0.74575,     0.74675,     0.74775,     0.74875,     0.74975,     0.75075,     0.75175,     0.75275,     0.75375,     0.75475,     0.75576,     0.75676,     0.75776,     0.75876,     0.75976,     0.76076,     0.76176,     0.76276,     0.76376,     0.76476,     0.76577,     0.76677,     0.76777,\n",
       "           0.76877,     0.76977,     0.77077,     0.77177,     0.77277,     0.77377,     0.77477,     0.77578,     0.77678,     0.77778,     0.77878,     0.77978,     0.78078,     0.78178,     0.78278,     0.78378,     0.78478,     0.78579,     0.78679,     0.78779,     0.78879,     0.78979,     0.79079,     0.79179,\n",
       "           0.79279,     0.79379,     0.79479,      0.7958,      0.7968,      0.7978,      0.7988,      0.7998,      0.8008,      0.8018,      0.8028,      0.8038,      0.8048,     0.80581,     0.80681,     0.80781,     0.80881,     0.80981,     0.81081,     0.81181,     0.81281,     0.81381,     0.81481,     0.81582,\n",
       "           0.81682,     0.81782,     0.81882,     0.81982,     0.82082,     0.82182,     0.82282,     0.82382,     0.82482,     0.82583,     0.82683,     0.82783,     0.82883,     0.82983,     0.83083,     0.83183,     0.83283,     0.83383,     0.83483,     0.83584,     0.83684,     0.83784,     0.83884,     0.83984,\n",
       "           0.84084,     0.84184,     0.84284,     0.84384,     0.84484,     0.84585,     0.84685,     0.84785,     0.84885,     0.84985,     0.85085,     0.85185,     0.85285,     0.85385,     0.85485,     0.85586,     0.85686,     0.85786,     0.85886,     0.85986,     0.86086,     0.86186,     0.86286,     0.86386,\n",
       "           0.86486,     0.86587,     0.86687,     0.86787,     0.86887,     0.86987,     0.87087,     0.87187,     0.87287,     0.87387,     0.87487,     0.87588,     0.87688,     0.87788,     0.87888,     0.87988,     0.88088,     0.88188,     0.88288,     0.88388,     0.88488,     0.88589,     0.88689,     0.88789,\n",
       "           0.88889,     0.88989,     0.89089,     0.89189,     0.89289,     0.89389,     0.89489,      0.8959,      0.8969,      0.8979,      0.8989,      0.8999,      0.9009,      0.9019,      0.9029,      0.9039,      0.9049,     0.90591,     0.90691,     0.90791,     0.90891,     0.90991,     0.91091,     0.91191,\n",
       "           0.91291,     0.91391,     0.91491,     0.91592,     0.91692,     0.91792,     0.91892,     0.91992,     0.92092,     0.92192,     0.92292,     0.92392,     0.92492,     0.92593,     0.92693,     0.92793,     0.92893,     0.92993,     0.93093,     0.93193,     0.93293,     0.93393,     0.93493,     0.93594,\n",
       "           0.93694,     0.93794,     0.93894,     0.93994,     0.94094,     0.94194,     0.94294,     0.94394,     0.94494,     0.94595,     0.94695,     0.94795,     0.94895,     0.94995,     0.95095,     0.95195,     0.95295,     0.95395,     0.95495,     0.95596,     0.95696,     0.95796,     0.95896,     0.95996,\n",
       "           0.96096,     0.96196,     0.96296,     0.96396,     0.96496,     0.96597,     0.96697,     0.96797,     0.96897,     0.96997,     0.97097,     0.97197,     0.97297,     0.97397,     0.97497,     0.97598,     0.97698,     0.97798,     0.97898,     0.97998,     0.98098,     0.98198,     0.98298,     0.98398,\n",
       "           0.98498,     0.98599,     0.98699,     0.98799,     0.98899,     0.98999,     0.99099,     0.99199,     0.99299,     0.99399,     0.99499,       0.996,       0.997,       0.998,       0.999,           1]), array([[    0.12871,     0.12871,     0.17566, ...,           1,           1,           1],\n",
       "       [     0.3193,      0.3193,     0.41593, ...,           1,           1,           1],\n",
       "       [    0.40152,     0.40152,     0.47207, ...,           1,           1,           1],\n",
       "       [    0.22636,     0.22636,     0.34493, ...,           1,           1,           1],\n",
       "       [    0.15455,     0.15455,     0.20685, ...,           1,           1,           1]]), 'Confidence', 'Precision'], [array([          0,    0.001001,    0.002002,    0.003003,    0.004004,    0.005005,    0.006006,    0.007007,    0.008008,    0.009009,     0.01001,    0.011011,    0.012012,    0.013013,    0.014014,    0.015015,    0.016016,    0.017017,    0.018018,    0.019019,     0.02002,    0.021021,    0.022022,    0.023023,\n",
       "          0.024024,    0.025025,    0.026026,    0.027027,    0.028028,    0.029029,     0.03003,    0.031031,    0.032032,    0.033033,    0.034034,    0.035035,    0.036036,    0.037037,    0.038038,    0.039039,     0.04004,    0.041041,    0.042042,    0.043043,    0.044044,    0.045045,    0.046046,    0.047047,\n",
       "          0.048048,    0.049049,     0.05005,    0.051051,    0.052052,    0.053053,    0.054054,    0.055055,    0.056056,    0.057057,    0.058058,    0.059059,     0.06006,    0.061061,    0.062062,    0.063063,    0.064064,    0.065065,    0.066066,    0.067067,    0.068068,    0.069069,     0.07007,    0.071071,\n",
       "          0.072072,    0.073073,    0.074074,    0.075075,    0.076076,    0.077077,    0.078078,    0.079079,     0.08008,    0.081081,    0.082082,    0.083083,    0.084084,    0.085085,    0.086086,    0.087087,    0.088088,    0.089089,     0.09009,    0.091091,    0.092092,    0.093093,    0.094094,    0.095095,\n",
       "          0.096096,    0.097097,    0.098098,    0.099099,      0.1001,      0.1011,      0.1021,      0.1031,      0.1041,     0.10511,     0.10611,     0.10711,     0.10811,     0.10911,     0.11011,     0.11111,     0.11211,     0.11311,     0.11411,     0.11512,     0.11612,     0.11712,     0.11812,     0.11912,\n",
       "           0.12012,     0.12112,     0.12212,     0.12312,     0.12412,     0.12513,     0.12613,     0.12713,     0.12813,     0.12913,     0.13013,     0.13113,     0.13213,     0.13313,     0.13413,     0.13514,     0.13614,     0.13714,     0.13814,     0.13914,     0.14014,     0.14114,     0.14214,     0.14314,\n",
       "           0.14414,     0.14515,     0.14615,     0.14715,     0.14815,     0.14915,     0.15015,     0.15115,     0.15215,     0.15315,     0.15415,     0.15516,     0.15616,     0.15716,     0.15816,     0.15916,     0.16016,     0.16116,     0.16216,     0.16316,     0.16416,     0.16517,     0.16617,     0.16717,\n",
       "           0.16817,     0.16917,     0.17017,     0.17117,     0.17217,     0.17317,     0.17417,     0.17518,     0.17618,     0.17718,     0.17818,     0.17918,     0.18018,     0.18118,     0.18218,     0.18318,     0.18418,     0.18519,     0.18619,     0.18719,     0.18819,     0.18919,     0.19019,     0.19119,\n",
       "           0.19219,     0.19319,     0.19419,      0.1952,      0.1962,      0.1972,      0.1982,      0.1992,      0.2002,      0.2012,      0.2022,      0.2032,      0.2042,     0.20521,     0.20621,     0.20721,     0.20821,     0.20921,     0.21021,     0.21121,     0.21221,     0.21321,     0.21421,     0.21522,\n",
       "           0.21622,     0.21722,     0.21822,     0.21922,     0.22022,     0.22122,     0.22222,     0.22322,     0.22422,     0.22523,     0.22623,     0.22723,     0.22823,     0.22923,     0.23023,     0.23123,     0.23223,     0.23323,     0.23423,     0.23524,     0.23624,     0.23724,     0.23824,     0.23924,\n",
       "           0.24024,     0.24124,     0.24224,     0.24324,     0.24424,     0.24525,     0.24625,     0.24725,     0.24825,     0.24925,     0.25025,     0.25125,     0.25225,     0.25325,     0.25425,     0.25526,     0.25626,     0.25726,     0.25826,     0.25926,     0.26026,     0.26126,     0.26226,     0.26326,\n",
       "           0.26426,     0.26527,     0.26627,     0.26727,     0.26827,     0.26927,     0.27027,     0.27127,     0.27227,     0.27327,     0.27427,     0.27528,     0.27628,     0.27728,     0.27828,     0.27928,     0.28028,     0.28128,     0.28228,     0.28328,     0.28428,     0.28529,     0.28629,     0.28729,\n",
       "           0.28829,     0.28929,     0.29029,     0.29129,     0.29229,     0.29329,     0.29429,      0.2953,      0.2963,      0.2973,      0.2983,      0.2993,      0.3003,      0.3013,      0.3023,      0.3033,      0.3043,     0.30531,     0.30631,     0.30731,     0.30831,     0.30931,     0.31031,     0.31131,\n",
       "           0.31231,     0.31331,     0.31431,     0.31532,     0.31632,     0.31732,     0.31832,     0.31932,     0.32032,     0.32132,     0.32232,     0.32332,     0.32432,     0.32533,     0.32633,     0.32733,     0.32833,     0.32933,     0.33033,     0.33133,     0.33233,     0.33333,     0.33433,     0.33534,\n",
       "           0.33634,     0.33734,     0.33834,     0.33934,     0.34034,     0.34134,     0.34234,     0.34334,     0.34434,     0.34535,     0.34635,     0.34735,     0.34835,     0.34935,     0.35035,     0.35135,     0.35235,     0.35335,     0.35435,     0.35536,     0.35636,     0.35736,     0.35836,     0.35936,\n",
       "           0.36036,     0.36136,     0.36236,     0.36336,     0.36436,     0.36537,     0.36637,     0.36737,     0.36837,     0.36937,     0.37037,     0.37137,     0.37237,     0.37337,     0.37437,     0.37538,     0.37638,     0.37738,     0.37838,     0.37938,     0.38038,     0.38138,     0.38238,     0.38338,\n",
       "           0.38438,     0.38539,     0.38639,     0.38739,     0.38839,     0.38939,     0.39039,     0.39139,     0.39239,     0.39339,     0.39439,      0.3954,      0.3964,      0.3974,      0.3984,      0.3994,      0.4004,      0.4014,      0.4024,      0.4034,      0.4044,     0.40541,     0.40641,     0.40741,\n",
       "           0.40841,     0.40941,     0.41041,     0.41141,     0.41241,     0.41341,     0.41441,     0.41542,     0.41642,     0.41742,     0.41842,     0.41942,     0.42042,     0.42142,     0.42242,     0.42342,     0.42442,     0.42543,     0.42643,     0.42743,     0.42843,     0.42943,     0.43043,     0.43143,\n",
       "           0.43243,     0.43343,     0.43443,     0.43544,     0.43644,     0.43744,     0.43844,     0.43944,     0.44044,     0.44144,     0.44244,     0.44344,     0.44444,     0.44545,     0.44645,     0.44745,     0.44845,     0.44945,     0.45045,     0.45145,     0.45245,     0.45345,     0.45445,     0.45546,\n",
       "           0.45646,     0.45746,     0.45846,     0.45946,     0.46046,     0.46146,     0.46246,     0.46346,     0.46446,     0.46547,     0.46647,     0.46747,     0.46847,     0.46947,     0.47047,     0.47147,     0.47247,     0.47347,     0.47447,     0.47548,     0.47648,     0.47748,     0.47848,     0.47948,\n",
       "           0.48048,     0.48148,     0.48248,     0.48348,     0.48448,     0.48549,     0.48649,     0.48749,     0.48849,     0.48949,     0.49049,     0.49149,     0.49249,     0.49349,     0.49449,      0.4955,      0.4965,      0.4975,      0.4985,      0.4995,      0.5005,      0.5015,      0.5025,      0.5035,\n",
       "            0.5045,     0.50551,     0.50651,     0.50751,     0.50851,     0.50951,     0.51051,     0.51151,     0.51251,     0.51351,     0.51451,     0.51552,     0.51652,     0.51752,     0.51852,     0.51952,     0.52052,     0.52152,     0.52252,     0.52352,     0.52452,     0.52553,     0.52653,     0.52753,\n",
       "           0.52853,     0.52953,     0.53053,     0.53153,     0.53253,     0.53353,     0.53453,     0.53554,     0.53654,     0.53754,     0.53854,     0.53954,     0.54054,     0.54154,     0.54254,     0.54354,     0.54454,     0.54555,     0.54655,     0.54755,     0.54855,     0.54955,     0.55055,     0.55155,\n",
       "           0.55255,     0.55355,     0.55455,     0.55556,     0.55656,     0.55756,     0.55856,     0.55956,     0.56056,     0.56156,     0.56256,     0.56356,     0.56456,     0.56557,     0.56657,     0.56757,     0.56857,     0.56957,     0.57057,     0.57157,     0.57257,     0.57357,     0.57457,     0.57558,\n",
       "           0.57658,     0.57758,     0.57858,     0.57958,     0.58058,     0.58158,     0.58258,     0.58358,     0.58458,     0.58559,     0.58659,     0.58759,     0.58859,     0.58959,     0.59059,     0.59159,     0.59259,     0.59359,     0.59459,      0.5956,      0.5966,      0.5976,      0.5986,      0.5996,\n",
       "            0.6006,      0.6016,      0.6026,      0.6036,      0.6046,     0.60561,     0.60661,     0.60761,     0.60861,     0.60961,     0.61061,     0.61161,     0.61261,     0.61361,     0.61461,     0.61562,     0.61662,     0.61762,     0.61862,     0.61962,     0.62062,     0.62162,     0.62262,     0.62362,\n",
       "           0.62462,     0.62563,     0.62663,     0.62763,     0.62863,     0.62963,     0.63063,     0.63163,     0.63263,     0.63363,     0.63463,     0.63564,     0.63664,     0.63764,     0.63864,     0.63964,     0.64064,     0.64164,     0.64264,     0.64364,     0.64464,     0.64565,     0.64665,     0.64765,\n",
       "           0.64865,     0.64965,     0.65065,     0.65165,     0.65265,     0.65365,     0.65465,     0.65566,     0.65666,     0.65766,     0.65866,     0.65966,     0.66066,     0.66166,     0.66266,     0.66366,     0.66466,     0.66567,     0.66667,     0.66767,     0.66867,     0.66967,     0.67067,     0.67167,\n",
       "           0.67267,     0.67367,     0.67467,     0.67568,     0.67668,     0.67768,     0.67868,     0.67968,     0.68068,     0.68168,     0.68268,     0.68368,     0.68468,     0.68569,     0.68669,     0.68769,     0.68869,     0.68969,     0.69069,     0.69169,     0.69269,     0.69369,     0.69469,      0.6957,\n",
       "            0.6967,      0.6977,      0.6987,      0.6997,      0.7007,      0.7017,      0.7027,      0.7037,      0.7047,     0.70571,     0.70671,     0.70771,     0.70871,     0.70971,     0.71071,     0.71171,     0.71271,     0.71371,     0.71471,     0.71572,     0.71672,     0.71772,     0.71872,     0.71972,\n",
       "           0.72072,     0.72172,     0.72272,     0.72372,     0.72472,     0.72573,     0.72673,     0.72773,     0.72873,     0.72973,     0.73073,     0.73173,     0.73273,     0.73373,     0.73473,     0.73574,     0.73674,     0.73774,     0.73874,     0.73974,     0.74074,     0.74174,     0.74274,     0.74374,\n",
       "           0.74474,     0.74575,     0.74675,     0.74775,     0.74875,     0.74975,     0.75075,     0.75175,     0.75275,     0.75375,     0.75475,     0.75576,     0.75676,     0.75776,     0.75876,     0.75976,     0.76076,     0.76176,     0.76276,     0.76376,     0.76476,     0.76577,     0.76677,     0.76777,\n",
       "           0.76877,     0.76977,     0.77077,     0.77177,     0.77277,     0.77377,     0.77477,     0.77578,     0.77678,     0.77778,     0.77878,     0.77978,     0.78078,     0.78178,     0.78278,     0.78378,     0.78478,     0.78579,     0.78679,     0.78779,     0.78879,     0.78979,     0.79079,     0.79179,\n",
       "           0.79279,     0.79379,     0.79479,      0.7958,      0.7968,      0.7978,      0.7988,      0.7998,      0.8008,      0.8018,      0.8028,      0.8038,      0.8048,     0.80581,     0.80681,     0.80781,     0.80881,     0.80981,     0.81081,     0.81181,     0.81281,     0.81381,     0.81481,     0.81582,\n",
       "           0.81682,     0.81782,     0.81882,     0.81982,     0.82082,     0.82182,     0.82282,     0.82382,     0.82482,     0.82583,     0.82683,     0.82783,     0.82883,     0.82983,     0.83083,     0.83183,     0.83283,     0.83383,     0.83483,     0.83584,     0.83684,     0.83784,     0.83884,     0.83984,\n",
       "           0.84084,     0.84184,     0.84284,     0.84384,     0.84484,     0.84585,     0.84685,     0.84785,     0.84885,     0.84985,     0.85085,     0.85185,     0.85285,     0.85385,     0.85485,     0.85586,     0.85686,     0.85786,     0.85886,     0.85986,     0.86086,     0.86186,     0.86286,     0.86386,\n",
       "           0.86486,     0.86587,     0.86687,     0.86787,     0.86887,     0.86987,     0.87087,     0.87187,     0.87287,     0.87387,     0.87487,     0.87588,     0.87688,     0.87788,     0.87888,     0.87988,     0.88088,     0.88188,     0.88288,     0.88388,     0.88488,     0.88589,     0.88689,     0.88789,\n",
       "           0.88889,     0.88989,     0.89089,     0.89189,     0.89289,     0.89389,     0.89489,      0.8959,      0.8969,      0.8979,      0.8989,      0.8999,      0.9009,      0.9019,      0.9029,      0.9039,      0.9049,     0.90591,     0.90691,     0.90791,     0.90891,     0.90991,     0.91091,     0.91191,\n",
       "           0.91291,     0.91391,     0.91491,     0.91592,     0.91692,     0.91792,     0.91892,     0.91992,     0.92092,     0.92192,     0.92292,     0.92392,     0.92492,     0.92593,     0.92693,     0.92793,     0.92893,     0.92993,     0.93093,     0.93193,     0.93293,     0.93393,     0.93493,     0.93594,\n",
       "           0.93694,     0.93794,     0.93894,     0.93994,     0.94094,     0.94194,     0.94294,     0.94394,     0.94494,     0.94595,     0.94695,     0.94795,     0.94895,     0.94995,     0.95095,     0.95195,     0.95295,     0.95395,     0.95495,     0.95596,     0.95696,     0.95796,     0.95896,     0.95996,\n",
       "           0.96096,     0.96196,     0.96296,     0.96396,     0.96496,     0.96597,     0.96697,     0.96797,     0.96897,     0.96997,     0.97097,     0.97197,     0.97297,     0.97397,     0.97497,     0.97598,     0.97698,     0.97798,     0.97898,     0.97998,     0.98098,     0.98198,     0.98298,     0.98398,\n",
       "           0.98498,     0.98599,     0.98699,     0.98799,     0.98899,     0.98999,     0.99099,     0.99199,     0.99299,     0.99399,     0.99499,       0.996,       0.997,       0.998,       0.999,           1]), array([[          1,           1,           1, ...,           0,           0,           0],\n",
       "       [    0.99015,     0.99015,     0.98768, ...,           0,           0,           0],\n",
       "       [    0.98605,     0.98605,     0.98372, ...,           0,           0,           0],\n",
       "       [          1,           1,           1, ...,           0,           0,           0],\n",
       "       [    0.97701,     0.97701,     0.96552, ...,           0,           0,           0]]), 'Confidence', 'Recall']]\n",
       "fitness: 0.7880300777098882\n",
       "keys: ['metrics/precision(B)', 'metrics/recall(B)', 'metrics/mAP50(B)', 'metrics/mAP50-95(B)']\n",
       "maps: array([    0.73915,     0.75325,     0.78146,     0.81968,     0.75948])\n",
       "names: {0: 'bell', 1: 'card', 2: 'door', 3: 'pink', 4: 'yellow'}\n",
       "plot: True\n",
       "results_dict: {'metrics/precision(B)': 0.8881480732424022, 'metrics/recall(B)': 0.9229760747442679, 'metrics/mAP50(B)': 0.9448468137644171, 'metrics/mAP50-95(B)': 0.7706059959260516, 'fitness': 0.7880300777098882}\n",
       "save_dir: PosixPath('runs/detect/train21')\n",
       "speed: {'preprocess': 0.1615379633528463, 'inference': 1.2773760918820842, 'loss': 0.0005625606922621138, 'postprocess': 1.919135283888056}\n",
       "task: 'detect'"
      ]
     },
     "execution_count": 7,
     "metadata": {},
     "output_type": "execute_result"
    }
   ],
   "source": [
    "# 훈련 스크립트 실행\n",
    "# !python train.py --img 640 --batch 16 --epochs 100 --data {dataset.location}/data.yaml --weights /home/piai/yolov5/yolov5/pretrained/yolov8s.pt --cache\n",
    "\n",
    "model.train(data = './yolo8_busin/data.yaml', epochs=100, batch=16, imgsz=640)"
   ]
  },
  {
   "cell_type": "markdown",
   "id": "d24d5553-c18c-459e-8ed2-7ab99706b82c",
   "metadata": {},
   "source": [
    "## Validation"
   ]
  },
  {
   "cell_type": "code",
   "execution_count": 20,
   "id": "0a01cb01-3765-420a-af86-958d9efedb2a",
   "metadata": {},
   "outputs": [
    {
     "name": "stdout",
     "output_type": "stream",
     "text": [
      "\n",
      "image 1/553 /home/piai/yolo8_bus/valid/images/110_original_12-png_056285b3-ba5e-4547-94bc-11846ad5f7c8_png.rf.52080a90ef26866c3ef3319b9455dcc3.jpg: 640x640 2 class_0s, 1 class_22, 21.8ms\n",
      "image 2/553 /home/piai/yolo8_bus/valid/images/110_original_12-png_3220097e-5211-4899-9bff-f156f6c12f9b_png.rf.aa91d00eb1865403adb08bfed154466e.jpg: 640x640 1 class_0, 11.5ms\n",
      "image 3/553 /home/piai/yolo8_bus/valid/images/110_original_12-png_5a02cd6f-4fb1-4b73-8329-105d0aa69677_png.rf.17294e09c9561871792de704f33c0b0b.jpg: 640x640 4 class_0s, 1 class_22, 13.0ms\n",
      "image 4/553 /home/piai/yolo8_bus/valid/images/110_original_12-png_5e40e1ec-b853-499d-a73c-4529077b2177_png.rf.2043434fa8894c8fb30686c459f275d6.jpg: 640x640 1 class_0, 1 class_22, 13.8ms\n",
      "image 5/553 /home/piai/yolo8_bus/valid/images/110_original_12-png_5fc8dd94-d24a-475b-9a27-e67383b03e31_png.rf.a89779f0a7b70afa4e7c2e82c2ce7b0c.jpg: 640x640 4 class_0s, 1 class_22, 16.5ms\n",
      "image 6/553 /home/piai/yolo8_bus/valid/images/110_original_12-png_74f7c92c-c889-4762-a008-1085acd32be9_png.rf.b94c85f53a5f1deeff5d2dab32554bb2.jpg: 640x640 1 class_0, 15.0ms\n",
      "image 7/553 /home/piai/yolo8_bus/valid/images/110_original_12-png_799a9f1b-cacb-43e1-a276-ba5cd26ce8b5_png.rf.b9ce7557d79870c532edac388d488e9b.jpg: 640x640 3 class_0s, 2 class_22s, 15.0ms\n",
      "image 8/553 /home/piai/yolo8_bus/valid/images/110_original_12-png_7a89c6e3-da50-45fb-b699-40ba14e8d49c_png.rf.93293c72e12b8436fb31a0635c4a417d.jpg: 640x640 1 class_0, 12.9ms\n",
      "image 9/553 /home/piai/yolo8_bus/valid/images/110_original_12-png_8ad305e2-9c07-4ea7-805f-055714f17165_png.rf.eb774e9401c8dd4b70e5a42edd241e76.jpg: 640x640 2 class_0s, 1 class_22, 12.1ms\n",
      "image 10/553 /home/piai/yolo8_bus/valid/images/110_original_12-png_926871dc-911d-41b3-81b5-32fbfe7eddc1_png.rf.7dc6393700f95cfc0438b6c44a3d86ee.jpg: 640x640 1 class_0, 14.8ms\n",
      "image 11/553 /home/piai/yolo8_bus/valid/images/110_original_12-png_a6c2cb19-b1bd-43bd-9081-336d8f024863_png.rf.e48ac4018abf294fa852d8e3c2e2dc6c.jpg: 640x640 2 class_0s, 1 class_22, 17.5ms\n",
      "image 12/553 /home/piai/yolo8_bus/valid/images/110_original_12-png_bf5c90fd-f3be-4b35-9fc9-137e8ccf96ec_png.rf.a4564528869b5e1518e96b4991937aad.jpg: 640x640 2 class_0s, 1 class_22, 12.5ms\n",
      "image 13/553 /home/piai/yolo8_bus/valid/images/110_original_12-png_ffecdb7f-d31f-4468-ad50-16ded53526a3_png.rf.0ae0c238010d36e9fd977fedaf8d5e69.jpg: 640x640 1 class_0, 12.7ms\n",
      "image 14/553 /home/piai/yolo8_bus/valid/images/110_original_43-jpg_0f217cdd-f768-4847-82f2-46288cd1d314_jpg.rf.287754435c2e5544c515b92fa4ebfed7.jpg: 640x640 1 class_0, 2 class_22s, 12.5ms\n",
      "image 15/553 /home/piai/yolo8_bus/valid/images/110_original_43-jpg_14c7c2bd-56dc-4691-bb0a-789f1090cd72_jpg.rf.da34bd5c811c99ff09eac6e96c24bb6e.jpg: 640x640 1 class_0, 12.6ms\n",
      "image 16/553 /home/piai/yolo8_bus/valid/images/110_original_43-jpg_16713b9e-fc9d-403a-a2c8-4c9c11306778_jpg.rf.f06721f1d6923342cd0efb6dc43b0afa.jpg: 640x640 1 class_0, 12.0ms\n",
      "image 17/553 /home/piai/yolo8_bus/valid/images/110_original_43-jpg_28613048-cffe-4beb-ad79-66d9a8f103f5_jpg.rf.e9a9bec768f3a55bd6f0896dc7768cd6.jpg: 640x640 2 class_0s, 13.1ms\n",
      "image 18/553 /home/piai/yolo8_bus/valid/images/110_original_43-jpg_2dd5d5ec-9c8e-4ebc-996e-76ba43a2b348_jpg.rf.4377872f9e673160ae9e210496c34359.jpg: 640x640 2 class_0s, 1 class_22, 13.2ms\n",
      "image 19/553 /home/piai/yolo8_bus/valid/images/110_original_43-jpg_7ff884eb-d91e-4283-8087-77b215908db2_jpg.rf.0f10801044fb858a943079bcf887efaf.jpg: 640x640 2 class_0s, 1 class_22, 14.8ms\n",
      "image 20/553 /home/piai/yolo8_bus/valid/images/110_original_43-jpg_8a9d6e24-e7f7-4240-a8b5-d4e48e671ed4_jpg.rf.f83e1caf54c6b34f42efdf73c7f56235.jpg: 640x640 2 class_0s, 1 class_22, 16.8ms\n",
      "image 21/553 /home/piai/yolo8_bus/valid/images/110_original_43-jpg_c5084ab7-f65b-454e-9028-bdff3523ac00_jpg.rf.9d34249d5881c846e8542ff84aa6e233.jpg: 640x640 1 class_0, 1 class_22, 12.5ms\n",
      "image 22/553 /home/piai/yolo8_bus/valid/images/110_original_43-jpg_cb159065-6a68-4a9f-b9d0-cdabbe4a1d01_jpg.rf.8377c67d6bd41657f00b9e743f57fd54.jpg: 640x640 2 class_0s, 1 class_22, 12.5ms\n",
      "image 23/553 /home/piai/yolo8_bus/valid/images/110_original_58-jpeg_1223ca5d-eaba-434b-807d-c4e3776dff0e_jpeg.rf.4e3c7275ee5c8e55c88d5e590b7495d7.jpg: 640x640 2 class_0s, 13.8ms\n",
      "image 24/553 /home/piai/yolo8_bus/valid/images/110_original_58-jpeg_1417bd47-c4d0-4f39-a0d9-4ee7b661e990_jpeg.rf.007ad974cf7bd230fd71579b151329e0.jpg: 640x640 2 class_0s, 13.1ms\n",
      "image 25/553 /home/piai/yolo8_bus/valid/images/110_original_58-jpeg_1c88fec1-7564-49b4-8d82-167858e1ee56_jpeg.rf.52b86fb8d00aa9287562ce2f94a57548.jpg: 640x640 1 class_0, 13.5ms\n",
      "image 26/553 /home/piai/yolo8_bus/valid/images/110_original_58-jpeg_2cc1b89e-9b41-41c6-a085-a6dc6e6579db_jpeg.rf.21733aee6c09b78e82d5e80b184c9942.jpg: 640x640 1 class_0, 13.8ms\n",
      "image 27/553 /home/piai/yolo8_bus/valid/images/110_original_58-jpeg_3f088013-bef8-4fba-a878-f90391a01eca_jpeg.rf.0d99bf2c86718f10174cd1c6744c544f.jpg: 640x640 2 class_0s, 12.5ms\n",
      "image 28/553 /home/piai/yolo8_bus/valid/images/110_original_58-jpeg_554f8d67-def2-469e-b458-7b749a95e13a_jpeg.rf.ccced50e3c1b855d5c709636911e3790.jpg: 640x640 1 class_0, 12.8ms\n",
      "image 29/553 /home/piai/yolo8_bus/valid/images/110_original_58-jpeg_5c3a0633-6354-42db-b661-6415561d7d7d_jpeg.rf.e8610b6c031559754fd1ddab6cba4f62.jpg: 640x640 2 class_0s, 14.9ms\n",
      "image 30/553 /home/piai/yolo8_bus/valid/images/110_original_58-jpeg_65a85873-89f7-4be4-8a41-72a5cedbb77f_jpeg.rf.f34b38af62f3d6949ab44dc3ce6a75ed.jpg: 640x640 2 class_0s, 15.6ms\n",
      "image 31/553 /home/piai/yolo8_bus/valid/images/110_original_58-jpeg_693e5a9d-c2d8-458a-9b0f-ed712d297f97_jpeg.rf.abe2d599f103d1d1550085ddf6654749.jpg: 640x640 2 class_0s, 13.0ms\n",
      "image 32/553 /home/piai/yolo8_bus/valid/images/110_original_58-jpeg_9c3d8584-cdc3-4c72-a528-3aed0f56ef62_jpeg.rf.f1139153867e02866c7e0a8afd2af88e.jpg: 640x640 2 class_0s, 13.8ms\n",
      "image 33/553 /home/piai/yolo8_bus/valid/images/110_original_58-jpeg_b4443898-8af2-4de6-b3b3-912f8fb87cce_jpeg.rf.e3031d47fdd53364fefe72738aae6de2.jpg: 640x640 2 class_0s, 11.3ms\n",
      "image 34/553 /home/piai/yolo8_bus/valid/images/110_original_58-jpeg_d651d30f-c61b-4181-a76c-1586296f193b_jpeg.rf.8e981a0c07f8e2482abba6ca97466a09.jpg: 640x640 2 class_0s, 12.4ms\n",
      "image 35/553 /home/piai/yolo8_bus/valid/images/110_original_58-jpeg_d6dec971-13fa-43fa-86a4-378a59bbe49f_jpeg.rf.ba0ee4ae1e65459f3eedd72f8f330c72.jpg: 640x640 2 class_0s, 13.2ms\n",
      "image 36/553 /home/piai/yolo8_bus/valid/images/110_original_58-jpeg_dc82cb8f-92f1-4c12-a46a-7a72822519ec_jpeg.rf.e1b8e64558073ad31dead140da3c7194.jpg: 640x640 1 class_0, 13.2ms\n",
      "image 37/553 /home/piai/yolo8_bus/valid/images/110_original_58-jpeg_fcc1dd21-10ff-4667-948d-6785e42f3b11_jpeg.rf.9a6e9f32827dbe3da271175012c337a0.jpg: 640x640 2 class_0s, 11.6ms\n",
      "image 38/553 /home/piai/yolo8_bus/valid/images/111_original_13-png_1e688c9b-a99a-4443-b165-bef196ff0afa_png.rf.d74038a87468da84eda86633881af573.jpg: 640x640 3 class_1s, 1 class_22, 13.0ms\n",
      "image 39/553 /home/piai/yolo8_bus/valid/images/111_original_13-png_532b7559-6017-4d2e-954c-c2e347c34ee1_png.rf.b29bd13690848b6da168d6cb046ccaf4.jpg: 640x640 2 class_1s, 1 class_22, 12.8ms\n",
      "image 40/553 /home/piai/yolo8_bus/valid/images/111_original_13-png_79dd8a95-d305-493d-b5d6-e5a16cf45a0a_png.rf.19bd4239623d984cb0d5d98a5d67a191.jpg: 640x640 4 class_1s, 1 class_22, 14.8ms\n",
      "image 41/553 /home/piai/yolo8_bus/valid/images/111_original_13-png_8343c3cf-fdb5-4e0b-995d-ed21ba5e2fd8_png.rf.11844255bb11e31370d174c2bb36eae5.jpg: 640x640 2 class_1s, 1 class_22, 16.6ms\n",
      "image 42/553 /home/piai/yolo8_bus/valid/images/111_original_13-png_df0f5ff4-da46-4c6c-ad2a-e24e67c91b13_png.rf.0fa5a0ca507e04babe84b181a07f0441.jpg: 640x640 3 class_1s, 1 class_22, 12.3ms\n",
      "image 43/553 /home/piai/yolo8_bus/valid/images/111_original_13-png_e44e878d-8431-435c-9f18-eec4c118ae77_png.rf.c44508d44760cc4eec88e4e1108960ee.jpg: 640x640 5 class_1s, 1 class_22, 17.2ms\n",
      "image 44/553 /home/piai/yolo8_bus/valid/images/111_original_44-jpg_3636c0d3-6be3-4dc0-b536-6210aa137854_jpg.rf.6b2725d90a0faa5e4d83a018e6133e28.jpg: 640x640 1 class_1, 12.2ms\n",
      "image 45/553 /home/piai/yolo8_bus/valid/images/111_original_44-jpg_63ec48c2-4b2b-4f8f-a1a9-9fa7ec689c64_jpg.rf.6492619ec8abbdeb49bf3b3b7d1e39e1.jpg: 640x640 1 class_1, 14.0ms\n",
      "image 46/553 /home/piai/yolo8_bus/valid/images/111_original_44-jpg_811c4baa-02e2-43bb-9bf7-9886821d4c8e_jpg.rf.7af5ab730861fd2ce41db51d9a0e6688.jpg: 640x640 1 class_1, 17.5ms\n",
      "image 47/553 /home/piai/yolo8_bus/valid/images/111_original_44-jpg_ac37532f-2be7-4514-90e6-0f5c112027ca_jpg.rf.cdb6bd3502651b00c2b92fd137d01a3f.jpg: 640x640 1 class_1, 13.4ms\n",
      "image 48/553 /home/piai/yolo8_bus/valid/images/111_original_44-jpg_bd2e63c5-0e89-4c1c-be14-b5ab402c9737_jpg.rf.2e6c6b004a63549e1edf56ca94d3a661.jpg: 640x640 1 class_1, 12.1ms\n",
      "image 49/553 /home/piai/yolo8_bus/valid/images/111_original_44-jpg_ee06d33e-bfa9-4674-b1e2-fc35f4848ba5_jpg.rf.075a9658764f5eb64294d00eeff31981.jpg: 640x640 1 class_1, 15.8ms\n",
      "image 50/553 /home/piai/yolo8_bus/valid/images/111_original_44-jpg_f8106f9a-0f52-47c0-bcea-d354f27ad045_jpg.rf.31a65db0d101c50b3ece36c0f55c4f0d.jpg: 640x640 1 class_1, 18.2ms\n",
      "image 51/553 /home/piai/yolo8_bus/valid/images/111_original_44-jpg_fc9bf43c-a52c-4082-b797-dda9cdbfd65a_jpg.rf.dfb14cb5b5f8567c4694db948dbe2813.jpg: 640x640 1 class_1, 12.8ms\n",
      "image 52/553 /home/piai/yolo8_bus/valid/images/11_png.rf.233b79d5aa19b678e7740cadaf94491b.jpg: 640x640 1 class_17, 14.3ms\n",
      "image 53/553 /home/piai/yolo8_bus/valid/images/120_original_-2023-12-11-23-41-06-png_03b0d1c4-5241-4d3f-b6b7-b5669fb0f5a1_png.rf.5c4a4f466df7fb3721b98ce45a3de57f.jpg: 640x640 2 class_2s, 1 class_22, 12.9ms\n",
      "image 54/553 /home/piai/yolo8_bus/valid/images/120_original_-2023-12-11-23-41-06-png_1955609f-2853-4f18-9df5-c1db9f744295_png.rf.ffbf21a75c81efad879c1ed82b4cad5a.jpg: 640x640 1 class_2, 1 class_22, 13.7ms\n",
      "image 55/553 /home/piai/yolo8_bus/valid/images/120_original_-2023-12-11-23-41-06-png_3a796104-173c-483a-9ea5-ef92167d4415_png.rf.1e2a4051c549b8f9b322623a1024ae41.jpg: 640x640 1 class_2, 1 class_22, 11.4ms\n",
      "image 56/553 /home/piai/yolo8_bus/valid/images/120_original_-2023-12-11-23-41-06-png_40e4e8e8-d74d-42a4-911b-d61e0b56e729_png.rf.0a6c511eaf2ac7f3b522cf1f56e04505.jpg: 640x640 1 class_2, 1 class_22, 12.2ms\n",
      "image 57/553 /home/piai/yolo8_bus/valid/images/120_original_-2023-12-11-23-41-06-png_ad54bba8-ae9f-4ef0-ad86-b79c0e774484_png.rf.bab8c294c08db2d189de584e34d0f252.jpg: 640x640 1 class_2, 1 class_22, 12.5ms\n",
      "image 58/553 /home/piai/yolo8_bus/valid/images/120_original_-2023-12-11-23-41-06-png_eed71f54-d354-441e-90ba-1602ca9feb06_png.rf.a30af69a2d0bbd66a36c904ada47a09a.jpg: 640x640 1 class_22, 13.5ms\n",
      "image 59/553 /home/piai/yolo8_bus/valid/images/120_original_-2023-12-12-18-47-13-png_149045f3-8455-4262-940c-4bc4fea24492_png.rf.652ca596a2452f4f71d11f2b7857124a.jpg: 640x640 1 class_2, 13.7ms\n",
      "image 60/553 /home/piai/yolo8_bus/valid/images/120_original_-2023-12-12-18-47-13-png_31b92140-a91e-466b-8234-66ff4c130b82_png.rf.90d6676eff4d947f86428a87fc121d4b.jpg: 640x640 2 class_2s, 11.6ms\n",
      "image 61/553 /home/piai/yolo8_bus/valid/images/120_original_-2023-12-12-18-47-13-png_5d477882-af16-4e67-a67d-74d81e1c5289_png.rf.e3f77f582e9e5530f5bc8c04d438f2c8.jpg: 640x640 2 class_2s, 19.3ms\n",
      "image 62/553 /home/piai/yolo8_bus/valid/images/120_original_-2023-12-12-18-47-13-png_5ddd787f-3fe5-4430-a71c-58478359cd3e_png.rf.56008958fde2ae58c5752d04b404771a.jpg: 640x640 2 class_2s, 13.3ms\n",
      "image 63/553 /home/piai/yolo8_bus/valid/images/120_original_-2023-12-12-18-47-13-png_6a2626ff-4996-4c85-98ee-71929492b451_png.rf.78bbb6c1ed7267879811b6b8d261c1b8.jpg: 640x640 1 class_2, 13.5ms\n",
      "image 64/553 /home/piai/yolo8_bus/valid/images/120_original_-2023-12-12-18-47-13-png_7e342947-7b67-48d2-bfb9-00bf9b03b120_png.rf.6c25e8126435b94d49de4c0afb3baf31.jpg: 640x640 2 class_2s, 13.5ms\n",
      "image 65/553 /home/piai/yolo8_bus/valid/images/120_original_-2023-12-12-18-47-13-png_aa773fd5-5117-436b-95ba-5da2fdf78635_png.rf.c9358712bb3f52d24322c48eb5e3c8d2.jpg: 640x640 1 class_2, 13.4ms\n",
      "image 66/553 /home/piai/yolo8_bus/valid/images/120_original_-2023-12-12-18-47-52-png_04c15f5f-7265-437b-8893-7a1d212dace6_png.rf.8aa9076c886ae44045fd43631dd8bde4.jpg: 640x640 2 class_2s, 12.1ms\n",
      "image 67/553 /home/piai/yolo8_bus/valid/images/120_original_-2023-12-12-18-47-52-png_3c32c89e-d138-4e07-b45d-60770b7dc3be_png.rf.1ccf86319e72a085f6216a73b5af2df1.jpg: 640x640 2 class_2s, 13.8ms\n",
      "image 68/553 /home/piai/yolo8_bus/valid/images/120_original_-2023-12-12-18-47-52-png_45ac51ef-df88-4d17-8a3c-870ded12e7b6_png.rf.49c0607d0ca97afcbbb043760d0d056a.jpg: 640x640 2 class_2s, 12.2ms\n",
      "image 69/553 /home/piai/yolo8_bus/valid/images/120_original_-2023-12-12-18-47-52-png_80f410fd-4f1c-418e-84d2-2abc58a06816_png.rf.0ff5308310ab0f25a3990e095b94efe6.jpg: 640x640 2 class_2s, 11.4ms\n",
      "image 70/553 /home/piai/yolo8_bus/valid/images/120_original_-2023-12-12-18-47-52-png_8a254156-0b3d-44a4-a2e7-cd55f1dab452_png.rf.f16ae34d63684fa399729eb7e9d0d2b7.jpg: 640x640 2 class_2s, 15.5ms\n",
      "image 71/553 /home/piai/yolo8_bus/valid/images/120_original_-2023-12-12-18-47-52-png_d8742d43-0b8c-4089-b725-9adcbecee50e_png.rf.e3fba1ede23fe40948f8f4f4b7d6be65.jpg: 640x640 2 class_2s, 13.1ms\n",
      "image 72/553 /home/piai/yolo8_bus/valid/images/120_original_-2023-12-12-18-47-52-png_ead3334e-2ef4-4a09-ba8e-06f1ab514a96_png.rf.ab76e703f7701726af89ad4002e2188b.jpg: 640x640 2 class_2s, 13.0ms\n",
      "image 73/553 /home/piai/yolo8_bus/valid/images/120_original_14-png_4f8205ce-14cc-4755-9404-1995ba0ee7ab_png.rf.7f9b0b3dae16acf5d296485877595780.jpg: 640x640 4 class_2s, 1 class_22, 16.8ms\n",
      "image 74/553 /home/piai/yolo8_bus/valid/images/120_original_14-png_7ebfdec8-5878-4eb4-a302-52c3f8545e98_png.rf.1f51429fd50fb283f48356c149ea77f4.jpg: 640x640 4 class_2s, 1 class_22, 13.3ms\n",
      "image 75/553 /home/piai/yolo8_bus/valid/images/120_original_14-png_960eb466-281e-4125-a696-109dbec075ed_png.rf.36423f558c71af4ff3858eef372f878a.jpg: 640x640 4 class_2s, 1 class_22, 13.2ms\n",
      "image 76/553 /home/piai/yolo8_bus/valid/images/120_original_14-png_9882ad2c-96bf-4e7d-be47-5bfaac320389_png.rf.f23bc7ca1265e4677fdd942cd7e3fdb5.jpg: 640x640 3 class_2s, 1 class_22, 12.4ms\n",
      "image 77/553 /home/piai/yolo8_bus/valid/images/120_original_14-png_d00c9ad1-6258-43e5-bc67-4dec0b7b5ca4_png.rf.97a7d81a8c7e5e1a1e18451d500a59ef.jpg: 640x640 2 class_2s, 1 class_22, 16.7ms\n",
      "image 78/553 /home/piai/yolo8_bus/valid/images/120_original_45-jpg_05a4ecac-ca7b-4e46-a79f-23fdb334fab0_jpg.rf.06510a61ef74a2c7f98dfd7b798076e8.jpg: 640x640 3 class_2s, 2 class_22s, 12.4ms\n",
      "image 79/553 /home/piai/yolo8_bus/valid/images/120_original_45-jpg_1fbfc719-c4f5-45fa-987d-81ae47be1c24_jpg.rf.ac77649c4fe2bec38da8d669443f2044.jpg: 640x640 1 class_2, 2 class_22s, 13.1ms\n",
      "image 80/553 /home/piai/yolo8_bus/valid/images/120_original_45-jpg_2716a41f-b706-4c13-88fc-9217ab763425_jpg.rf.7afbfdeb8c2c1116f263f8ce385707a3.jpg: 640x640 3 class_2s, 2 class_22s, 13.3ms\n",
      "image 81/553 /home/piai/yolo8_bus/valid/images/120_original_45-jpg_27feb309-12d2-4a70-86c4-7a7b19ec8720_jpg.rf.4a410956a58b584d7b880600870e63df.jpg: 640x640 3 class_2s, 4 class_22s, 17.0ms\n",
      "image 82/553 /home/piai/yolo8_bus/valid/images/120_original_45-jpg_37970352-5ae7-4dee-80c1-e5f8d36c6586_jpg.rf.7427a4c310bd482d46902dfddfc337ac.jpg: 640x640 3 class_2s, 1 class_22, 13.6ms\n",
      "image 83/553 /home/piai/yolo8_bus/valid/images/120_original_45-jpg_5641f7f4-1a2f-4f53-8f9a-e73bdcb86046_jpg.rf.697b3c04a88fae9feafda05b4356c297.jpg: 640x640 1 class_2, 1 class_7, 1 class_22, 14.7ms\n",
      "image 84/553 /home/piai/yolo8_bus/valid/images/120_original_45-jpg_7fb0c98e-ed90-46e1-a484-df3f9c090f40_jpg.rf.9189112ab26961cc7aa96265341f6725.jpg: 640x640 2 class_2s, 1 class_22, 14.3ms\n",
      "image 85/553 /home/piai/yolo8_bus/valid/images/120_original_45-jpg_846be3e3-b918-4770-a39f-8f9949233ad9_jpg.rf.854ef6888237e6035526ba7b27ceffbd.jpg: 640x640 3 class_2s, 1 class_22, 12.8ms\n",
      "image 86/553 /home/piai/yolo8_bus/valid/images/120_original_45-jpg_c597f0aa-d03a-45c3-aa90-8e04726ccd9c_jpg.rf.8e023ea5dd3487721d082b87d764ae84.jpg: 640x640 1 class_2, 2 class_22s, 13.0ms\n",
      "image 87/553 /home/piai/yolo8_bus/valid/images/120_original_45-jpg_cadfc36a-728d-4164-a89d-c2e11a6c99e7_jpg.rf.e8505cf5a91e27833cd683966645b535.jpg: 640x640 1 class_2, 1 class_22, 11.5ms\n",
      "image 88/553 /home/piai/yolo8_bus/valid/images/120_original_45-jpg_cf69a94a-bbc2-4db7-923f-883f72328be9_jpg.rf.b80a74e9b8793b7b384bbae8b508e19f.jpg: 640x640 1 class_2, 13.6ms\n",
      "image 89/553 /home/piai/yolo8_bus/valid/images/120_original_45-jpg_d72a7ddf-e8ec-4955-868d-2510acb052e7_jpg.rf.123d79b9b846e629fe20c9b29a3e78bc.jpg: 640x640 1 class_2, 14.3ms\n",
      "image 90/553 /home/piai/yolo8_bus/valid/images/120_original_45-jpg_fe5a39ca-13e7-4f41-b7cd-5316697e6d40_jpg.rf.77c4cca7515753d689744516fbafe4d6.jpg: 640x640 3 class_2s, 2 class_22s, 13.7ms\n",
      "image 91/553 /home/piai/yolo8_bus/valid/images/121_original_15-png_1ecb45ff-f56b-4f02-9af1-db2ff6e4a93d_png.rf.9e8a593b77abc440360e1c253941c2c8.jpg: 640x640 3 class_3s, 1 class_22, 19.2ms\n",
      "image 92/553 /home/piai/yolo8_bus/valid/images/121_original_15-png_218571ab-a42f-4333-a028-5e62da8e4905_png.rf.52d13a70122f409f70d076299d6f3907.jpg: 640x640 2 class_3s, 1 class_22, 14.1ms\n",
      "image 93/553 /home/piai/yolo8_bus/valid/images/121_original_15-png_45201f72-1ff7-4547-81b7-ebc2f76606ff_png.rf.07b41cb8a64d019658b5f03bcac51261.jpg: 640x640 2 class_3s, 1 class_22, 18.3ms\n",
      "image 94/553 /home/piai/yolo8_bus/valid/images/121_original_15-png_727e0b13-6601-473c-92ae-b57107e43c1d_png.rf.d2e6f335d98f83c6366c624658a8f191.jpg: 640x640 2 class_3s, 1 class_22, 15.5ms\n",
      "image 95/553 /home/piai/yolo8_bus/valid/images/121_original_15-png_b8a705ae-6a12-4771-8a1c-8fecf4535938_png.rf.e92992d018004a506fd169910c285652.jpg: 640x640 2 class_3s, 1 class_22, 17.3ms\n",
      "image 96/553 /home/piai/yolo8_bus/valid/images/121_original_15-png_c70bdacc-72d6-4a55-8bb0-583173bc49d7_png.rf.f7363ff74a7409dd73d5e5d15c8ee5fb.jpg: 640x640 1 class_3, 2 class_22s, 15.7ms\n",
      "image 97/553 /home/piai/yolo8_bus/valid/images/121_original_15-png_cf4e8748-4b94-469c-adef-df10fda5b8db_png.rf.890a7c2068b1c3c649e93ffdc485ec01.jpg: 640x640 2 class_3s, 1 class_22, 15.5ms\n",
      "image 98/553 /home/piai/yolo8_bus/valid/images/121_original_15-png_d8db4bd0-bf22-4ffa-8ef0-bf771a678f77_png.rf.6b683b95464deb36c6952df1f87fb71e.jpg: 640x640 3 class_3s, 14.2ms\n",
      "image 99/553 /home/piai/yolo8_bus/valid/images/121_original_46-jpg_2afe7946-0f5f-4895-98a6-a0d9f003d762_jpg.rf.3d365f7da40d69045c138467c4becdb6.jpg: 640x640 1 class_3, 1 class_22, 12.6ms\n",
      "image 100/553 /home/piai/yolo8_bus/valid/images/121_original_46-jpg_2bc00932-616c-43d1-906e-14da11aee223_jpg.rf.da77e9700385cdc67498d60e8cdd1287.jpg: 640x640 1 class_3, 1 class_22, 13.6ms\n",
      "image 101/553 /home/piai/yolo8_bus/valid/images/121_original_46-jpg_4441d021-8826-4c94-9f4d-92b92798affc_jpg.rf.5ed91bef76de64434e1475dc26f06f71.jpg: 640x640 1 class_3, 1 class_22, 13.2ms\n",
      "image 102/553 /home/piai/yolo8_bus/valid/images/121_original_46-jpg_5ea9c86b-6453-49bf-9448-c779d6cb6a62_jpg.rf.d1a0eae4a66fb7228dde9979a699cdb0.jpg: 640x640 1 class_3, 16.2ms\n",
      "image 103/553 /home/piai/yolo8_bus/valid/images/121_original_46-jpg_98ef3597-a992-46d7-afde-5d36a64a8060_jpg.rf.f26d24d037b202ccd5234b06d7d0578a.jpg: 640x640 1 class_3, 1 class_22, 17.6ms\n",
      "image 104/553 /home/piai/yolo8_bus/valid/images/121_original_46-jpg_a6b2fb74-86f4-4f1e-af0c-160f1a8a39f8_jpg.rf.4820a0b37cd045fb04528abf5e0a0ee3.jpg: 640x640 1 class_3, 2 class_22s, 13.6ms\n",
      "image 105/553 /home/piai/yolo8_bus/valid/images/121_original_46-jpg_ed6ea8b9-f6a7-42a6-af41-76521bc1dacb_jpg.rf.532be41f8d35b7329d40b038ed701f0d.jpg: 640x640 1 class_3, 2 class_22s, 12.7ms\n",
      "image 106/553 /home/piai/yolo8_bus/valid/images/121_original_Screenshot_20231210_210242_Video-Player-jpg_16fb3f8c-3c91-4225-a019-e7874d1f4866_jpg.rf.3869a5bdd86cf2ac9f8eeb0ec80621e7.jpg: 640x640 2 class_3s, 10.5ms\n",
      "image 107/553 /home/piai/yolo8_bus/valid/images/121_original_Screenshot_20231210_210242_Video-Player-jpg_1df315c9-05da-451a-9aeb-2ae9f526a9c9_jpg.rf.f7bf737bd70bf2c842564bee32fd5468.jpg: 640x640 1 class_3, 14.2ms\n",
      "image 108/553 /home/piai/yolo8_bus/valid/images/121_original_Screenshot_20231210_210242_Video-Player-jpg_418552be-6207-4ac0-ac9e-c54ed5d6ff69_jpg.rf.d6ee817e933be70b907616bc2e764a21.jpg: 640x640 1 class_3, 13.4ms\n",
      "image 109/553 /home/piai/yolo8_bus/valid/images/121_original_Screenshot_20231210_210242_Video-Player-jpg_8bb42034-10ed-45c2-94af-9b23f12ce8d7_jpg.rf.dd1c62c04374083b1c9360ef26d0657a.jpg: 640x640 1 class_3, 11.0ms\n",
      "image 110/553 /home/piai/yolo8_bus/valid/images/121_original_Screenshot_20231210_210242_Video-Player-jpg_a151dd58-5633-47fb-9db6-033fd85d72fc_jpg.rf.a9e6e05d5876e08fa629f911fd84ba7d.jpg: 640x640 1 class_3, 14.7ms\n",
      "image 111/553 /home/piai/yolo8_bus/valid/images/121_original_Screenshot_20231210_210255_Video-Player-jpg_1a428e46-527e-40ec-8c87-cde1e01705c6_jpg.rf.d16c8d5cd70d355975c9ea7873ce633c.jpg: 640x640 1 class_3, 13.5ms\n",
      "image 112/553 /home/piai/yolo8_bus/valid/images/121_original_Screenshot_20231210_210255_Video-Player-jpg_863d0d89-d629-4ec3-a78b-6e9893d27976_jpg.rf.3ea772041eb1e4c8d1735ea2c11cfe0c.jpg: 640x640 1 class_3, 15.6ms\n",
      "image 113/553 /home/piai/yolo8_bus/valid/images/121_original_Screenshot_20231210_210255_Video-Player-jpg_a3727ee7-7329-419e-9cd6-1946e3e52b2e_jpg.rf.e466dbe391b108092d27011787e2a1b6.jpg: 640x640 1 class_3, 13.2ms\n",
      "image 114/553 /home/piai/yolo8_bus/valid/images/121_original_Screenshot_20231210_210255_Video-Player-jpg_e682c1c8-7263-4000-8910-a13c684f7a1f_jpg.rf.cc3fec3747a8547f9d2ebbaad90a35a8.jpg: 640x640 1 class_3, 13.0ms\n",
      "image 115/553 /home/piai/yolo8_bus/valid/images/121_original_Screenshot_20231210_210255_Video-Player-jpg_ff751361-358b-4d97-a295-a34f78eb4ec0_jpg.rf.92ae7540754995f518c66918c6bbb06d.jpg: 640x640 1 class_3, 13.3ms\n",
      "image 116/553 /home/piai/yolo8_bus/valid/images/130_original_-2023-12-12-01-46-05-png_23a9c686-3ae8-499f-a86d-abec78031341_png.rf.22a41096ba24a61ff31a62441edc6188.jpg: 640x640 2 class_4s, 1 class_22, 12.8ms\n",
      "image 117/553 /home/piai/yolo8_bus/valid/images/130_original_-2023-12-12-01-46-05-png_2b93a26d-440e-4a4a-a17d-76b7815d02e1_png.rf.2f5dbd5cbb730afe7e65e38b306c0e87.jpg: 640x640 1 class_4, 1 class_22, 13.3ms\n",
      "image 118/553 /home/piai/yolo8_bus/valid/images/130_original_-2023-12-12-01-46-05-png_38b1eb82-f728-47cf-ae7d-02c89bcc5954_png.rf.1ff37a2b3471b1fac59e5d27e78cb51c.jpg: 640x640 3 class_4s, 1 class_22, 13.1ms\n",
      "image 119/553 /home/piai/yolo8_bus/valid/images/130_original_-2023-12-12-01-46-05-png_4f39ad71-943a-409e-a55e-1615a6ef1f66_png.rf.ff095d0f75811620e7391eb10a50db8f.jpg: 640x640 2 class_4s, 1 class_22, 14.1ms\n",
      "image 120/553 /home/piai/yolo8_bus/valid/images/130_original_-2023-12-12-01-46-05-png_c77fd8ae-daf7-47c4-bb1a-6cdedbd4c281_png.rf.3ce4322f36d386eb09659e4cc62eddfb.jpg: 640x640 2 class_4s, 1 class_22, 14.0ms\n",
      "image 121/553 /home/piai/yolo8_bus/valid/images/130_original_-2023-12-12-01-46-53-png_41c3a6e7-1a81-4ab8-b6a9-2fa5652763bc_png.rf.3795ebabb2d2dd352d23948be792fc32.jpg: 640x640 1 class_4, 1 class_22, 12.9ms\n",
      "image 122/553 /home/piai/yolo8_bus/valid/images/130_original_-2023-12-12-01-46-53-png_7aa83cea-79e4-4aca-9fb3-19eae626f2f3_png.rf.96b0ee3060d53610065048f3b609c484.jpg: 640x640 2 class_4s, 1 class_22, 14.3ms\n",
      "image 123/553 /home/piai/yolo8_bus/valid/images/130_original_-2023-12-12-01-46-53-png_903fa2cf-6bcf-46ec-abde-8746bdb563ce_png.rf.0cc4e620dac87431bfa09c40fb88d9aa.jpg: 640x640 2 class_4s, 1 class_22, 11.4ms\n",
      "image 124/553 /home/piai/yolo8_bus/valid/images/130_original_-2023-12-12-01-46-53-png_93062cef-9589-44f0-833f-b1b80f2e4889_png.rf.3b55a437040d154067f27e60eb5fa0a5.jpg: 640x640 2 class_4s, 1 class_22, 14.1ms\n",
      "image 125/553 /home/piai/yolo8_bus/valid/images/130_original_-2023-12-12-01-46-53-png_a5e9914d-b2b6-4d39-a545-0d871c68b358_png.rf.d81545f6fc39665473dad2174c3c48e6.jpg: 640x640 2 class_4s, 1 class_22, 15.4ms\n",
      "image 126/553 /home/piai/yolo8_bus/valid/images/130_original_-2023-12-12-01-46-53-png_ac037703-70d4-4a9d-be88-367169c842c1_png.rf.99a727b974a0a50d9d1dbd6b1b858c13.jpg: 640x640 2 class_4s, 1 class_22, 12.7ms\n",
      "image 127/553 /home/piai/yolo8_bus/valid/images/130_original_-2023-12-12-01-46-53-png_bd59794f-1683-47ec-862e-8051140db20d_png.rf.c8f264e70bf2b1f3ac1c60e0ea3df4db.jpg: 640x640 1 class_4, 1 class_22, 13.8ms\n",
      "image 128/553 /home/piai/yolo8_bus/valid/images/130_original_-2023-12-12-01-46-53-png_e3ca13a5-0188-4a66-a768-dc1fd79e7ced_png.rf.158213f4bb5404283d17aa5adee563fa.jpg: 640x640 1 class_4, 1 class_22, 13.0ms\n",
      "image 129/553 /home/piai/yolo8_bus/valid/images/130_original_-2023-12-12-01-46-53-png_f6361586-c332-4da3-82a3-74a4897447f7_png.rf.53b7670b9e9fe5dfc03138a3ef68e9c4.jpg: 640x640 2 class_4s, 1 class_22, 15.6ms\n",
      "image 130/553 /home/piai/yolo8_bus/valid/images/130_original_-2023-12-12-01-46-53-png_ffef2802-e686-4b17-b573-5332377cf0f7_png.rf.cc00b9246b039f814b968ef0193f5719.jpg: 640x640 3 class_4s, 1 class_22, 14.4ms\n",
      "image 131/553 /home/piai/yolo8_bus/valid/images/130_original_16-png_0083881b-9439-4958-88ad-0b07ec618c8f_png.rf.5ab27fb54110975042f708cad2674e9f.jpg: 640x640 2 class_4s, 13.2ms\n",
      "image 132/553 /home/piai/yolo8_bus/valid/images/130_original_16-png_066a3ab0-04af-4462-a64d-05b1f483a3c0_png.rf.2276909b6dff8f71c3bcdb129c1ff88b.jpg: 640x640 2 class_4s, 13.8ms\n",
      "image 133/553 /home/piai/yolo8_bus/valid/images/130_original_16-png_3f736468-affb-47a0-979e-bff1377ee214_png.rf.6e21af360b8b257f4cff8a00f6d2bb58.jpg: 640x640 2 class_4s, 15.7ms\n",
      "image 134/553 /home/piai/yolo8_bus/valid/images/130_original_16-png_87e881d8-3832-43c9-a7c7-4271aa7dac78_png.rf.3bf79cdd71cba3ade4adedf297be2366.jpg: 640x640 (no detections), 14.6ms\n",
      "image 135/553 /home/piai/yolo8_bus/valid/images/130_original_16-png_8fe59a9b-cb9c-4b93-94b3-c8171103585c_png.rf.27ad1ed086e58a47bba9a2ea2d7e4f93.jpg: 640x640 2 class_4s, 13.9ms\n",
      "image 136/553 /home/piai/yolo8_bus/valid/images/130_original_47-jpg_17ad07a3-4226-43a9-ab9b-31facf4776e6_jpg.rf.2e8d0e7d5f80001699b67339461e7b55.jpg: 640x640 3 class_4s, 1 class_22, 14.9ms\n",
      "image 137/553 /home/piai/yolo8_bus/valid/images/130_original_47-jpg_4e454b65-05ac-42c7-9373-f026fb298e69_jpg.rf.469615b2b5c812edf97faf22e2600e14.jpg: 640x640 2 class_4s, 1 class_22, 14.3ms\n",
      "image 138/553 /home/piai/yolo8_bus/valid/images/130_original_48-JPG_ee20871a-c354-4d30-b433-1d180f8b8aff_JPG.rf.d4b81c511ec4ea28ea3135886725d98c.jpg: 640x640 2 class_4s, 1 class_22, 18.0ms\n",
      "image 139/553 /home/piai/yolo8_bus/valid/images/130_original_50-png_3b2f037b-08ee-4443-89aa-1d9df92dd4c4_png.rf.bb1aedc73e9c31e17d691e9aa77fbb53.jpg: 640x640 1 class_4, 1 class_22, 12.8ms\n",
      "image 140/553 /home/piai/yolo8_bus/valid/images/130_original_50-png_8c8f7ab9-5f09-4a07-992f-666af2dc61b9_png.rf.218dbc758baa3cf51f736ddc1e75ebef.jpg: 640x640 1 class_4, 1 class_22, 11.6ms\n",
      "image 141/553 /home/piai/yolo8_bus/valid/images/130_original_50-png_bf86bf11-8bf8-4cfb-8765-379b7e793da4_png.rf.953cf93ab92e2f9741fc32822a4549a9.jpg: 640x640 1 class_4, 3 class_22s, 13.6ms\n",
      "image 142/553 /home/piai/yolo8_bus/valid/images/130_original_51-png_0c67afde-2be9-471f-b825-717f603f8965_png.rf.e471678451697f17344b4b4b62d42b8c.jpg: 640x640 1 class_4, 13.2ms\n",
      "image 143/553 /home/piai/yolo8_bus/valid/images/130_original_51-png_55de27c5-3295-4414-99e0-58764f57e729_png.rf.49cd4319fa93f4818ac6db546d485b70.jpg: 640x640 2 class_4s, 1 class_22, 15.1ms\n",
      "image 144/553 /home/piai/yolo8_bus/valid/images/130_original_51-png_eb6dc407-7a81-4efb-8ffd-075a7bd2e888_png.rf.616474b6ab5799c05578cfeb0520cd03.jpg: 640x640 2 class_4s, 1 class_22, 14.1ms\n",
      "image 145/553 /home/piai/yolo8_bus/valid/images/130_original_54-jpg_96a26f1a-0c45-4347-b0cd-b2b3c8027357_jpg.rf.1bb807cf01fc8d30e9808c67e3a39a3c.jpg: 640x640 3 class_4s, 1 class_22, 12.6ms\n",
      "image 146/553 /home/piai/yolo8_bus/valid/images/130_original_54-jpg_a98a8876-9f15-4162-9fdf-0d653cab7ef3_jpg.rf.0008dce434bdb8d3c062f78d5ef06ff1.jpg: 640x640 2 class_4s, 1 class_22, 13.4ms\n",
      "image 147/553 /home/piai/yolo8_bus/valid/images/130_original_54-jpg_c2998a69-3f85-42b1-9081-35d57550b4ae_jpg.rf.cda630d4a015b1552d6cbff645339e63.jpg: 640x640 2 class_4s, 1 class_22, 14.4ms\n",
      "image 148/553 /home/piai/yolo8_bus/valid/images/130_original_66-png_32b7b447-f773-4ca6-af5a-c077925fca92_png.rf.eb3ee840db38bd4153727b4b83adaf8e.jpg: 640x640 1 class_4, 13.2ms\n",
      "image 149/553 /home/piai/yolo8_bus/valid/images/130_original_66-png_38640136-47eb-43b9-897f-9f3f909e35c2_png.rf.466c4019fa3c7a4228fb567700e348d7.jpg: 640x640 1 class_4, 1 class_14, 13.4ms\n",
      "image 150/553 /home/piai/yolo8_bus/valid/images/130_original_66-png_54caec98-6c47-42bd-8e25-cd325a0321eb_png.rf.2774cabe6b3ff260636a298d01562917.jpg: 640x640 1 class_4, 13.2ms\n",
      "image 151/553 /home/piai/yolo8_bus/valid/images/130_original_66-png_8e5f82f7-cc4b-425f-aa29-7794c1067e2b_png.rf.4e5a5784decc34baf4f121b23bc5d86a.jpg: 640x640 1 class_4, 12.6ms\n",
      "image 152/553 /home/piai/yolo8_bus/valid/images/130_original_66-png_ec665bf6-6840-42e7-bb85-15ab0ed5f14c_png.rf.f3f462606d51c6d1ed5430b82ae73a7d.jpg: 640x640 1 class_4, 14.2ms\n",
      "image 153/553 /home/piai/yolo8_bus/valid/images/130_original_IMG_7146-PNG_3b1cdeca-9360-43b3-b2b0-77fd9fdaf0a7_PNG.rf.7fe8d148ba5d0d962485f0884e4b1158.jpg: 640x640 4 class_4s, 2 class_22s, 10.6ms\n",
      "image 154/553 /home/piai/yolo8_bus/valid/images/130_original_IMG_7146-PNG_481d08eb-eebe-4e20-ac12-6f6eab846dda_PNG.rf.f00b2ef04a46d19a61e6dbbdcedd0133.jpg: 640x640 1 class_4, 13.5ms\n",
      "image 155/553 /home/piai/yolo8_bus/valid/images/131_original_17-png_083ac7f4-1a1f-4bf1-a391-dd0787c9536b_png.rf.fd46b0faf70eeca4a5920506aa364fad.jpg: 640x640 4 class_5s, 1 class_22, 13.5ms\n",
      "image 156/553 /home/piai/yolo8_bus/valid/images/131_original_17-png_3b465870-4ebc-4b0c-aa0e-e431426fddee_png.rf.b73dfdce3625b6bf958ca2f42a97c48e.jpg: 640x640 1 class_5, 14.1ms\n",
      "image 157/553 /home/piai/yolo8_bus/valid/images/131_original_17-png_6e29867d-0ab0-4377-8c2a-cb63c65f3468_png.rf.312275ade514c7734d62b887114f30ab.jpg: 640x640 2 class_5s, 2 class_22s, 15.7ms\n",
      "image 158/553 /home/piai/yolo8_bus/valid/images/131_original_17-png_c39b73d5-7f48-4cc5-92d4-493a00b03129_png.rf.42d463bd8a37cbbe76716efc6153db63.jpg: 640x640 4 class_5s, 1 class_22, 12.0ms\n",
      "image 159/553 /home/piai/yolo8_bus/valid/images/131_original_17-png_e9e75e21-11d5-425e-93b1-ea27acda19df_png.rf.92061403d3bde94146f50082c908596b.jpg: 640x640 2 class_5s, 1 class_22, 14.5ms\n",
      "image 160/553 /home/piai/yolo8_bus/valid/images/131_original_68-jpg_0da9ef74-3cb3-4822-99e5-1c6060886346_jpg.rf.a0bbb9ce66b79b7d6ce5e1f1e8797665.jpg: 640x640 2 class_5s, 15.1ms\n",
      "image 161/553 /home/piai/yolo8_bus/valid/images/131_original_68-jpg_58c7f37f-a57f-4a03-a0ac-94b19f032e82_jpg.rf.8d735777f8976665c6dfc917de9740a2.jpg: 640x640 1 class_5, 1 class_10, 14.6ms\n",
      "image 162/553 /home/piai/yolo8_bus/valid/images/131_original_68-jpg_9e59b5e4-db43-4aff-b543-d27f5a6614da_jpg.rf.92fe82b1880fbddbaaf151b2928553cf.jpg: 640x640 2 class_5s, 12.5ms\n",
      "image 163/553 /home/piai/yolo8_bus/valid/images/131_original_68-jpg_9f53a78d-5106-413f-a2f9-13e675b024ea_jpg.rf.cf341cd3a01443309b53ab54484a66a0.jpg: 640x640 2 class_5s, 12.9ms\n",
      "image 164/553 /home/piai/yolo8_bus/valid/images/131_original_68-jpg_a4114f1b-6669-4728-a908-ba7514d55012_jpg.rf.6ed1b1a331b32d85771697b02ae389f3.jpg: 640x640 2 class_5s, 14.3ms\n",
      "image 165/553 /home/piai/yolo8_bus/valid/images/131_original_68-jpg_a8c596b9-f1cb-4a6c-aea0-222525ea409d_jpg.rf.f82387d03589c3a512ec644c8e1fca02.jpg: 640x640 2 class_5s, 12.1ms\n",
      "image 166/553 /home/piai/yolo8_bus/valid/images/131_original_68-jpg_b1854d48-33cb-4345-b580-af3598ba5643_jpg.rf.0020dfaaa637a3f415278c4ce8b6d25e.jpg: 640x640 2 class_5s, 13.6ms\n",
      "image 167/553 /home/piai/yolo8_bus/valid/images/131_original_IMG_7021-PNG_17305a8d-053a-417b-bb6b-f279dff90292_PNG.rf.69c3e70008fa366bbfd8a9448662146b.jpg: 640x640 3 class_5s, 16.4ms\n",
      "image 168/553 /home/piai/yolo8_bus/valid/images/131_original_IMG_7021-PNG_37057427-f786-448f-b637-2b7ef5b5d449_PNG.rf.8efe5b59172355f95e4154b1ac700462.jpg: 640x640 2 class_5s, 1 class_22, 12.4ms\n",
      "image 169/553 /home/piai/yolo8_bus/valid/images/131_original_IMG_7021-PNG_37c18a08-0940-446d-b085-98931562ac49_PNG.rf.64d74dda828e7aa3feeab4c1a93993fc.jpg: 640x640 3 class_5s, 18.0ms\n",
      "image 170/553 /home/piai/yolo8_bus/valid/images/131_original_IMG_7021-PNG_44195fb5-6d07-4fde-a832-48ef2d7035d2_PNG.rf.4eb474338ea3396b090fbd47943187e3.jpg: 640x640 3 class_5s, 12.1ms\n",
      "image 171/553 /home/piai/yolo8_bus/valid/images/131_original_IMG_7021-PNG_51163fdf-a30e-4895-9d14-368df9760c21_PNG.rf.e3407aff722d390d009a963c8dfe5bb8.jpg: 640x640 2 class_5s, 12.8ms\n",
      "image 172/553 /home/piai/yolo8_bus/valid/images/131_original_IMG_7021-PNG_59acdb04-7eca-413d-9bc9-95be2b0a39ad_PNG.rf.5cf4b47b6630cc93fd336e9b7e83a08c.jpg: 640x640 2 class_5s, 11.9ms\n",
      "image 173/553 /home/piai/yolo8_bus/valid/images/131_original_IMG_7021-PNG_6a072aa6-f678-4cc2-b0cd-a865231a08de_PNG.rf.b5b349b5ec6416127b44fac40141e52c.jpg: 640x640 2 class_5s, 13.2ms\n",
      "image 174/553 /home/piai/yolo8_bus/valid/images/131_original_IMG_7021-PNG_a0752e49-e4ac-4aba-b9e6-c364c03b844a_PNG.rf.61c40d8c3ddefb675ebecd4c3f5d7a8e.jpg: 640x640 3 class_5s, 13.6ms\n",
      "image 175/553 /home/piai/yolo8_bus/valid/images/131_original_IMG_7021-PNG_a728cab6-bdde-4687-894f-288432a01159_PNG.rf.7fa3fa8c24556002183ce536561e74d9.jpg: 640x640 2 class_5s, 14.4ms\n",
      "image 176/553 /home/piai/yolo8_bus/valid/images/131_original_IMG_7021-PNG_b6907325-1fe7-452d-8494-6680f8457046_PNG.rf.cf564edd974caffc4ed131be5effb921.jpg: 640x640 3 class_5s, 13.8ms\n",
      "image 177/553 /home/piai/yolo8_bus/valid/images/131_original_IMG_7021-PNG_b8457445-aa38-4157-ab18-aaace64edb6b_PNG.rf.d8b4afafc3200dc8bec8e5c69effb6fe.jpg: 640x640 2 class_5s, 14.8ms\n",
      "image 178/553 /home/piai/yolo8_bus/valid/images/131_original_IMG_7021-PNG_fdfbc10a-047e-498e-ac08-4cfdedce3a91_PNG.rf.9ac2ad881c8a895e7323bb862bb88b81.jpg: 640x640 2 class_5s, 14.2ms\n",
      "image 179/553 /home/piai/yolo8_bus/valid/images/131_original_Screenshot_20231210_210710_Video-Player-jpg_a15d9b6a-aa54-4f45-a345-2292179748ea_jpg.rf.2afba80398f7bd87c87caf520c87e65e.jpg: 640x640 1 class_5, 14.2ms\n",
      "image 180/553 /home/piai/yolo8_bus/valid/images/131_original_Screenshot_20231210_211239_Video-Player-jpg_2c0ce306-e31e-406e-a8a3-0596aa40f3ec_jpg.rf.0e317807127b3484862b7924730aa7ec.jpg: 640x640 2 class_5s, 13.2ms\n",
      "image 181/553 /home/piai/yolo8_bus/valid/images/131_original_Screenshot_20231210_211530_Video-Player-jpg_47e33419-c54d-46b4-b628-3f8a3f8ea363_jpg.rf.01b2a83460d4f269b5035011ec850b70.jpg: 640x640 1 class_5, 13.2ms\n",
      "image 182/553 /home/piai/yolo8_bus/valid/images/131_original_Screenshot_20231210_211530_Video-Player-jpg_bd79809b-97a7-4ffe-bf81-6f7e4a21b6c8_jpg.rf.3fd0eed5fb5b85fb895ba619ca06d97c.jpg: 640x640 1 class_5, 13.8ms\n",
      "image 183/553 /home/piai/yolo8_bus/valid/images/131_original_Screenshot_20231210_211530_Video-Player-jpg_e35c062a-ea0b-4d41-90f2-20148f823bfa_jpg.rf.b84077e9e2a5a37258eba309b10399b8.jpg: 640x640 1 class_5, 15.8ms\n",
      "image 184/553 /home/piai/yolo8_bus/valid/images/13_png.rf.70fd3ea07ef255c54755372171038ab0.jpg: 640x640 3 class_1s, 1 class_22, 11.2ms\n",
      "image 185/553 /home/piai/yolo8_bus/valid/images/15_png.rf.9eddf2fee594c957d7a0d870fbfefcac.jpg: 640x640 2 class_3s, 1 class_22, 13.7ms\n",
      "image 186/553 /home/piai/yolo8_bus/valid/images/17_png.rf.64d0f0f82261c2bc3741a5222cefbc13.jpg: 640x640 2 class_5s, 1 class_22, 14.0ms\n",
      "image 187/553 /home/piai/yolo8_bus/valid/images/1_png.rf.400e23ced52d54713ad2824969204ad4.jpg: 640x640 2 class_16s, 1 class_22, 11.2ms\n",
      "image 188/553 /home/piai/yolo8_bus/valid/images/20231210_201737_jpg.rf.b98b22126c7c3247cd2002ec3f6d8ed3.jpg: 640x640 1 class_22, 12.8ms\n",
      "image 189/553 /home/piai/yolo8_bus/valid/images/20231210_204549_jpg.rf.f18bf6cf0183f0f9cd83df3740ea62a5.jpg: 640x640 1 class_20, 11.3ms\n",
      "image 190/553 /home/piai/yolo8_bus/valid/images/20231210_210011_jpg.rf.707403b076ab0f490d56d1ee6b96c62a.jpg: 640x640 1 class_6, 14.6ms\n",
      "image 191/553 /home/piai/yolo8_bus/valid/images/20231210_213057_jpg.rf.bb3fa43f113511ee29aeb9961b44ea32.jpg: 640x640 7 class_20s, 1 class_22, 12.8ms\n",
      "image 192/553 /home/piai/yolo8_bus/valid/images/20231210_213549_jpg.rf.49da2673e6a815acd9ced917a2ada42f.jpg: 640x640 1 class_10, 15.9ms\n",
      "image 193/553 /home/piai/yolo8_bus/valid/images/206_original_-2023-12-12-01-41-26-png_a2d3c4ac-e97a-4e9e-8569-d07807c58080_png.rf.530fc15127a73c1ec3b7466f3c76b52d.jpg: 640x640 2 class_6s, 1 class_22, 13.6ms\n",
      "image 194/553 /home/piai/yolo8_bus/valid/images/206_original_-2023-12-12-01-41-38-png_1a4804f0-f897-4a35-9eb3-b89b96d17ca5_png.rf.2273c56efd0fd25d53bdd4dd0a9be520.jpg: 640x640 1 class_6, 1 class_22, 14.2ms\n",
      "image 195/553 /home/piai/yolo8_bus/valid/images/206_original_-2023-12-12-01-41-38-png_1b5328c8-78d9-4395-b0e8-d01ffe286c18_png.rf.12ceaaaee9d0384e7ce4f7c6ec10c2b2.jpg: 640x640 3 class_6s, 1 class_7, 1 class_22, 15.6ms\n",
      "image 196/553 /home/piai/yolo8_bus/valid/images/206_original_-2023-12-12-01-41-38-png_3e731713-845c-4b6d-b37f-9161d4d1be34_png.rf.4c1d2d2b77aac08c8f07b763f384bf64.jpg: 640x640 1 class_6, 15.5ms\n",
      "image 197/553 /home/piai/yolo8_bus/valid/images/206_original_-2023-12-12-01-41-38-png_4fc5bbcc-aa17-482e-98e2-6d1d6fc1979c_png.rf.7a605acd05e4e1c55d8dff1e743501d9.jpg: 640x640 1 class_6, 1 class_7, 1 class_22, 11.0ms\n",
      "image 198/553 /home/piai/yolo8_bus/valid/images/206_original_-2023-12-12-01-41-38-png_71ffc2aa-a44d-4de9-a09e-68e03170acaa_png.rf.cb0c095cad8f1205f0fb14b872e0313a.jpg: 640x640 1 class_22, 13.4ms\n",
      "image 199/553 /home/piai/yolo8_bus/valid/images/206_original_-2023-12-12-01-42-13-png_35940fa1-f402-484f-b203-1cc9dd488ed1_png.rf.52a3db4e14fc7932faaa6f42326bc7f1.jpg: 640x640 1 class_6, 13.8ms\n",
      "image 200/553 /home/piai/yolo8_bus/valid/images/206_original_-2023-12-12-01-42-50-png_f5913547-5897-4717-ab8e-74531da10e62_png.rf.27f6c221145c4f454fc60fae42d3b18c.jpg: 640x640 1 class_6, 1 class_22, 13.8ms\n",
      "image 201/553 /home/piai/yolo8_bus/valid/images/206_original_-2023-12-12-01-43-00-png_3a38cde2-8025-4805-bd1d-6de9d1c4ccee_png.rf.3305ee42b17e4faca7a277a150efa2aa.jpg: 640x640 1 class_6, 1 class_22, 13.5ms\n",
      "image 202/553 /home/piai/yolo8_bus/valid/images/206_original_-2023-12-12-01-43-00-png_c1273285-7671-475c-8c55-0857f8a345dd_png.rf.7c90694728299d2990e3530f03641dab.jpg: 640x640 1 class_6, 1 class_22, 13.7ms\n",
      "image 203/553 /home/piai/yolo8_bus/valid/images/206_original_-2023-12-12-01-43-00-png_e39f9f4e-cc10-491c-9eed-6d121e73ccea_png.rf.1931dd70c43e270f4995aabb4c977d60.jpg: 640x640 2 class_6s, 1 class_22, 17.7ms\n",
      "image 204/553 /home/piai/yolo8_bus/valid/images/206_original_18-png_0fb330e2-c667-46b3-a38f-cd8ea0be8ade_png.rf.5cddffd7d254f335e271db849cafb2f3.jpg: 640x640 1 class_6, 1 class_22, 13.5ms\n",
      "image 205/553 /home/piai/yolo8_bus/valid/images/206_original_19-png_1f7742a4-557f-448d-a58b-0841cbfa8c8a_png.rf.243aa3a5a93543c354ea2706cd3a9dd9.jpg: 640x640 3 class_6s, 1 class_22, 12.2ms\n",
      "image 206/553 /home/piai/yolo8_bus/valid/images/206_original_19-png_6d083597-4f98-4a6a-9376-b8a31c06c705_png.rf.6733da55c06981f51b8b94ab8d2f7f4d.jpg: 640x640 2 class_6s, 1 class_22, 12.9ms\n",
      "image 207/553 /home/piai/yolo8_bus/valid/images/206_original_19-png_c952c93e-f941-405a-b21b-c0a2fc06fae5_png.rf.147f08b925f9374b682ed264cd88c25b.jpg: 640x640 1 class_6, 1 class_22, 13.5ms\n",
      "image 208/553 /home/piai/yolo8_bus/valid/images/206_original_19-png_ea85a10b-f359-4bc9-8824-4b252df0dc80_png.rf.2015ffde40fd79cc66eee49f2e056292.jpg: 640x640 1 class_6, 1 class_22, 13.4ms\n",
      "image 209/553 /home/piai/yolo8_bus/valid/images/206_original_69-jpg_0532351d-1459-42c2-8d34-0f001542a1dc_jpg.rf.75f1fc68053dce4fcaaf9c524add4426.jpg: 640x640 2 class_6s, 1 class_22, 13.6ms\n",
      "image 210/553 /home/piai/yolo8_bus/valid/images/206_original_69-jpg_87e0434e-9391-4110-8064-c489c96d8759_jpg.rf.8906dd7b3a2dfa5da1f874c899b04ab9.jpg: 640x640 2 class_6s, 1 class_22, 15.2ms\n",
      "image 211/553 /home/piai/yolo8_bus/valid/images/206_original_69-jpg_b7bb4fe0-5e9e-4be7-9291-c2539343d453_jpg.rf.77b3f56b4ba2dba0a7ac398efc9676bd.jpg: 640x640 1 class_6, 13.6ms\n",
      "image 212/553 /home/piai/yolo8_bus/valid/images/206_original_69-jpg_e33f9e14-3faa-4d2c-876c-6331355ca260_jpg.rf.dd50d0876e0359b1860aa54436ca310e.jpg: 640x640 2 class_6s, 1 class_22, 13.3ms\n",
      "image 213/553 /home/piai/yolo8_bus/valid/images/206_original_70-jpg_133b4482-200f-4d45-bf77-9d9b7c080573_jpg.rf.27d9c00c17bfbb059b064d9bb9706e55.jpg: 640x640 1 class_6, 13.5ms\n",
      "image 214/553 /home/piai/yolo8_bus/valid/images/206_original_70-jpg_211bfac9-86a9-4cb5-954e-6cd7002aadda_jpg.rf.aed2e8a876b557536f130ccc7dcb1139.jpg: 640x640 1 class_6, 11.2ms\n",
      "image 215/553 /home/piai/yolo8_bus/valid/images/206_original_70-jpg_4c691e44-51eb-4944-bf75-01d738dc57b4_jpg.rf.c1cbc3cccc2f5f42672f418b9926d05d.jpg: 640x640 1 class_6, 11.9ms\n",
      "image 216/553 /home/piai/yolo8_bus/valid/images/206_original_70-jpg_db60666c-80c8-44d3-a896-e6ed070fb546_jpg.rf.2c46d2e2fa43f89f99c1da888667d9ef.jpg: 640x640 1 class_6, 1 class_14, 12.6ms\n",
      "image 217/553 /home/piai/yolo8_bus/valid/images/206_original_71-jpg_1cdfd6ff-3f98-4165-9bbb-571b95d86a03_jpg.rf.2545b264d9a75f023621a1f72ba2048d.jpg: 640x640 5 class_6s, 1 class_22, 13.4ms\n",
      "image 218/553 /home/piai/yolo8_bus/valid/images/206_original_71-jpg_2e600173-bc36-4807-88d8-ae8e64cf6806_jpg.rf.8838996946d142013935847860bead68.jpg: 640x640 5 class_6s, 1 class_22, 12.4ms\n",
      "image 219/553 /home/piai/yolo8_bus/valid/images/206_original_71-jpg_385ae0c2-40e9-4c28-89b5-3315c66d00cb_jpg.rf.3ca372f08055e51895c803b478ba37dc.jpg: 640x640 3 class_6s, 1 class_22, 14.4ms\n",
      "image 220/553 /home/piai/yolo8_bus/valid/images/206_original_71-jpg_7986a7e5-8905-4b58-aa50-e1c01403c5f9_jpg.rf.2994d09f891fb0bf0871e67d4b43f91e.jpg: 640x640 1 class_6, 1 class_22, 12.7ms\n",
      "image 221/553 /home/piai/yolo8_bus/valid/images/206_original_71-jpg_eeadfea7-bb9b-4a81-b270-6b3895357a35_jpg.rf.e59dde8faf01e93a7bff75e20f4d0792.jpg: 640x640 5 class_6s, 1 class_22, 13.7ms\n",
      "image 222/553 /home/piai/yolo8_bus/valid/images/207_original_-2023-12-12-21-51-47-png_2ab721f4-06ca-4075-a61b-29e8ca83b9a7_png.rf.630acd804e3ac51f2f08ee120e796c07.jpg: 640x640 1 class_7, 1 class_22, 13.8ms\n",
      "image 223/553 /home/piai/yolo8_bus/valid/images/207_original_-2023-12-12-21-51-47-png_5c76956b-f15e-413e-8113-bdbb890d1d18_png.rf.8f8ab3e57b7c19fd256c0a01b1abf1b5.jpg: 640x640 1 class_7, 1 class_22, 13.7ms\n",
      "image 224/553 /home/piai/yolo8_bus/valid/images/207_original_-2023-12-12-21-51-47-png_e8de3c9b-8d5f-4a1a-af92-86e25ad72671_png.rf.788b60e80a4cffbda5fd9bc6852f9bf5.jpg: 640x640 2 class_7s, 1 class_22, 15.3ms\n",
      "image 225/553 /home/piai/yolo8_bus/valid/images/207_original_-2023-12-12-21-52-05-png_92e16f39-e666-4b2d-9dc7-422fdab1ddca_png.rf.052cb0ff29846f8c9edfddba2567c194.jpg: 640x640 1 class_7, 1 class_22, 12.6ms\n",
      "image 226/553 /home/piai/yolo8_bus/valid/images/207_original_-2023-12-12-21-52-05-png_bab8b007-9777-4bd7-bbad-e862fa0de01c_png.rf.37fe570707f8d03fbccbe2a77505af5d.jpg: 640x640 1 class_7, 1 class_22, 14.8ms\n",
      "image 227/553 /home/piai/yolo8_bus/valid/images/207_original_-2023-12-12-21-52-15-png_59a260fd-cdd1-4390-8fa8-bb15f5e3b2b9_png.rf.16e3efe671aa7a45309cc257e961df48.jpg: 640x640 2 class_7s, 1 class_22, 16.3ms\n",
      "image 228/553 /home/piai/yolo8_bus/valid/images/207_original_-2023-12-12-21-52-15-png_6ef5cd07-10f4-4002-9a2c-4188b8b36e5f_png.rf.cde63e910b35f294d9f1a56a5cc9f5b7.jpg: 640x640 1 class_7, 1 class_22, 13.1ms\n",
      "image 229/553 /home/piai/yolo8_bus/valid/images/207_original_-2023-12-12-21-52-15-png_a325bb9a-8caf-4bb6-bece-3b547f89f0b0_png.rf.012c33a7e7019983952fa08dca2250dd.jpg: 640x640 2 class_7s, 1 class_22, 12.0ms\n",
      "image 230/553 /home/piai/yolo8_bus/valid/images/207_original_-2023-12-12-21-52-15-png_f79ee566-32c4-4da2-9dd3-da9668113961_png.rf.f9e69f56ed5199c4da151a6fe279a142.jpg: 640x640 2 class_7s, 1 class_22, 12.8ms\n",
      "image 231/553 /home/piai/yolo8_bus/valid/images/207_original_-2023-12-12-21-52-26-png_c682b45e-e87f-4614-9326-b868fc6636fb_png.rf.44ea650c36c9b0d9cc0d40726e7a7bcf.jpg: 640x640 2 class_7s, 1 class_22, 13.5ms\n",
      "image 232/553 /home/piai/yolo8_bus/valid/images/207_original_-2023-12-12-21-52-26-png_cb6c5094-3de8-4b4c-a803-a16a77b2e2d0_png.rf.9872a4cd40641d069fa61d13031a90d7.jpg: 640x640 2 class_7s, 1 class_22, 13.4ms\n",
      "image 233/553 /home/piai/yolo8_bus/valid/images/207_original_-2023-12-12-21-52-26-png_eb396f0e-460a-4702-aae6-04526aa3a107_png.rf.d207c7115cbac6b22da0f3c9350072e1.jpg: 640x640 2 class_7s, 1 class_22, 14.1ms\n",
      "image 234/553 /home/piai/yolo8_bus/valid/images/207_original_-2023-12-12-21-52-36-png_46714fee-ac19-4c61-83f5-c3bdbb7bf781_png.rf.4e4cc5f622f0f5ded53d033797e62003.jpg: 640x640 2 class_7s, 1 class_22, 17.4ms\n",
      "image 235/553 /home/piai/yolo8_bus/valid/images/207_original_-2023-12-12-21-52-47-png_8a02faaf-deb5-4349-a031-4089f61dcfca_png.rf.8a77f049c242f8b4b52eb28cf8ea333c.jpg: 640x640 2 class_7s, 1 class_22, 14.8ms\n",
      "image 236/553 /home/piai/yolo8_bus/valid/images/207_original_-2023-12-12-21-53-14-png_23f24035-d57f-447c-8591-832dc036237f_png.rf.89207d32d3f1d17a15423995c6283a35.jpg: 640x640 3 class_7s, 2 class_22s, 12.6ms\n",
      "image 237/553 /home/piai/yolo8_bus/valid/images/207_original_-2023-12-12-21-53-14-png_4ecd4af9-57ac-43b3-b284-c95866fd820f_png.rf.b990ac9a9b18d5595c8059442462eb9c.jpg: 640x640 3 class_7s, 2 class_22s, 13.6ms\n",
      "image 238/553 /home/piai/yolo8_bus/valid/images/207_original_-2023-12-12-21-53-14-png_a9a6918c-5a7e-4adc-9cf5-bf9c0066855d_png.rf.5d072c704b286d37b00e96b85bdc9296.jpg: 640x640 3 class_7s, 2 class_22s, 13.8ms\n",
      "image 239/553 /home/piai/yolo8_bus/valid/images/207_original_-2023-12-12-23-38-09-png_292ef0a2-f9f7-4d02-82d0-9d24cfb7e1f8_png.rf.440c8332db4b280ae615628d219f5a19.jpg: 640x640 3 class_7s, 1 class_22, 13.4ms\n",
      "image 240/553 /home/piai/yolo8_bus/valid/images/207_original_-2023-12-12-23-38-09-png_b27b45a5-fff4-47e2-8f6b-5df4d8eaa0f9_png.rf.0e97c54148d90f8275f5946aac0e836e.jpg: 640x640 2 class_7s, 1 class_22, 14.4ms\n",
      "image 241/553 /home/piai/yolo8_bus/valid/images/207_original_-2023-12-12-23-38-36-png_cd773319-c3d4-4689-9846-88693f5cfce1_png.rf.4ef859b0ce74846b347b8c89c7d9f061.jpg: 640x640 1 class_7, 11.3ms\n",
      "image 242/553 /home/piai/yolo8_bus/valid/images/207_original_-2023-12-12-23-40-00-png_c132e038-b44f-4420-83f0-5224d5eaa619_png.rf.48e46888f28f420ee243dcc730ffc68e.jpg: 640x640 1 class_7, 13.6ms\n",
      "image 243/553 /home/piai/yolo8_bus/valid/images/207_original_-2023-12-12-23-40-52-png_dddcd153-531d-45d7-a3cb-c09b347ade57_png.rf.effbb5c3cc3a5938a1d57fc414d32191.jpg: 640x640 1 class_7, 13.4ms\n",
      "image 244/553 /home/piai/yolo8_bus/valid/images/207_original_20-png_1d9b995b-fee8-4a5e-8305-36d6e2d1c758_png.rf.696136c7d19ae9a563533dd6294bd1aa.jpg: 640x640 5 class_7s, 1 class_22, 13.5ms\n",
      "image 245/553 /home/piai/yolo8_bus/valid/images/207_original_20-png_a03746ae-8050-4663-b6a6-86e993b3d7ca_png.rf.b6b0170b2bb68ec6866788c2e5227dcd.jpg: 640x640 6 class_7s, 1 class_22, 12.5ms\n",
      "image 246/553 /home/piai/yolo8_bus/valid/images/207_original_20-png_d76159a2-b56f-4254-af67-baa35d6a8259_png.rf.e9316132245eaed49bdedf54af530514.jpg: 640x640 1 class_1, 4 class_7s, 1 class_22, 13.2ms\n",
      "image 247/553 /home/piai/yolo8_bus/valid/images/207_original_21-png_04697843-c158-4fb0-bb25-0fe484d56fe8_png.rf.3166dbbb21ec16f6627aa3cf7546b8de.jpg: 640x640 2 class_7s, 14.7ms\n",
      "image 248/553 /home/piai/yolo8_bus/valid/images/207_original_21-png_b8baf497-cef3-4ece-8fa2-23d1722e7371_png.rf.d745b542090998a36115f122eedb17a1.jpg: 640x640 3 class_7s, 13.2ms\n",
      "image 249/553 /home/piai/yolo8_bus/valid/images/207_original_21-png_f44f0626-0200-49e6-8217-fdc0835e7a8a_png.rf.7de210e41d0f0862f8b982515337c591.jpg: 640x640 1 class_7, 12.9ms\n",
      "image 250/553 /home/piai/yolo8_bus/valid/images/207_original_63-JPG_ae215371-6064-479a-99ad-68277f2e36ff_JPG.rf.703b99ae8a706ed39fff94abf34994ed.jpg: 640x640 1 class_7, 13.1ms\n",
      "image 251/553 /home/piai/yolo8_bus/valid/images/207_original_72-jpg_bde5ef8b-2e36-4f97-84e3-fa54f06e56ed_jpg.rf.a2e428548a905068b706ddc5395047ae.jpg: 640x640 1 class_7, 1 class_22, 13.2ms\n",
      "image 252/553 /home/piai/yolo8_bus/valid/images/207_original_73-JPG_0af24b83-b0cb-4865-996d-291e2a10ec5a_JPG.rf.8699158dece7f6c57444b3315bfb2cb0.jpg: 640x640 1 class_7, 12.8ms\n",
      "image 253/553 /home/piai/yolo8_bus/valid/images/207_original_73-JPG_2f893429-fe98-4b54-9084-054d5c1f1a31_JPG.rf.6c3fd85559f153fd260132715dd64c09.jpg: 640x640 1 class_7, 13.2ms\n",
      "image 254/553 /home/piai/yolo8_bus/valid/images/207_original_73-JPG_3f0a90ba-f09d-45ab-8929-d287a29a959b_JPG.rf.cceec7c2ccd5a74a6fb42a0f9891420d.jpg: 640x640 1 class_7, 13.1ms\n",
      "image 255/553 /home/piai/yolo8_bus/valid/images/207_original_73-JPG_5cc900cf-a254-4bd3-acd6-d3dbabd4dd2c_JPG.rf.08c0aa6cc97306c82ab27b0bac64f8f6.jpg: 640x640 1 class_7, 14.6ms\n",
      "image 256/553 /home/piai/yolo8_bus/valid/images/207_original_73-JPG_8fec748d-b036-422f-b324-454813d19027_JPG.rf.dda4f475e7d02772f5a4161e274125cd.jpg: 640x640 1 class_7, 13.1ms\n",
      "image 257/553 /home/piai/yolo8_bus/valid/images/207_original_73-JPG_cbd3134d-7d1c-45f7-b20f-0c62565e18d5_JPG.rf.593ee87eddddc68c87727e6764dbce10.jpg: 640x640 1 class_7, 12.7ms\n",
      "image 258/553 /home/piai/yolo8_bus/valid/images/207_original_76-jpg_246e315c-4389-40c5-88a8-a068cc5597da_jpg.rf.a819390e90a59c1a12abe700363fb492.jpg: 640x640 1 class_7, 1 class_22, 18.9ms\n",
      "image 259/553 /home/piai/yolo8_bus/valid/images/207_original_76-jpg_284677e0-4721-405e-b6eb-225ec8461d3c_jpg.rf.2bc37ae132bd918cb13cd8c536657d67.jpg: 640x640 4 class_7s, 1 class_22, 15.1ms\n",
      "image 260/553 /home/piai/yolo8_bus/valid/images/207_original_76-jpg_3e7f2cfc-2ea3-4e60-8cb0-882af0e9ad26_jpg.rf.0df9ca75b2c48409da71a823a5b4be94.jpg: 640x640 4 class_7s, 1 class_22, 16.0ms\n",
      "image 261/553 /home/piai/yolo8_bus/valid/images/207_original_76-jpg_7b1a1ae0-ac6a-4260-b932-b0f003d3ea02_jpg.rf.563de4eadad81c64c52d42cd8ee2c539.jpg: 640x640 1 class_7, 1 class_22, 17.0ms\n",
      "image 262/553 /home/piai/yolo8_bus/valid/images/207_original_76-jpg_7f1a209b-5601-4105-be05-5e489da0bb68_jpg.rf.3195fc1758d63bc7fa355fda821d9826.jpg: 640x640 4 class_7s, 1 class_22, 16.3ms\n",
      "image 263/553 /home/piai/yolo8_bus/valid/images/207_original_76-jpg_946bda0b-5a6b-4704-82e9-b8bff45ae08b_jpg.rf.365a7bc4f827bc76a254c90dff60be46.jpg: 640x640 3 class_7s, 1 class_22, 12.3ms\n",
      "image 264/553 /home/piai/yolo8_bus/valid/images/207_original_76-jpg_b61a2e83-19fb-45c7-93dc-c189908d5ad1_jpg.rf.dc8a029677ff7aa790bd3dc48cc62c66.jpg: 640x640 2 class_7s, 1 class_22, 12.7ms\n",
      "image 265/553 /home/piai/yolo8_bus/valid/images/207_original_76-jpg_ba836546-e4a5-49f2-8586-8d45a30e92a7_jpg.rf.3c879245a00526eb33acff92683e4e86.jpg: 640x640 4 class_7s, 1 class_22, 13.4ms\n",
      "image 266/553 /home/piai/yolo8_bus/valid/images/207_original_IMG_6974-PNG_aa0ca08d-1015-44f7-97b3-5bb0fb5a038f_PNG.rf.79287320a22f94b510c1dbd66b8be2b5.jpg: 640x640 2 class_7s, 1 class_22, 12.5ms\n",
      "image 267/553 /home/piai/yolo8_bus/valid/images/207_original_IMG_6974-PNG_bbcaaee9-a2ce-409a-9df1-173648f0ce96_PNG.rf.fdba646d183ca10b079d4b00da99a443.jpg: 640x640 1 class_7, 1 class_22, 10.7ms\n",
      "image 268/553 /home/piai/yolo8_bus/valid/images/207_original_IMG_6975-PNG_09d81d78-cf6f-4da1-a485-d84b97379b06_PNG.rf.4daa6e3559d2e52f591c544ba7c8ea2b.jpg: 640x640 2 class_7s, 10.8ms\n",
      "image 269/553 /home/piai/yolo8_bus/valid/images/207_original_IMG_6975-PNG_67bd0cbd-3f17-4ab9-9002-95ef48bf912b_PNG.rf.79a85b13ff5ccb176c8f2a4a269635e6.jpg: 640x640 2 class_7s, 1 class_22, 10.3ms\n",
      "image 270/553 /home/piai/yolo8_bus/valid/images/207_original_IMG_6975-PNG_78fe5739-e90d-41a0-9abf-c98d1918da2f_PNG.rf.a51b009507ec66acfc8ea4697f3b9793.jpg: 640x640 2 class_7s, 1 class_22, 10.5ms\n",
      "image 271/553 /home/piai/yolo8_bus/valid/images/207_original_IMG_6975-PNG_882a6fff-37cf-40eb-b280-d235e1ae8317_PNG.rf.7b413e0075b5399ded35ee75c311f2cd.jpg: 640x640 2 class_7s, 1 class_22, 13.5ms\n",
      "image 272/553 /home/piai/yolo8_bus/valid/images/207_original_IMG_6975-PNG_af96304f-6e2a-4fde-a9ac-14f7b235bab3_PNG.rf.60746472680af55222f9a380785bc78c.jpg: 640x640 2 class_7s, 1 class_22, 15.5ms\n",
      "image 273/553 /home/piai/yolo8_bus/valid/images/207_original_IMG_6975-PNG_b360a2aa-4ea9-4ecd-890d-b647cedf09ce_PNG.rf.69ef23c1e6b7c3e0f11ae9dfafa15347.jpg: 640x640 2 class_7s, 1 class_22, 12.9ms\n",
      "image 274/553 /home/piai/yolo8_bus/valid/images/207_original_IMG_6975-PNG_d3154f3e-d3ee-4c2f-b086-b1ccc638bc4a_PNG.rf.d195e43b62efc3246071ac2713a4a93c.jpg: 640x640 2 class_7s, 13.2ms\n",
      "image 275/553 /home/piai/yolo8_bus/valid/images/207_original_IMG_6976-PNG_25c2af82-e82b-4bc9-96b8-274d664f2dfb_PNG.rf.c9af5ab4302801460e0d59a35f53bffa.jpg: 640x640 2 class_7s, 12.6ms\n",
      "image 276/553 /home/piai/yolo8_bus/valid/images/207_original_IMG_6976-PNG_6f3b119d-6207-4dec-8f71-5a12772f1ab2_PNG.rf.3add9e9af1ce04331b28e6f33cb17280.jpg: 640x640 2 class_7s, 1 class_22, 16.2ms\n",
      "image 277/553 /home/piai/yolo8_bus/valid/images/207_original_IMG_7022-PNG_2e36bb06-cd92-496c-8454-65f29ef6b4a7_PNG.rf.ead4c0c0f6085e3d195d2dd515c94e0a.jpg: 640x640 1 class_7, 13.6ms\n",
      "image 278/553 /home/piai/yolo8_bus/valid/images/207_original_IMG_7022-PNG_66a64de2-02ee-4463-8f3b-ae9f142bb739_PNG.rf.7d2eded65e542fb5f4302e2bfffd3bc5.jpg: 640x640 1 class_7, 14.2ms\n",
      "image 279/553 /home/piai/yolo8_bus/valid/images/207_original_IMG_7022-PNG_a896a362-b7ca-405c-8f7a-aa8875b84bba_PNG.rf.ed68d182b3cbaf9b8076ddcef371b998.jpg: 640x640 1 class_7, 13.1ms\n",
      "image 280/553 /home/piai/yolo8_bus/valid/images/207_original_IMG_7022-PNG_fe0e4c14-3ea5-4c91-8927-510ae67e3597_PNG.rf.48fea2356946bc7c24e647d07048538e.jpg: 640x640 2 class_7s, 1 class_22, 14.5ms\n",
      "image 281/553 /home/piai/yolo8_bus/valid/images/207_original_IMG_7023-PNG_765f8f7f-e88a-489a-b1e8-38031f0d5247_PNG.rf.66f946f56517ba94208b3721bff691b8.jpg: 640x640 1 class_7, 14.5ms\n",
      "image 282/553 /home/piai/yolo8_bus/valid/images/207_original_IMG_7023-PNG_a4533f4e-9815-459a-99a4-a66b28144830_PNG.rf.cb1bbc775b007acb02b598f4f53df1c3.jpg: 640x640 1 class_7, 1 class_22, 15.0ms\n",
      "image 283/553 /home/piai/yolo8_bus/valid/images/207_original_IMG_7261-PNG_265b2c0f-4156-46f1-965e-9e83d6fb2593_PNG.rf.aec158dcfef527dd56f1c8f75fcf2b4f.jpg: 640x640 2 class_7s, 2 class_22s, 15.8ms\n",
      "image 284/553 /home/piai/yolo8_bus/valid/images/207_original_IMG_7261-PNG_4e925d33-9fed-49f6-966a-259a50a8596c_PNG.rf.b53d2907ba1fafc3edc2527612c8bf1a.jpg: 640x640 2 class_7s, 2 class_22s, 13.0ms\n",
      "image 285/553 /home/piai/yolo8_bus/valid/images/207_original_IMG_7261-PNG_55fed5f4-d881-4873-be66-4a23961af59f_PNG.rf.48d678f4908e58f650a18fda26527af3.jpg: 640x640 2 class_7s, 2 class_22s, 11.6ms\n",
      "image 286/553 /home/piai/yolo8_bus/valid/images/207_original_IMG_7261-PNG_7a6ecfa2-a814-4643-8328-9cd2f4d84c5a_PNG.rf.3e54ea16ee1af8a991a039987b227ebe.jpg: 640x640 1 class_7, 2 class_22s, 11.6ms\n",
      "image 287/553 /home/piai/yolo8_bus/valid/images/207_original_IMG_7261-PNG_b387a4ce-0535-4040-b8bd-08bc3f4c3e1c_PNG.rf.f607d69af6d685b5fa050fbaec45a06f.jpg: 640x640 2 class_7s, 2 class_22s, 16.1ms\n",
      "image 288/553 /home/piai/yolo8_bus/valid/images/207_original_IMG_7261-PNG_bb82351e-98f9-4aaf-8f1f-c496aa3492a0_PNG.rf.5bb200a9429fa85287163279d1e8d75b.jpg: 640x640 1 class_7, 1 class_22, 13.0ms\n",
      "image 289/553 /home/piai/yolo8_bus/valid/images/207_original_IMG_7261-PNG_c687310f-3173-45e4-bbba-fbab5d8aa551_PNG.rf.5253bfb6cbad2102e597bce0e9afacf4.jpg: 640x640 1 class_7, 14.2ms\n",
      "image 290/553 /home/piai/yolo8_bus/valid/images/207_original_IMG_7261-PNG_eeaac28c-efe8-4036-97f0-73168084e793_PNG.rf.c54b70a245e0ab61fa5a9dd2e2a9ecf0.jpg: 640x640 2 class_7s, 1 class_22, 13.7ms\n",
      "image 291/553 /home/piai/yolo8_bus/valid/images/207_original_IMG_7261-PNG_f3edebf2-1d44-40d7-b4f7-5ccd557bae18_PNG.rf.0e2f8f6f5803fa3bdff097cc34141f58.jpg: 640x640 1 class_7, 11.1ms\n",
      "image 292/553 /home/piai/yolo8_bus/valid/images/207_original_IMG_7262-PNG_641de016-549f-4ca3-ad95-1fb0774bb762_PNG.rf.94a934c9343f1c1aee66a476e51d54d4.jpg: 640x640 4 class_7s, 11.6ms\n",
      "image 293/553 /home/piai/yolo8_bus/valid/images/207_original_IMG_7262-PNG_abb70598-b469-426f-9853-51c76787a42d_PNG.rf.17b11cf4477b206236d0c7173209daa9.jpg: 640x640 4 class_7s, 14.4ms\n",
      "image 294/553 /home/piai/yolo8_bus/valid/images/207_original_IMG_7262-PNG_ffc4cf7d-2ee5-4a9d-9c1c-31dc6939afb1_PNG.rf.03b036bd8b69403cf56cfe0b43faa2e4.jpg: 640x640 3 class_7s, 12.5ms\n",
      "image 295/553 /home/piai/yolo8_bus/valid/images/207_original_IMG_7263-PNG_7b89198b-f16c-45d6-826e-7ca8e1043c98_PNG.rf.c75ffe9a8fe96b1d8d6194fd7b554514.jpg: 640x640 1 class_7, 14.8ms\n",
      "image 296/553 /home/piai/yolo8_bus/valid/images/207_original_IMG_7264-PNG_050177d6-9984-413d-9f3a-bf263778d0f8_PNG.rf.375289fd96764c190dc108ad294d003d.jpg: 640x640 1 class_7, 1 class_22, 11.4ms\n",
      "image 297/553 /home/piai/yolo8_bus/valid/images/207_original_IMG_7264-PNG_7da71a74-c9a9-4353-9d08-81ca194d1483_PNG.rf.6df8d6c19f3d04e39ff52a7c25ffe705.jpg: 640x640 1 class_7, 1 class_22, 12.9ms\n",
      "image 298/553 /home/piai/yolo8_bus/valid/images/207_original_IMG_7264-PNG_849f43d6-d08b-46d1-8d0a-5e5447d7b371_PNG.rf.6d469a09dcea6c3d911d9c3bfdb8315a.jpg: 640x640 1 class_7, 13.9ms\n",
      "image 299/553 /home/piai/yolo8_bus/valid/images/207_original_IMG_7265-PNG_044ab21e-0151-475e-9a43-1f34a80ee8f7_PNG.rf.ef4d579d2c70d283a06e16b25e27851f.jpg: 640x640 1 class_7, 1 class_22, 13.4ms\n",
      "image 300/553 /home/piai/yolo8_bus/valid/images/207_original_IMG_7265-PNG_0f4e4673-2fae-426e-aa94-62dd0c8dc8ea_PNG.rf.aba46ae300ba7e2df232bea7d08ed337.jpg: 640x640 1 class_7, 18.5ms\n",
      "image 301/553 /home/piai/yolo8_bus/valid/images/207_original_IMG_7265-PNG_fe86b607-5e2d-434f-9976-c402781ee80c_PNG.rf.b60b02e2f1295bd14b78946ef02bf41a.jpg: 640x640 2 class_7s, 1 class_22, 13.9ms\n",
      "image 302/553 /home/piai/yolo8_bus/valid/images/207_original_IMG_7266-PNG_27e82d0e-08e4-4c75-867c-6721a21854d9_PNG.rf.925755e6dfa71d7d60ec04a8eca1dc9e.jpg: 640x640 1 class_7, 16.5ms\n",
      "image 303/553 /home/piai/yolo8_bus/valid/images/207_original_IMG_7268-PNG_b21acd35-98d5-40de-9d7b-695eac756e09_PNG.rf.b45ecb262347be49647fa260d1a975a5.jpg: 640x640 1 class_7, 14.0ms\n",
      "image 304/553 /home/piai/yolo8_bus/valid/images/207_original_IMG_7269-PNG_5b8f4c7b-c04e-4daf-b458-a3a658099936_PNG.rf.0bef58568feab6a0ff65a4054c785ff6.jpg: 640x640 1 class_7, 11.5ms\n",
      "image 305/553 /home/piai/yolo8_bus/valid/images/207_original_IMG_7269-PNG_8dff3942-e199-400c-ab80-2767ae58bc92_PNG.rf.4422878c8858d79778ec7dbcea17891d.jpg: 640x640 1 class_7, 11.9ms\n",
      "image 306/553 /home/piai/yolo8_bus/valid/images/207_original_IMG_7270-PNG_60103757-3954-4565-911e-2e4bcf707ec8_PNG.rf.300490c5aa8f536a3394771966df1d1c.jpg: 640x640 2 class_7s, 1 class_22, 13.2ms\n",
      "image 307/553 /home/piai/yolo8_bus/valid/images/207_original_IMG_7270-PNG_ddda3a59-e402-4728-bf0b-17a43e374a81_PNG.rf.7fe7a87985e0c06c353e0d7d950b2687.jpg: 640x640 1 class_7, 1 class_22, 13.0ms\n",
      "image 308/553 /home/piai/yolo8_bus/valid/images/207_original_Screenshot_20231210_215729_Video-Player-jpg_0dda0269-c73e-4a52-bc40-8c96f0fa22a9_jpg.rf.edfda0f759c454c0da7ab5117ed71b8f.jpg: 640x640 1 class_7, 12.4ms\n",
      "image 309/553 /home/piai/yolo8_bus/valid/images/207_original_Screenshot_20231210_215729_Video-Player-jpg_aa3c00b0-92f5-416b-b9f6-3b26b3a98eb3_jpg.rf.ac96ab8203197d9b86521cabeb1b5552.jpg: 640x640 1 class_7, 10.9ms\n",
      "image 310/553 /home/piai/yolo8_bus/valid/images/207_original_Screenshot_20231210_215729_Video-Player-jpg_f4b77e81-9e7a-4350-8d81-c891d4771fa1_jpg.rf.b05f6419aa60be1e1da555edcc7efa22.jpg: 640x640 1 class_7, 16.1ms\n",
      "image 311/553 /home/piai/yolo8_bus/valid/images/207_original_Screenshot_20231210_225030_Video-Player-jpg_78d702b6-5f38-4d17-afb6-e9627688c768_jpg.rf.65d6e0fe8ead8b0a65a7b630cb260d12.jpg: 640x640 1 class_7, 11.6ms\n",
      "image 312/553 /home/piai/yolo8_bus/valid/images/207_original_Screenshot_20231210_225040_Video-Player-jpg_cd007775-faf0-4328-814b-a2d188c9b492_jpg.rf.56cbc8fcff31d1110aca22fdfb5cd93d.jpg: 640x640 2 class_7s, 1 class_22, 14.3ms\n",
      "image 313/553 /home/piai/yolo8_bus/valid/images/207_original_Screenshot_20231210_225111_Video-Player-jpg_b6dcfe98-f5f3-4f11-80f6-f787ed4479cb_jpg.rf.59e38956203c303c40d9bac9fb42658f.jpg: 640x640 2 class_7s, 13.1ms\n",
      "image 314/553 /home/piai/yolo8_bus/valid/images/207_original_Screenshot_20231210_225117_Video-Player-jpg_1023bfd1-78e8-43f9-bbf6-259f357143d0_jpg.rf.bbfec99095a9e54ab3fd9a39980f8b41.jpg: 640x640 1 class_7, 16.3ms\n",
      "image 315/553 /home/piai/yolo8_bus/valid/images/209_original_-2023-12-12-19-46-27-png_f57e5e7a-95e9-4c9b-bc9e-ce6688ce23ed_png.rf.58d5c858ef790ac179408bfd8dba3e61.jpg: 640x640 2 class_8s, 1 class_22, 13.2ms\n",
      "image 316/553 /home/piai/yolo8_bus/valid/images/209_original_-2023-12-13-02-37-21-png_8062795f-3f34-4a5a-a1c1-02eac5b4b56b_png.rf.cfd21237ec1af25107464d11030f9250.jpg: 640x640 1 class_8, 1 class_22, 12.6ms\n",
      "image 317/553 /home/piai/yolo8_bus/valid/images/209_original_-2023-12-13-02-38-48-png_21c873c1-ae46-494d-9ab2-39ad4efe6e7b_png.rf.e6b66c02bece9b7e269282796ffcf5a1.jpg: 640x640 1 class_8, 1 class_22, 13.9ms\n",
      "image 318/553 /home/piai/yolo8_bus/valid/images/209_original_-2023-12-13-02-38-48-png_3e0f8b21-d61a-47df-a82c-a2aec95a3ad5_png.rf.0dd319bdd9cbb1af43e27f2b6f571528.jpg: 640x640 1 class_8, 1 class_22, 16.3ms\n",
      "image 319/553 /home/piai/yolo8_bus/valid/images/209_original_-2023-12-13-02-38-48-png_9e0de536-8359-4c68-8599-f13cd26f3575_png.rf.dd34d166cfb782f0facab92ea47bdad3.jpg: 640x640 1 class_8, 1 class_22, 11.6ms\n",
      "image 320/553 /home/piai/yolo8_bus/valid/images/209_original_-2023-12-13-02-38-48-png_dc0a170e-dc7c-4206-b853-3e2821db3255_png.rf.9786013b54f75c12749cef518325042a.jpg: 640x640 1 class_8, 1 class_22, 10.9ms\n",
      "image 321/553 /home/piai/yolo8_bus/valid/images/209_original_-2023-12-13-02-38-57-png_16f0085d-7535-42e9-9a72-36ab0a0e147c_png.rf.2edb4023fd6beecb10d311a124bab464.jpg: 640x640 1 class_8, 1 class_22, 14.7ms\n",
      "image 322/553 /home/piai/yolo8_bus/valid/images/209_original_-2023-12-13-02-38-57-png_5f8be384-5403-441c-9538-c95af495a2e1_png.rf.95484afd136f772580ac530e4681d9af.jpg: 640x640 1 class_8, 1 class_22, 13.2ms\n",
      "image 323/553 /home/piai/yolo8_bus/valid/images/209_original_-2023-12-13-02-38-57-png_73a3c1fb-fac0-47a4-b39a-1cafd248eeeb_png.rf.dd0f0d96101c5d1b5839e27af90e0436.jpg: 640x640 1 class_8, 1 class_22, 15.6ms\n",
      "image 324/553 /home/piai/yolo8_bus/valid/images/209_original_-2023-12-13-02-39-08-png_6a8dd00e-f9ff-4b0a-8971-5847c883cbe2_png.rf.a18683789ad2563ad1c613ef8857c48f.jpg: 640x640 2 class_8s, 1 class_22, 12.7ms\n",
      "image 325/553 /home/piai/yolo8_bus/valid/images/209_original_-2023-12-13-02-39-08-png_988d8536-5ebf-4965-8fb8-36dc4dc2da8d_png.rf.0af9a542914df6316448fe7682e5dc33.jpg: 640x640 1 class_8, 1 class_22, 12.6ms\n",
      "image 326/553 /home/piai/yolo8_bus/valid/images/209_original_-2023-12-13-02-39-08-png_adaa94e4-8968-492b-b119-d131f87574e9_png.rf.b43cabaea5670e26afe354c8502fa206.jpg: 640x640 2 class_8s, 1 class_22, 13.3ms\n",
      "image 327/553 /home/piai/yolo8_bus/valid/images/209_original_-2023-12-13-02-39-29-png_7921c0b1-235c-421e-bf2f-23831bcb6426_png.rf.93747a66e12c96a287465177370f2857.jpg: 640x640 1 class_8, 1 class_22, 14.4ms\n",
      "image 328/553 /home/piai/yolo8_bus/valid/images/209_original_-2023-12-13-02-39-29-png_c649a245-365e-4acf-9335-54f450bb3287_png.rf.04805093e6555962aa24481c764ae361.jpg: 640x640 1 class_8, 14.8ms\n",
      "image 329/553 /home/piai/yolo8_bus/valid/images/209_original_-2023-12-13-02-39-29-png_e29fe44f-14c5-458d-af7e-1b7da5f7d9f4_png.rf.3ae84c739b812a0648882f1ac9e7e2f8.jpg: 640x640 1 class_8, 1 class_22, 14.5ms\n",
      "image 330/553 /home/piai/yolo8_bus/valid/images/209_original_-2023-12-13-02-39-29-png_f48ae813-4478-4b5c-adc3-049846fff7d5_png.rf.5f7dd36c59954ccf42bdba8d7ed4cf18.jpg: 640x640 1 class_8, 1 class_22, 13.9ms\n",
      "image 331/553 /home/piai/yolo8_bus/valid/images/209_original_-2023-12-13-02-39-50-png_045fc3a5-b082-4c65-b2b3-20856c1cdc4f_png.rf.ad0c130f1e46a60f254efbb368e02cc6.jpg: 640x640 1 class_20, 15.5ms\n",
      "image 332/553 /home/piai/yolo8_bus/valid/images/209_original_-2023-12-13-02-39-50-png_05ac8d56-2b05-4bf9-9f9a-c6e57f58f320_png.rf.a00b2b6b1cbd43cd270ea294a610c044.jpg: 640x640 1 class_20, 13.4ms\n",
      "image 333/553 /home/piai/yolo8_bus/valid/images/209_original_-2023-12-13-02-39-50-png_143969d5-78a3-4c68-b155-e5ee48cdddc2_png.rf.25fa8157a996ce6c27c6385c167e778b.jpg: 640x640 1 class_20, 12.6ms\n",
      "image 334/553 /home/piai/yolo8_bus/valid/images/209_original_-2023-12-13-02-39-50-png_884be563-903a-4b8f-afd6-d6efef211622_png.rf.2ca968ddcf50975a197286908f91474c.jpg: 640x640 1 class_20, 14.6ms\n",
      "image 335/553 /home/piai/yolo8_bus/valid/images/209_original_-2023-12-13-02-39-50-png_f3522996-ef64-4517-88e0-f2fb82d38183_png.rf.10124baa09df60d1fbf56561db22e7b3.jpg: 640x640 1 class_20, 13.3ms\n",
      "image 336/553 /home/piai/yolo8_bus/valid/images/209_original_-2023-12-13-02-40-00-png_18649eed-72ad-4449-98f3-65e0f3e9b0f8_png.rf.b38009d1817b0447971a197b833ee9c8.jpg: 640x640 1 class_22, 12.9ms\n",
      "image 337/553 /home/piai/yolo8_bus/valid/images/209_original_-2023-12-13-02-40-00-png_1ff61ef5-53fa-4eeb-b496-bf821348f9ce_png.rf.f5359b72e8dd4fde2c3ecd7a31e7df2a.jpg: 640x640 1 class_22, 11.8ms\n",
      "image 338/553 /home/piai/yolo8_bus/valid/images/209_original_-2023-12-13-02-40-00-png_44b575b2-dc7e-43bb-9b0d-7eed8d1c0744_png.rf.f7168503aa4ceb14cbc061654b11fc7b.jpg: 640x640 1 class_22, 12.6ms\n",
      "image 339/553 /home/piai/yolo8_bus/valid/images/209_original_-2023-12-13-02-40-00-png_5da3447f-6aba-416d-a7bf-92beb54fb132_png.rf.76488197824ea53922e5cc30e380ed6b.jpg: 640x640 1 class_22, 13.6ms\n",
      "image 340/553 /home/piai/yolo8_bus/valid/images/209_original_-2023-12-13-02-40-00-png_875ab45e-478b-4e59-8f47-ab0b4066dfa2_png.rf.ec6e7caefa962f8463c99659211322c0.jpg: 640x640 1 class_22, 13.0ms\n",
      "image 341/553 /home/piai/yolo8_bus/valid/images/209_original_-2023-12-13-02-40-12-png_f2a0ad23-3d9d-49fc-84c7-14cbd5db8f79_png.rf.46ec5dd6ff3300e02d0a75d33da30e8d.jpg: 640x640 1 class_22, 14.9ms\n",
      "image 342/553 /home/piai/yolo8_bus/valid/images/209_original_-2023-12-13-02-40-22-png_ae535d13-76ac-4552-aacc-046b99a0110d_png.rf.c2c336ac9b3c9b6d40ca24f1c91f082f.jpg: 640x640 1 class_8, 1 class_22, 11.9ms\n",
      "image 343/553 /home/piai/yolo8_bus/valid/images/209_original_-2023-12-13-02-40-31-png_0c02b4dc-4663-45b6-8880-6d3268a76aab_png.rf.af7550295c3bd552dc8d96c00c8bdc4b.jpg: 640x640 2 class_8s, 1 class_22, 10.8ms\n",
      "image 344/553 /home/piai/yolo8_bus/valid/images/209_original_-2023-12-13-02-40-31-png_570bedd4-cbde-469f-9f7a-b36d721fe3c4_png.rf.368fbfd844e510937dffcff1605d1fc4.jpg: 640x640 1 class_8, 1 class_22, 12.3ms\n",
      "image 345/553 /home/piai/yolo8_bus/valid/images/209_original_-2023-12-13-02-40-31-png_fdf54991-5102-4979-b008-82babfa75ae2_png.rf.c90b29cb5dd17ddb1ef9e168842fce48.jpg: 640x640 2 class_8s, 1 class_22, 13.1ms\n",
      "image 346/553 /home/piai/yolo8_bus/valid/images/209_original_-2023-12-13-02-40-53-png_57f32a4c-83c7-4de4-90f5-f0f94eea9855_png.rf.9f1a5caaf9e8680331b9d8d8793c76e2.jpg: 640x640 2 class_8s, 1 class_22, 11.3ms\n",
      "image 347/553 /home/piai/yolo8_bus/valid/images/209_original_-2023-12-13-02-40-53-png_c0867f76-dfa0-4f07-9ff9-9f63bdc83e3c_png.rf.6875406904d6bb5f8ad7460d6d516eb0.jpg: 640x640 1 class_8, 1 class_22, 12.8ms\n",
      "image 348/553 /home/piai/yolo8_bus/valid/images/209_original_-2023-12-13-02-40-53-png_e202f2a3-b8b3-4335-89b1-85df05af0685_png.rf.57da91e19f2feca12878822be05d923d.jpg: 640x640 2 class_8s, 1 class_22, 13.8ms\n",
      "image 349/553 /home/piai/yolo8_bus/valid/images/209_original_22-png_cc9b4e8b-f431-4aab-bfb2-9274a55aa802_png.rf.7e5b70d43a43ccccd68f2245a4a2bb36.jpg: 640x640 1 class_8, 1 class_22, 14.2ms\n",
      "image 350/553 /home/piai/yolo8_bus/valid/images/209_original_22-png_e2469367-6b09-451d-b4b4-f4b5b350d858_png.rf.70fd1d5fbc4a98f6ace3102332e028e8.jpg: 640x640 1 class_8, 3 class_22s, 14.3ms\n",
      "image 351/553 /home/piai/yolo8_bus/valid/images/209_original_23-png_434bd555-89b2-4dac-87e7-1771f914bb2b_png.rf.67e60837dbf9bbfd4a53236b98d096b5.jpg: 640x640 4 class_8s, 13.4ms\n",
      "image 352/553 /home/piai/yolo8_bus/valid/images/209_original_23-png_6bf053aa-1a03-4626-9860-b320d815635d_png.rf.1055c6cd2883807792a7a20505e6f980.jpg: 640x640 3 class_8s, 13.2ms\n",
      "image 353/553 /home/piai/yolo8_bus/valid/images/209_original_23-png_96fb2762-ef10-4fed-9448-3319d8a44740_png.rf.c3080e028e4213a728aaf9dc1724ca22.jpg: 640x640 1 class_8, 12.8ms\n",
      "image 354/553 /home/piai/yolo8_bus/valid/images/209_original_78-png_0c25f760-4e08-4c37-8590-491720d90740_png.rf.a237e391ea9eac91a484f6838063c4b1.jpg: 640x640 1 class_8, 12.8ms\n",
      "image 355/553 /home/piai/yolo8_bus/valid/images/209_original_78-png_9a772280-abda-4c01-9511-3d7ecb60505e_png.rf.b59e5d6d87f2b27e5f951ffe9647ff3d.jpg: 640x640 1 class_8, 12.0ms\n",
      "image 356/553 /home/piai/yolo8_bus/valid/images/209_original_79-jpg_4211e016-a87a-49da-ae9d-82cd0e2d38e6_jpg.rf.61ecabd64de5d038e7655ec554ad0872.jpg: 640x640 2 class_8s, 1 class_22, 13.4ms\n",
      "image 357/553 /home/piai/yolo8_bus/valid/images/209_original_79-jpg_5f991a4e-64c5-454a-a5d5-a62dda4bece4_jpg.rf.8ca7547361703e2ee203e756246676cb.jpg: 640x640 1 class_8, 3 class_22s, 13.5ms\n",
      "image 358/553 /home/piai/yolo8_bus/valid/images/209_original_79-jpg_b3c80c55-7067-4c7c-a985-4f4d03fa2e0d_jpg.rf.0e6ec1f44aa347bb14503a4c8896c7ff.jpg: 640x640 1 class_8, 17.8ms\n",
      "image 359/553 /home/piai/yolo8_bus/valid/images/20_png.rf.39fce82ff6f2ed06fb96302f29027799.jpg: 640x640 5 class_7s, 1 class_22, 13.1ms\n",
      "image 360/553 /home/piai/yolo8_bus/valid/images/216_original_-2023-12-12-23-36-48-png_5b288b13-3c29-4479-94dc-2a3d33f4e07d_png.rf.bef063303755f24f6a66d17e417d2dbc.jpg: 640x640 1 class_10, 13.2ms\n",
      "image 361/553 /home/piai/yolo8_bus/valid/images/216_original_-2023-12-12-23-36-48-png_a97c260f-768a-442e-baf0-297224501799_png.rf.2008cf691d62a0d48e56c80055b75431.jpg: 640x640 1 class_10, 18.3ms\n",
      "image 362/553 /home/piai/yolo8_bus/valid/images/216_original_-2023-12-12-23-36-48-png_e9448b50-8326-4b48-ba93-d1dd490675a5_png.rf.61781e17ee3f607d99baaf1a4997bac2.jpg: 640x640 1 class_10, 18.9ms\n",
      "image 363/553 /home/piai/yolo8_bus/valid/images/216_original_24-png_1b1bbd47-299d-4355-b445-1a9e63af8d40_png.rf.1e9fc887636fbc3579d9477670949de4.jpg: 640x640 1 class_10, 14.4ms\n",
      "image 364/553 /home/piai/yolo8_bus/valid/images/216_original_25-png_aa3750c6-a89a-4029-aafc-b75516f8e54c_png.rf.21725f2b5c7be54fa4347893482543b2.jpg: 640x640 3 class_10s, 1 class_22, 11.6ms\n",
      "image 365/553 /home/piai/yolo8_bus/valid/images/216_original_25-png_c1851a24-0c6d-462b-b72b-1ee4edb1592f_png.rf.ba4faa82124f77a7e46c4935f4fcc9a2.jpg: 640x640 3 class_10s, 1 class_22, 15.6ms\n",
      "image 366/553 /home/piai/yolo8_bus/valid/images/216_original_53-jpg_44f22da8-a901-48ec-8e7d-03edaa1b4193_jpg.rf.76af58650836a6086c207035befbe0b3.jpg: 640x640 3 class_10s, 2 class_22s, 13.4ms\n",
      "image 367/553 /home/piai/yolo8_bus/valid/images/216_original_53-jpg_a7cd748a-539b-4ceb-b1d8-1acce1807883_jpg.rf.a7a1f360bbf26545f2e049451a8535e6.jpg: 640x640 1 class_10, 15.3ms\n",
      "image 368/553 /home/piai/yolo8_bus/valid/images/216_original_Screenshot_20231210_224242_Video-Player-jpg_c5bcaa26-5244-403f-bdf3-b774f0479c18_jpg.rf.0726ec0a67d3fb041525b82d2cce12bf.jpg: 640x640 1 class_10, 1 class_22, 13.1ms\n",
      "image 369/553 /home/piai/yolo8_bus/valid/images/216_original_Screenshot_20231210_224254_Video-Player-jpg_2365882b-2578-4fe7-ac39-33f6c5137db9_jpg.rf.68ea8d120269174863378ffc53bec1ff.jpg: 640x640 1 class_10, 15.0ms\n",
      "image 370/553 /home/piai/yolo8_bus/valid/images/216_original_Screenshot_20231210_224254_Video-Player-jpg_e53f8a8d-2260-42d5-891a-b036d77b85a7_jpg.rf.a8c0cdc0a3be3901f9a793748d32c919.jpg: 640x640 1 class_10, 14.1ms\n",
      "image 371/553 /home/piai/yolo8_bus/valid/images/219_original_26-png_3be2105b-5e77-418d-86bf-a995209a9750_png.rf.707c9929b9c69c79c2762cefb48e40b8.jpg: 640x640 1 class_11, 1 class_22, 12.7ms\n",
      "image 372/553 /home/piai/yolo8_bus/valid/images/219_original_26-png_4ea938b5-b010-477c-9754-2e48c984182d_png.rf.8cd35eebaf632cec7aeff9e0546f9b5d.jpg: 640x640 1 class_11, 12.8ms\n",
      "image 373/553 /home/piai/yolo8_bus/valid/images/219_original_26-png_5570847e-8dd8-4c95-98ee-2e13844b8b40_png.rf.162477246aa48b2c86283b5d0485869f.jpg: 640x640 5 class_11s, 1 class_22, 13.8ms\n",
      "image 374/553 /home/piai/yolo8_bus/valid/images/219_original_26-png_57756df5-2e04-4f62-b0de-ebd71f5e3e6b_png.rf.ef2e3405d4e0ceb41cd086fb3aece0c8.jpg: 640x640 1 class_3, 11.5ms\n",
      "image 375/553 /home/piai/yolo8_bus/valid/images/219_original_26-png_7587c435-6ad2-4daf-a0fa-e9834a478299_png.rf.1e0d803365281f46befb913ead9ae258.jpg: 640x640 4 class_11s, 1 class_22, 13.0ms\n",
      "image 376/553 /home/piai/yolo8_bus/valid/images/219_original_26-png_9a13367a-7134-443b-9b0d-47d101953282_png.rf.0cce59f6f60e7233b1162aa8be5c08f5.jpg: 640x640 1 class_2, 1 class_10, 3 class_11s, 1 class_22, 12.7ms\n",
      "image 377/553 /home/piai/yolo8_bus/valid/images/219_original_26-png_f2989d58-ac60-4a64-85c1-468668cb6d78_png.rf.77f2bf019a41abc4f4487a1359790b21.jpg: 640x640 6 class_11s, 1 class_22, 14.4ms\n",
      "image 378/553 /home/piai/yolo8_bus/valid/images/219_original_82-jpg_86bcc73a-2dd5-47e8-a701-4e4ff4bb2882_jpg.rf.a561139bdadb665117c3b02a43439edd.jpg: 640x640 1 class_11, 16.4ms\n",
      "image 379/553 /home/piai/yolo8_bus/valid/images/27_png.rf.3a5446db72fc782853659abbd80d6620.jpg: 640x640 3 class_12s, 1 class_22, 13.1ms\n",
      "image 380/553 /home/piai/yolo8_bus/valid/images/302_original_27-png_b7924531-fc6b-4bdd-b590-bc6f88119537_png.rf.9c3e039d2ee451392de27f046f486221.jpg: 640x640 3 class_12s, 1 class_22, 14.5ms\n",
      "image 381/553 /home/piai/yolo8_bus/valid/images/302_original_61-jpg_ed905c18-102b-4441-8dc1-86066bd40e80_jpg.rf.9d11ad138ea258737043a679594b1325.jpg: 640x640 2 class_12s, 1 class_22, 17.3ms\n",
      "image 382/553 /home/piai/yolo8_bus/valid/images/302_original_64-jpg_c7ee7546-667a-43ee-b7ff-549d708c3f58_jpg.rf.e6b56fe122a92e6646f6aa7137fdc403.jpg: 640x640 1 class_12, 1 class_22, 16.6ms\n",
      "image 383/553 /home/piai/yolo8_bus/valid/images/302_original_65-jpg_4bc6d3e3-3775-4348-98b4-050bf2f12435_jpg.rf.9d6053604e0349430915dbd28298d4b3.jpg: 640x640 1 class_12, 1 class_22, 13.3ms\n",
      "image 384/553 /home/piai/yolo8_bus/valid/images/302_original_84-png_c88cabfc-29b2-48cd-ba15-1db4a7618642_png.rf.e28e1c5d9dcb61b1aca762ae77dc310b.jpg: 640x640 1 class_12, 12.8ms\n",
      "image 385/553 /home/piai/yolo8_bus/valid/images/302_original_86-jpg_4d2c5f6b-9ace-49f9-88dd-dea9090d969a_jpg.rf.a1a0abc09138070e41c08a9066b118ab.jpg: 640x640 6 class_12s, 1 class_22, 13.2ms\n",
      "image 386/553 /home/piai/yolo8_bus/valid/images/302_original_86-jpg_697db0d2-6f40-4655-9c0d-ca7c55cb03c4_jpg.rf.ac699b784d47e97561d0080f01a1a60e.jpg: 640x640 6 class_12s, 1 class_22, 14.5ms\n",
      "image 387/553 /home/piai/yolo8_bus/valid/images/302_original_Screenshot_20231210_224317_Video-Player-jpg_a0e7cb97-e9be-4de9-b5a6-ac13527f8bd8_jpg.rf.c7d1c502622ae61ced4971a68bf32d1b.jpg: 640x640 1 class_12, 1 class_22, 13.3ms\n",
      "image 388/553 /home/piai/yolo8_bus/valid/images/302_original_Screenshot_20231210_224347_Video-Player-jpg_28480670-810c-461b-adbe-8b0e4828de4a_jpg.rf.cbb9f92381a47812ef298a08754b10e7.jpg: 640x640 1 class_22, 16.0ms\n",
      "image 389/553 /home/piai/yolo8_bus/valid/images/302_original_Screenshot_20231210_224347_Video-Player-jpg_3a4e0bcb-02f4-41ea-ae21-ea880c763d38_jpg.rf.e29a1019a62282e8a67a96a4ec99f21f.jpg: 640x640 2 class_12s, 1 class_22, 14.3ms\n",
      "image 390/553 /home/piai/yolo8_bus/valid/images/302_original_Screenshot_20231210_224347_Video-Player-jpg_56727ea5-f9fd-4c56-bd76-a7d4501ffb01_jpg.rf.67569e9b626f93dc9202dd49463ac305.jpg: 640x640 1 class_13, 13.6ms\n",
      "image 391/553 /home/piai/yolo8_bus/valid/images/302_original_Screenshot_20231210_224347_Video-Player-jpg_f760792c-f1d9-4205-a422-5602c7f1fe39_jpg.rf.1afdc7556a89ff4b067eab767dac2e02.jpg: 640x640 1 class_12, 1 class_22, 13.1ms\n",
      "image 392/553 /home/piai/yolo8_bus/valid/images/302_original_Screenshot_20231210_224452_Video-Player-jpg_003cbb86-21d0-4340-a34c-564e7d2d2951_jpg.rf.7f70088113264d4f9eed94e7e8cd5dcf.jpg: 640x640 1 class_12, 1 class_22, 12.7ms\n",
      "image 393/553 /home/piai/yolo8_bus/valid/images/302_original_Screenshot_20231210_224452_Video-Player-jpg_1a23d752-354e-4011-b715-118b0aae1b13_jpg.rf.cbf4bd3c1298060d801e4b0c40179324.jpg: 640x640 1 class_12, 1 class_22, 13.4ms\n",
      "image 394/553 /home/piai/yolo8_bus/valid/images/302_original_Screenshot_20231210_224452_Video-Player-jpg_b042a8c3-8a3c-45b1-bcac-9d953d9df679_jpg.rf.51f9c0bbdc70e28a6d252786927e3237.jpg: 640x640 1 class_12, 1 class_22, 15.8ms\n",
      "image 395/553 /home/piai/yolo8_bus/valid/images/302_original_Screenshot_20231210_224452_Video-Player-jpg_b8323201-a010-4600-b51f-80bc1f1a29bf_jpg.rf.53b8364a9d125eac3e767389389da220.jpg: 640x640 2 class_12s, 1 class_22, 14.3ms\n",
      "image 396/553 /home/piai/yolo8_bus/valid/images/302_original_Screenshot_20231210_224452_Video-Player-jpg_bd8b38ea-70fb-4449-91ec-46033f901511_jpg.rf.c266f714bea7d8fcfa502d29ebef0f07.jpg: 640x640 (no detections), 11.8ms\n",
      "image 397/553 /home/piai/yolo8_bus/valid/images/305_original_-2023-12-12-19-44-59-png_215fe2d1-5d56-4f07-8ab2-332459b15fa3_png.rf.49c7fb83823191a9151f8917bb6b123d.jpg: 640x640 1 class_13, 1 class_22, 10.8ms\n",
      "image 398/553 /home/piai/yolo8_bus/valid/images/305_original_30-png_35aaab3a-aa69-49ff-83a8-47c75cfc81b4_png.rf.d7e07e6d61b95afc4860947aaf006845.jpg: 640x640 1 class_13, 1 class_22, 13.9ms\n",
      "image 399/553 /home/piai/yolo8_bus/valid/images/305_original_88-jpg_459df147-7c72-4c65-afaa-86efb8f505f1_jpg.rf.f2854bea2daadab835eeb810ef3e2066.jpg: 640x640 4 class_13s, 1 class_22, 12.9ms\n",
      "image 400/553 /home/piai/yolo8_bus/valid/images/305_original_89-jpg_e5713365-915f-413b-bdd5-4a6b951bfa98_jpg.rf.199f1221b4511ca177f3bf04d11bc3ea.jpg: 640x640 1 class_13, 1 class_22, 12.8ms\n",
      "image 401/553 /home/piai/yolo8_bus/valid/images/305_original_89-jpg_f4e98051-eaac-4a7c-98e7-163fdfe5d9bf_jpg.rf.8b33076d358dbf77f26e26a1d67878f7.jpg: 640x640 1 class_13, 14.3ms\n",
      "image 402/553 /home/piai/yolo8_bus/valid/images/305_original_91-jpg_8f23b165-8fef-459c-8eba-06f44452aedf_jpg.rf.de54475fc453c4b7dbb5d6e1037b54c8.jpg: 640x640 1 class_13, 10.6ms\n",
      "image 403/553 /home/piai/yolo8_bus/valid/images/305_original_Screenshot_20231210_220453_Video-Player-jpg_84c350f4-cbf3-4b12-9892-6915d46b85a9_jpg.rf.cb8cfcae05a431b8534911a62e52bdd9.jpg: 640x640 1 class_13, 16.9ms\n",
      "image 404/553 /home/piai/yolo8_bus/valid/images/305_original_Screenshot_20231210_220521_Video-Player-jpg_36ea36d5-52d3-4a0e-bda6-cbd20b2acc64_jpg.rf.f84765dce3144cbab5dd3d325b00fb71.jpg: 640x640 1 class_13, 1 class_22, 12.9ms\n",
      "image 405/553 /home/piai/yolo8_bus/valid/images/305_original_Screenshot_20231210_220644_Video-Player-jpg_27c0e127-8f57-4ba8-997c-a7c09254c6cc_jpg.rf.24a90c6e07978205fec6bb82650630b5.jpg: 640x640 1 class_13, 1 class_22, 13.4ms\n",
      "image 406/553 /home/piai/yolo8_bus/valid/images/305_original_Screenshot_20231210_220654_Video-Player-jpg_515c5b09-8152-4838-a91d-f57ccd41554b_jpg.rf.ddc93b98b229f227c95b670b98f9923e.jpg: 640x640 2 class_13s, 1 class_22, 14.6ms\n",
      "image 407/553 /home/piai/yolo8_bus/valid/images/305_original_Screenshot_20231210_220654_Video-Player-jpg_c91247c5-0b88-484b-82d2-f264d2a71376_jpg.rf.de43d1b91ea75bb3cac8f452e2123f38.jpg: 640x640 1 class_13, 1 class_22, 15.4ms\n",
      "image 408/553 /home/piai/yolo8_bus/valid/images/305_original_Screenshot_20231210_220704_Video-Player-jpg_a95cded7-214e-41a9-b82d-8927f85cb3d5_jpg.rf.fde46d0fe1eab44bfb8f4cf882952248.jpg: 640x640 2 class_13s, 19.6ms\n",
      "image 409/553 /home/piai/yolo8_bus/valid/images/305_original_Screenshot_20231210_220704_Video-Player-jpg_c66f3065-140a-4327-b008-35867bbc108c_jpg.rf.1a64e3e300cd8b086c07a36983a81510.jpg: 640x640 1 class_13, 13.6ms\n",
      "image 410/553 /home/piai/yolo8_bus/valid/images/305_original_Screenshot_20231210_220704_Video-Player-jpg_e8f23fef-cb21-4d0d-9997-48c872365720_jpg.rf.d77af91b49f597b56fa0742935e5942d.jpg: 640x640 1 class_13, 1 class_22, 15.9ms\n",
      "image 411/553 /home/piai/yolo8_bus/valid/images/305_original_Screenshot_20231210_220719_Video-Player-jpg_50190dea-285f-4e98-ad4e-28ac8fe1881e_jpg.rf.3baee7fb6c243745778c6b67856477ed.jpg: 640x640 1 class_13, 1 class_22, 12.1ms\n",
      "image 412/553 /home/piai/yolo8_bus/valid/images/305_original_Screenshot_20231210_220808_Video-Player-jpg_1baf5a60-2aac-4cec-974d-1d292f8a53ee_jpg.rf.e97575f7b2832481e0bd4529bd27d959.jpg: 640x640 1 class_13, 1 class_14, 1 class_22, 12.1ms\n",
      "image 413/553 /home/piai/yolo8_bus/valid/images/305_original_Screenshot_20231210_220808_Video-Player-jpg_3e8d5218-0b67-4033-8aea-0199d133db60_jpg.rf.9b924c7d411254b36d268ac2224ad24e.jpg: 640x640 1 class_13, 1 class_22, 12.8ms\n",
      "image 414/553 /home/piai/yolo8_bus/valid/images/306_original_-2023-12-12-21-45-22-png_1c92994f-80d7-46e2-ba92-960a25dc8bac_png.rf.1cdd131a3a78dcec604b2f3cb7049f65.jpg: 640x640 1 class_14, 13.8ms\n",
      "image 415/553 /home/piai/yolo8_bus/valid/images/306_original_-2023-12-12-21-45-22-png_a7e8df94-ae8c-446c-8102-a4a7a4d86d67_png.rf.9a2626fe711fb5e57365f015820cb459.jpg: 640x640 1 class_14, 12.8ms\n",
      "image 416/553 /home/piai/yolo8_bus/valid/images/306_original_-2023-12-12-21-45-22-png_bda391cb-c253-4675-a89d-d5a646e184d6_png.rf.488a3ff7b10ebb69958a8926b7b633eb.jpg: 640x640 1 class_14, 11.7ms\n",
      "image 417/553 /home/piai/yolo8_bus/valid/images/306_original_-2023-12-12-21-45-36-png_1c7a376e-4a7a-4db3-a763-5309d0596ec0_png.rf.c36c4574b7e989f824dc7e51cb5e618d.jpg: 640x640 3 class_14s, 2 class_22s, 13.6ms\n",
      "image 418/553 /home/piai/yolo8_bus/valid/images/306_original_-2023-12-12-21-45-36-png_636f1ac6-6fbd-480a-a377-2c01c630ffc4_png.rf.a9a8bccc2c8341b0c2aee98bba707039.jpg: 640x640 3 class_14s, 1 class_22, 14.1ms\n",
      "image 419/553 /home/piai/yolo8_bus/valid/images/306_original_31-png_501f8584-730d-446c-a785-4912bd25eaaa_png.rf.f42295caaa26df87975e050b93af9ac6.jpg: 640x640 4 class_14s, 1 class_22, 14.0ms\n",
      "image 420/553 /home/piai/yolo8_bus/valid/images/306_original_31-png_65345850-b71c-4258-9710-720629b7fb75_png.rf.21c98ce361b987d02759fc2495328009.jpg: 640x640 1 class_14, 3 class_22s, 15.8ms\n",
      "image 421/553 /home/piai/yolo8_bus/valid/images/306_original_32-png_29d00d26-3380-42c8-9a47-28ece7afd9ab_png.rf.b333a10c7ab1dfdfa76146355e1ccf28.jpg: 640x640 2 class_14s, 16.0ms\n",
      "image 422/553 /home/piai/yolo8_bus/valid/images/306_original_32-png_4350c5ac-7fca-418b-b2d5-8b0409c8fd8d_png.rf.bcfc990de6ea8f039221b301578458af.jpg: 640x640 6 class_14s, 1 class_22, 11.4ms\n",
      "image 423/553 /home/piai/yolo8_bus/valid/images/306_original_56-jpg_677088e0-c8c9-4d9a-a4e8-8428ad790319_jpg.rf.05bc8a108f9259a18c915770844db789.jpg: 640x640 1 class_14, 1 class_22, 16.4ms\n",
      "image 424/553 /home/piai/yolo8_bus/valid/images/306_original_56-jpg_a58378d3-3af0-4229-9772-eff397747a3b_jpg.rf.6f01af662a42503d860678cd3b4a2935.jpg: 640x640 1 class_14, 2 class_22s, 15.4ms\n",
      "image 425/553 /home/piai/yolo8_bus/valid/images/306_original_95-png_4c44fdb0-2c1e-48a9-9e88-4afc10218a87_png.rf.3d4a8deddb83ecf0bcac862317e6d1dc.jpg: 640x640 2 class_14s, 3 class_22s, 14.1ms\n",
      "image 426/553 /home/piai/yolo8_bus/valid/images/306_original_95-png_5ea7d1d6-a973-4f5e-b82a-6f84f0d444e3_png.rf.e9fbb087cc6348a8b4ac3ab6145580f3.jpg: 640x640 1 class_14, 1 class_22, 12.7ms\n",
      "image 427/553 /home/piai/yolo8_bus/valid/images/308_original_-2023-12-15-23-47-19-png_40e13a91-5697-4321-b281-ebc18c6c28c8_png.rf.4b5fae2836ec236f2d7366e53a0d636d.jpg: 640x640 1 class_15, 1 class_22, 13.2ms\n",
      "image 428/553 /home/piai/yolo8_bus/valid/images/308_original_-2023-12-15-23-47-19-png_4e91ed17-90f6-4537-ba5d-5d9b93bd521a_png.rf.1b4855a67b6a96f99026d710a3999ea9.jpg: 640x640 1 class_15, 14.7ms\n",
      "image 429/553 /home/piai/yolo8_bus/valid/images/308_original_-2023-12-15-23-48-11-png_8205963d-91d9-46ea-8e25-647a53a7814c_png.rf.843fa7968523bad9b350cf502c1283fa.jpg: 640x640 1 class_15, 1 class_22, 15.0ms\n",
      "image 430/553 /home/piai/yolo8_bus/valid/images/308_original_-2023-12-15-23-48-35-png_21d6db94-e152-4326-9919-b985719db8a2_png.rf.226c5e84dc434f8a499ca4112137e4e7.jpg: 640x640 2 class_15s, 11.1ms\n",
      "image 431/553 /home/piai/yolo8_bus/valid/images/308_original_-2023-12-15-23-48-35-png_655239a2-8602-4aac-85e1-8dc646992372_png.rf.47103ce3f5dfdff88bcba666bfc55e39.jpg: 640x640 2 class_15s, 11.8ms\n",
      "image 432/553 /home/piai/yolo8_bus/valid/images/308_original_-2023-12-15-23-48-35-png_b63f7ed1-0d5d-4282-90ea-14693a556d54_png.rf.1b3c80cd34f262de2e729a2a5813ae45.jpg: 640x640 3 class_15s, 15.4ms\n",
      "image 433/553 /home/piai/yolo8_bus/valid/images/308_original_34-png_f7b81eeb-41ef-4983-8afd-05937cf1372a_png.rf.d979ba485a0a33e59b986b2b8bef03d5.jpg: 640x640 1 class_15, 1 class_22, 13.6ms\n",
      "image 434/553 /home/piai/yolo8_bus/valid/images/308_original_Screenshot_20231210_210150_Video-Player-jpg_9b76d8ba-db56-49df-a3f3-b1286dbcfac6_jpg.rf.d39da4f9b4fecfd06c61210697c2165a.jpg: 640x640 1 class_22, 12.9ms\n",
      "image 435/553 /home/piai/yolo8_bus/valid/images/308_original_Screenshot_20231210_210156_Video-Player-jpg_33f627f4-8a8b-431f-89bb-8b7a0e4915f8_jpg.rf.cd759798aee1af701033674044d5de02.jpg: 640x640 1 class_15, 1 class_22, 16.5ms\n",
      "image 436/553 /home/piai/yolo8_bus/valid/images/308_original_Screenshot_20231210_210156_Video-Player-jpg_897c0652-19a4-42e3-af2e-2a04a9c17054_jpg.rf.b82d46a46b7973e3a99b883c28eae508.jpg: 640x640 1 class_15, 1 class_22, 12.4ms\n",
      "image 437/553 /home/piai/yolo8_bus/valid/images/308_original_Screenshot_20231210_210159_Video-Player-jpg_c49093b2-363e-4ffc-8d1e-c15b9089aea4_jpg.rf.49bba3862dac68ae5d2e1b0c65ee377f.jpg: 640x640 1 class_15, 13.4ms\n",
      "image 438/553 /home/piai/yolo8_bus/valid/images/308_original_Screenshot_20231210_210159_Video-Player-jpg_df9f0292-de42-43cf-a1a9-cfc8087f8916_jpg.rf.829e27f279b811d5287f4498fbf0acc9.jpg: 640x640 1 class_15, 13.7ms\n",
      "image 439/553 /home/piai/yolo8_bus/valid/images/308_original_Screenshot_20231210_215345_Video-Player-jpg_7e045420-38fd-4674-9725-fe36a06e94b5_jpg.rf.aef1b3b890a59e53826ae5a1b879a9a2.jpg: 640x640 1 class_15, 11.6ms\n",
      "image 440/553 /home/piai/yolo8_bus/valid/images/308_original_Screenshot_20231210_215414_Video-Player-jpg_dfbae17c-025e-4100-9761-79018bd7c486_jpg.rf.b8a7119dcbe12a1216b7454f8461c5d7.jpg: 640x640 1 class_15, 1 class_22, 10.8ms\n",
      "image 441/553 /home/piai/yolo8_bus/valid/images/308_original_Screenshot_20231210_215454_Video-Player-jpg_c8d3e16e-cbbf-48ec-b8f6-b32712a96108_jpg.rf.0ab5ef2e5dee8ea1d4de1118f2f0ca39.jpg: 640x640 1 class_15, 11.0ms\n",
      "image 442/553 /home/piai/yolo8_bus/valid/images/31_png.rf.e234e0b9a00fcdd724c9c27a22f45145.jpg: 640x640 4 class_14s, 1 class_22, 10.9ms\n",
      "image 443/553 /home/piai/yolo8_bus/valid/images/37_png.rf.bf07c50bbb8bb244097783243de8d405.jpg: 640x640 1 class_22, 13.2ms\n",
      "image 444/553 /home/piai/yolo8_bus/valid/images/3_png.rf.9298d40a846b9415980c5c5bf6973cb7.jpg: 640x640 3 class_21s, 1 class_22, 12.8ms\n",
      "image 445/553 /home/piai/yolo8_bus/valid/images/46_jpg.rf.6a1d5574c09fc80663ffbd41c2697f3f.jpg: 640x640 1 class_3, 2 class_22s, 12.5ms\n",
      "image 446/553 /home/piai/yolo8_bus/valid/images/5000_original_-2023-12-12-19-54-40-png_570507a8-5faa-472e-aefc-ac764052a160_png.rf.39e538dff638a0746ae1973e5b3e3e38.jpg: 640x640 1 class_16, 13.2ms\n",
      "image 447/553 /home/piai/yolo8_bus/valid/images/5000_original_-2023-12-12-19-54-40-png_ea1e608e-b96b-483c-9e33-6cf9e6ced9fe_png.rf.3492ce76e62bcddb7f917399c8364dc2.jpg: 640x640 1 class_16, 13.9ms\n",
      "image 448/553 /home/piai/yolo8_bus/valid/images/5000_original_-2023-12-12-19-55-04-png_2eb48519-03e2-4134-bcd9-eb4b70487d61_png.rf.978125dc26340ee7b92891d59aaedbf4.jpg: 640x640 1 class_16, 13.1ms\n",
      "image 449/553 /home/piai/yolo8_bus/valid/images/5000_original_-2023-12-12-19-55-04-png_83ab1101-59ab-4494-9f49-496a64fb6b1d_png.rf.b8e1ce8ee71e61ff21d79cdfdaba349d.jpg: 640x640 1 class_16, 12.7ms\n",
      "image 450/553 /home/piai/yolo8_bus/valid/images/5000_original_-2023-12-12-19-55-04-png_c83e48bf-9264-4290-986e-8c3763a9f0f9_png.rf.61c85ac84467a69af1304bb7fbe92bbb.jpg: 640x640 1 class_16, 13.3ms\n",
      "image 451/553 /home/piai/yolo8_bus/valid/images/5000_original_-2023-12-12-19-55-04-png_cb800055-2113-4267-909f-8983bcb0fa28_png.rf.afd2a31b6707a8694ff72b377440fd38.jpg: 640x640 1 class_16, 12.3ms\n",
      "image 452/553 /home/piai/yolo8_bus/valid/images/5000_original_-2023-12-12-19-55-04-png_e21f70be-f9da-441f-920c-7750e50baabd_png.rf.3111f860b6cd0277cff7b4370a2d375a.jpg: 640x640 1 class_16, 13.1ms\n",
      "image 453/553 /home/piai/yolo8_bus/valid/images/5000_original_-2023-12-16-00-37-05-png_f751e33b-d904-4013-9bf8-a7781b6d2adb_png.rf.c137c8177a501ff4631290f2dbadd150.jpg: 640x640 2 class_16s, 10.6ms\n",
      "image 454/553 /home/piai/yolo8_bus/valid/images/5000_original_-2023-12-16-00-37-30-png_c60e3362-1557-4e52-af00-8c4b98db7a79_png.rf.a580d6e90022265525c68a057fc73b83.jpg: 640x640 1 class_16, 2 class_22s, 14.4ms\n",
      "image 455/553 /home/piai/yolo8_bus/valid/images/5000_original_-2023-12-16-00-37-40-png_45936f79-4b6d-4f3e-ac39-10e11d07aa52_png.rf.b021c8696a97aae513c919866c9ad069.jpg: 640x640 1 class_16, 1 class_22, 12.5ms\n",
      "image 456/553 /home/piai/yolo8_bus/valid/images/5000_original_1-png_4ef4812d-5543-42df-9914-0a6615c0adef_png.rf.5b755227755c42e59b31783e900b9626.jpg: 640x640 2 class_16s, 1 class_20, 1 class_22, 15.2ms\n",
      "image 457/553 /home/piai/yolo8_bus/valid/images/5000_original_1-png_bfe8aeea-894d-47a3-9be7-06c15cb55784_png.rf.5e4ed24ef23e6f352348df8248c1c975.jpg: 640x640 3 class_16s, 1 class_22, 14.5ms\n",
      "image 458/553 /home/piai/yolo8_bus/valid/images/5000_original_2-png_add167d6-9803-46a6-8f87-3dc3e4be614a_png.rf.eee937d9cb28ea747a1dcac66ca76bc4.jpg: 640x640 5 class_16s, 1 class_22, 13.3ms\n",
      "image 459/553 /home/piai/yolo8_bus/valid/images/5000_original_2-png_b104a566-3e88-4f07-9462-dad3a0bc47e1_png.rf.0f8902fb879ff9c53ab3372bc62eacf8.jpg: 640x640 1 class_16, 1 class_22, 14.0ms\n",
      "image 460/553 /home/piai/yolo8_bus/valid/images/5_png.rf.758bfdfc71a2632aeea8c69c4c4b4f4a.jpg: 640x640 4 class_17s, 1 class_22, 10.9ms\n",
      "image 461/553 /home/piai/yolo8_bus/valid/images/600_original_5-png_b4d2d3c3-d5e0-4958-ba3d-80ee89cd5d2e_png.rf.0cc65eacbf30f4222938f2a40f59eaec.jpg: 640x640 1 class_17, 10.6ms\n",
      "image 462/553 /home/piai/yolo8_bus/valid/images/600_original_5-png_c897d709-ed3d-4ebe-965b-38670988fad4_png.rf.9c9b39dadb576ab873baaec48955d9b2.jpg: 640x640 4 class_17s, 1 class_22, 11.9ms\n",
      "image 463/553 /home/piai/yolo8_bus/valid/images/600_original_6-png_ed3abb27-b162-4ea4-922e-61dd60f30897_png.rf.a82875bbb97450c103d1653763090a15.jpg: 640x640 1 class_17, 1 class_22, 12.7ms\n",
      "image 464/553 /home/piai/yolo8_bus/valid/images/63_JPG.rf.5e18ec196d34f2880793f0d5552034f8.jpg: 640x640 1 class_7, 10.4ms\n",
      "image 465/553 /home/piai/yolo8_bus/valid/images/66_png.rf.b0d797b9a7318f9f190b3add46bfa342.jpg: 640x640 1 class_4, 12.1ms\n",
      "image 466/553 /home/piai/yolo8_bus/valid/images/6_png.rf.1bfd0a42625ae2ddb0696aee3addcf4e.jpg: 640x640 5 class_17s, 2 class_22s, 13.1ms\n",
      "image 467/553 /home/piai/yolo8_bus/valid/images/700_original_7-png_1a30086e-9c66-40d8-95f3-427154a14d19_png.rf.3d5463e4f8042937a5af8f0f37d58be1.jpg: 640x640 1 class_18, 12.1ms\n",
      "image 468/553 /home/piai/yolo8_bus/valid/images/700_original_7-png_c3f0eaec-f914-451e-ab93-e1c6c2477272_png.rf.79a6f8a965cc6ca69db3b2904736764b.jpg: 640x640 4 class_18s, 1 class_22, 11.2ms\n",
      "image 469/553 /home/piai/yolo8_bus/valid/images/700_original_8-png_55cd796b-ed01-43b2-baa5-f0b32c9eff01_png.rf.a025dc7aa31fff7afccfeb28838c44c5.jpg: 640x640 3 class_18s, 11.2ms\n",
      "image 470/553 /home/piai/yolo8_bus/valid/images/700_original_8-png_ba2effca-205e-4f2f-9b0a-223e9f251b7d_png.rf.dd4de4d7799cdccbaffb2fd93ed4b80a.jpg: 640x640 1 class_18, 9.7ms\n",
      "image 471/553 /home/piai/yolo8_bus/valid/images/700_original_8-png_bbfde510-b075-4109-a416-cc45f8733463_png.rf.c43f216c33e5b3e224175079ec6c452a.jpg: 640x640 3 class_18s, 9.8ms\n",
      "image 472/553 /home/piai/yolo8_bus/valid/images/700_original_8-png_f5ee56ab-82b5-4bd4-8173-9a41a1f348dc_png.rf.0762c0560278938e7aa88c32c76bea9a.jpg: 640x640 3 class_18s, 12.2ms\n",
      "image 473/553 /home/piai/yolo8_bus/valid/images/72_jpg.rf.2bba77e72e83500dfd3845aa3b63249a.jpg: 640x640 1 class_7, 1 class_22, 10.3ms\n",
      "image 474/553 /home/piai/yolo8_bus/valid/images/79_jpg.rf.d857b8d50bcc2a51fe9687340383084b.jpg: 640x640 3 class_8s, 10.2ms\n",
      "image 475/553 /home/piai/yolo8_bus/valid/images/800_original_35-png_07c59dad-4ca2-4a50-bedf-f9628eaf1651_png.rf.32573b688ca68acd890d1a8ab658638e.jpg: 640x640 1 class_19, 12.5ms\n",
      "image 476/553 /home/piai/yolo8_bus/valid/images/800_original_35-png_63ccd437-a3dc-4910-89a1-102e61ea55b6_png.rf.c26deff0bb5f3fc883819a47c66f27ba.jpg: 640x640 2 class_19s, 1 class_22, 12.9ms\n",
      "image 477/553 /home/piai/yolo8_bus/valid/images/800_original_35-png_d7e47070-4cff-4683-a701-66c4d0cbbde2_png.rf.1b543445f5ad22eaa8d655162475225f.jpg: 640x640 1 class_15, 1 class_19, 11.9ms\n",
      "image 478/553 /home/piai/yolo8_bus/valid/images/800_original_36-png_249c6044-2619-4062-b473-ba7a7f64d0e9_png.rf.ed0913c0fbe7db60b1002be191534bd9.jpg: 640x640 1 class_19, 1 class_22, 13.5ms\n",
      "image 479/553 /home/piai/yolo8_bus/valid/images/800_original_98-jpeg_7dd6f53d-56ca-4404-bf24-c68364b00ab5_jpeg.rf.7359d73d51edbde1fa82a8b60a031df3.jpg: 640x640 1 class_19, 12.1ms\n",
      "image 480/553 /home/piai/yolo8_bus/valid/images/84_png.rf.3ecf3bcf575e79ee82d474e0a6c866f7.jpg: 640x640 1 class_12, 11.6ms\n",
      "image 481/553 /home/piai/yolo8_bus/valid/images/9000_original_3-png_4f7b6837-0312-4544-a3f4-4c3b766594c9_png.rf.a5fe6fa9c796ac99b85111da536a9c70.jpg: 640x640 3 class_21s, 1 class_22, 13.7ms\n",
      "image 482/553 /home/piai/yolo8_bus/valid/images/9000_original_3-png_7c364eb1-1b3c-42b6-bafe-42ce11ac0970_png.rf.fbd12a65d5eae9f314106554b2d99000.jpg: 640x640 1 class_21, 12.5ms\n",
      "image 483/553 /home/piai/yolo8_bus/valid/images/9000_original_4-png_88cedbbd-2c81-44cf-9e12-f65217742ad4_png.rf.4f5a6ea18604578c5ea5be6822ca1892.jpg: 640x640 2 class_21s, 1 class_22, 13.8ms\n",
      "image 484/553 /home/piai/yolo8_bus/valid/images/9000_original_4-png_f8951a1f-30e0-481d-90a2-2ef2defe7edb_png.rf.db1931285b1c89f9532c00dabb03a74c.jpg: 640x640 4 class_21s, 1 class_22, 11.2ms\n",
      "image 485/553 /home/piai/yolo8_bus/valid/images/9000_original_74-JPG_f1b159cb-83f6-4c46-8ad0-f49d14794c83_JPG.rf.8de78f81fb582c2aee108249356070b1.jpg: 640x640 1 class_21, 11.9ms\n",
      "image 486/553 /home/piai/yolo8_bus/valid/images/900_3_original_-2023-12-12-21-03-41-png_43c4b5f8-ba51-4c6e-ab3d-727bcdf91098_png.rf.f4fb3f8d51207e06620a082da521a00d.jpg: 640x640 4 class_20s, 1 class_22, 13.8ms\n",
      "image 487/553 /home/piai/yolo8_bus/valid/images/900_3_original_-2023-12-12-21-03-55-png_63f30309-a43c-4044-b0f6-6bdc48e52856_png.rf.1924cdca18c5e75b55188b8b6508c758.jpg: 640x640 3 class_20s, 2 class_22s, 12.7ms\n",
      "image 488/553 /home/piai/yolo8_bus/valid/images/900_3_original_-2023-12-12-21-04-07-png_9e8e86d5-a941-4fed-a504-51b56b1724f7_png.rf.c8db905e1fa1af18a12148654e33251c.jpg: 640x640 1 class_20, 12.7ms\n",
      "image 489/553 /home/piai/yolo8_bus/valid/images/900_3_original_-2023-12-12-21-04-49-png_5e77e109-e138-4f30-93c8-d28772ff0890_png.rf.95b8f789237e827300dec3bf6893e2de.jpg: 640x640 1 class_20, 1 class_22, 14.1ms\n",
      "image 490/553 /home/piai/yolo8_bus/valid/images/900_3_original_-2023-12-12-21-04-49-png_a845af97-b879-4a3d-b4ad-b09545707f6d_png.rf.8e2b10e686b61e39bfd184b5ae79c8d7.jpg: 640x640 4 class_20s, 1 class_22, 12.1ms\n",
      "image 491/553 /home/piai/yolo8_bus/valid/images/900_3_original_-2023-12-12-21-04-49-png_e0506751-b845-49a8-9b59-51df18f328fb_png.rf.fef9b264cf0f66d57ec6ef29c154c3c8.jpg: 640x640 1 class_20, 13.6ms\n",
      "image 492/553 /home/piai/yolo8_bus/valid/images/900_3_original_-2023-12-12-21-05-02-png_1a5f5a09-55b1-407d-872c-80163747e46e_png.rf.c24cf35d54d1dcbb31a26ad01766b72d.jpg: 640x640 1 class_20, 13.1ms\n",
      "image 493/553 /home/piai/yolo8_bus/valid/images/900_3_original_Screenshot_20231210_215800_Video-Player-jpg_e0c3c862-dc10-44fa-8dbe-a59f2dd8eda9_jpg.rf.4d435e90cd260fe12d0dcc92f8b32523.jpg: 640x640 1 class_20, 1 class_22, 11.5ms\n",
      "image 494/553 /home/piai/yolo8_bus/valid/images/900_original_-2023-12-12-21-02-57-png_11f78631-9e08-4cf1-92a0-7021eca43c4f_png.rf.3bc769acfa865aaab76fcce1db7670bd.jpg: 640x640 1 class_20, 1 class_22, 13.0ms\n",
      "image 495/553 /home/piai/yolo8_bus/valid/images/900_original_-2023-12-12-21-03-11-png_0fc4f06c-ff75-405f-9f18-31d6c58754fe_png.rf.4b613620c55e361c045f9e4f6bb52ef6.jpg: 640x640 1 class_20, 13.7ms\n",
      "image 496/553 /home/piai/yolo8_bus/valid/images/900_original_-2023-12-12-21-03-11-png_747ac291-ee8e-4c83-aa7c-007f20678b20_png.rf.1f9b79be9177d3f5a2882ed531575473.jpg: 640x640 1 class_20, 13.7ms\n",
      "image 497/553 /home/piai/yolo8_bus/valid/images/900_original_-2023-12-12-21-03-41-png_d7ba644f-ab99-420a-b07c-06035e8eaf6d_png.rf.217b58b80dafa630ade9077a996f1bb7.jpg: 640x640 3 class_20s, 1 class_22, 13.7ms\n",
      "image 498/553 /home/piai/yolo8_bus/valid/images/900_original_-2023-12-12-21-04-19-png_bcdab931-7f21-45c7-936f-e44e6ac54243_png.rf.93dba9b229f1b9ece6dc8ca6dd6bb003.jpg: 640x640 1 class_20, 1 class_22, 11.0ms\n",
      "image 499/553 /home/piai/yolo8_bus/valid/images/900_original_-2023-12-12-21-04-49-png_49385b62-8b57-46ed-aad8-dd9481311dac_png.rf.2662fbe6a11474aa7a0244594628c07e.jpg: 640x640 3 class_20s, 1 class_22, 16.3ms\n",
      "image 500/553 /home/piai/yolo8_bus/valid/images/900_original_-2023-12-12-21-04-49-png_4e6ee43f-94dd-41f0-a18f-ba7b08e7b2eb_png.rf.2434ce6dbcaf4b0d6d10d9d3220c4086.jpg: 640x640 3 class_20s, 1 class_22, 12.4ms\n",
      "image 501/553 /home/piai/yolo8_bus/valid/images/900_original_-2023-12-12-21-04-49-png_a30a74f7-42f9-4877-ba4b-e6c61fa2ad02_png.rf.71a2946485492d2c0c297dfb634c2e61.jpg: 640x640 1 class_20, 1 class_22, 15.3ms\n",
      "image 502/553 /home/piai/yolo8_bus/valid/images/900_original_-2023-12-12-21-04-49-png_fe40c93a-d03c-4ac5-a3b2-55e7ca340357_png.rf.cea7d628338fe459488def28df403921.jpg: 640x640 2 class_20s, 19.6ms\n",
      "image 503/553 /home/piai/yolo8_bus/valid/images/900_original_Screenshot_20231210_215752_Video-Player-jpg_1b97dd5a-3123-4892-b22c-2007fe99dde1_jpg.rf.192a1113814f13da532f5b25dbd473f9.jpg: 640x640 1 class_20, 12.8ms\n",
      "image 504/553 /home/piai/yolo8_bus/valid/images/900_original_Screenshot_20231210_225126_Video-Player-jpg_da298495-ade6-49a5-88ef-08d7258be82d_jpg.rf.5b6e123ab70d3c30d92ee2cded5f0b4c.jpg: 640x640 1 class_20, 13.1ms\n",
      "image 505/553 /home/piai/yolo8_bus/valid/images/94_jpg.rf.1d3f45574748ed2d3265e7a1f07d517c.jpg: 640x640 3 class_14s, 2 class_22s, 16.4ms\n",
      "image 506/553 /home/piai/yolo8_bus/valid/images/IMG_6992_PNG.rf.fdcab1510e71df7f426443f6247fb51b.jpg: 640x640 1 class_8, 1 class_22, 14.4ms\n",
      "image 507/553 /home/piai/yolo8_bus/valid/images/IMG_7010_PNG.rf.f0f8504b10df724f7e825f74fa79c8cf.jpg: 640x640 2 class_15s, 1 class_22, 14.4ms\n",
      "image 508/553 /home/piai/yolo8_bus/valid/images/IMG_7021_PNG.rf.c61d1ba1e5cbd473497ade514dc70ce2.jpg: 640x640 3 class_5s, 14.6ms\n",
      "image 509/553 /home/piai/yolo8_bus/valid/images/IMG_7035_PNG.rf.45cab9dc7fd2a155c6df14c01be6dc78.jpg: 640x640 1 class_6, 13.0ms\n",
      "image 510/553 /home/piai/yolo8_bus/valid/images/IMG_7038_PNG.rf.2ea18fc7b700bf1346a62b4f8424c2c8.jpg: 640x640 1 class_8, 1 class_22, 13.4ms\n",
      "image 511/553 /home/piai/yolo8_bus/valid/images/IMG_7045_PNG.rf.b51249aa9b27b665e8826426f503a44a.jpg: 640x640 1 class_16, 13.3ms\n",
      "image 512/553 /home/piai/yolo8_bus/valid/images/IMG_7077_PNG.rf.e33471d66f8c67c1c0495c22267c18c5.jpg: 640x640 1 class_8, 2 class_22s, 11.6ms\n",
      "image 513/553 /home/piai/yolo8_bus/valid/images/IMG_7092_PNG.rf.98b42bcc38bad55066ecf2c9cc49a2a4.jpg: 640x640 5 class_4s, 1 class_22, 14.5ms\n",
      "image 514/553 /home/piai/yolo8_bus/valid/images/IMG_7095_PNG.rf.ea4789dc4d40e0300e9e3b6e987366c1.jpg: 640x640 1 class_16, 13.0ms\n",
      "image 515/553 /home/piai/yolo8_bus/valid/images/IMG_7096_PNG.rf.c75fc50d1d0507ae968d4bb030009f32.jpg: 640x640 1 class_16, 11.1ms\n",
      "image 516/553 /home/piai/yolo8_bus/valid/images/IMG_7099_PNG.rf.962999710cda898c8fd15b67db4061e8.jpg: 640x640 3 class_6s, 1 class_22, 14.0ms\n",
      "image 517/553 /home/piai/yolo8_bus/valid/images/IMG_7109_PNG.rf.e54622bf515b95aeb971050007c821a2.jpg: 640x640 1 class_16, 1 class_22, 14.0ms\n",
      "image 518/553 /home/piai/yolo8_bus/valid/images/IMG_7119_PNG.rf.042675894c608f21449dc896550cb3ff.jpg: 640x640 1 class_6, 1 class_8, 2 class_22s, 17.0ms\n",
      "image 519/553 /home/piai/yolo8_bus/valid/images/IMG_7152_PNG.rf.91112b5eac7f368a0a1232eb3f5c8008.jpg: 640x640 2 class_20s, 1 class_22, 14.5ms\n",
      "image 520/553 /home/piai/yolo8_bus/valid/images/IMG_7161_PNG.rf.9df1284dbc682864918a2e4bfdd8d84c.jpg: 640x640 1 class_2, 1 class_22, 15.3ms\n",
      "image 521/553 /home/piai/yolo8_bus/valid/images/IMG_7164_PNG.rf.9280a0b0acccc764ca71aba3bdd06626.jpg: 640x640 1 class_10, 13.8ms\n",
      "image 522/553 /home/piai/yolo8_bus/valid/images/IMG_7167_PNG.rf.393fac937210d15aa9353a8c5cf7e1d6.jpg: 640x640 3 class_7s, 1 class_22, 12.2ms\n",
      "image 523/553 /home/piai/yolo8_bus/valid/images/Screenshot_20231210_210159_Video-Player_jpg.rf.74945bbb4b4e14751a30711f1dc3243a.jpg: 640x640 1 class_15, 11.5ms\n",
      "image 524/553 /home/piai/yolo8_bus/valid/images/Screenshot_20231210_210255_Video-Player_jpg.rf.c5edb5793fb768a0ae3e54a668a382a6.jpg: 640x640 1 class_3, 13.0ms\n",
      "image 525/553 /home/piai/yolo8_bus/valid/images/Screenshot_20231210_210619_Video-Player_jpg.rf.530f999187f23969adfc82ae0e96391c.jpg: 640x640 2 class_5s, 1 class_22, 13.1ms\n",
      "image 526/553 /home/piai/yolo8_bus/valid/images/Screenshot_20231210_210639_Video-Player_jpg.rf.53b12d2ef2c7f6b06f22d3bd57bf462f.jpg: 640x640 1 class_22, 16.8ms\n",
      "image 527/553 /home/piai/yolo8_bus/valid/images/Screenshot_20231210_210710_Video-Player_jpg.rf.e30481dfd9ca1683a8ba393ff83af3ce.jpg: 640x640 2 class_5s, 2 class_22s, 12.9ms\n",
      "image 528/553 /home/piai/yolo8_bus/valid/images/Screenshot_20231210_211239_Video-Player_jpg.rf.304bbef549954451a1cacb7425da50e5.jpg: 640x640 3 class_5s, 1 class_22, 15.0ms\n",
      "image 529/553 /home/piai/yolo8_bus/valid/images/Screenshot_20231210_211503_Video-Player_jpg.rf.f5bb24f7d5e4ef59432641e29ca1ee53.jpg: 640x640 1 class_5, 1 class_22, 11.4ms\n",
      "image 530/553 /home/piai/yolo8_bus/valid/images/Screenshot_20231210_211530_Video-Player_jpg.rf.4cd150c03198d11db549cb04ccb5e4ea.jpg: 640x640 1 class_5, 10.9ms\n",
      "image 531/553 /home/piai/yolo8_bus/valid/images/Screenshot_20231210_215338_Video-Player_jpg.rf.3fa32fcec53a27a77fee7c5fcb70ba0e.jpg: 640x640 1 class_15, 1 class_22, 10.6ms\n",
      "image 532/553 /home/piai/yolo8_bus/valid/images/Screenshot_20231210_215526_Video-Player_jpg.rf.56ddc147f0552694e5d60ab9e48bb784.jpg: 640x640 1 class_5, 1 class_22, 13.5ms\n",
      "image 533/553 /home/piai/yolo8_bus/valid/images/Screenshot_20231210_215701_Video-Player_jpg.rf.5fd90e023faf827df581b91a4350bd4c.jpg: 640x640 1 class_7, 1 class_22, 15.0ms\n",
      "image 534/553 /home/piai/yolo8_bus/valid/images/Screenshot_20231210_215800_Video-Player_jpg.rf.5932c4a12ef8a4d630f9b72c62c18300.jpg: 640x640 1 class_20, 1 class_22, 13.0ms\n",
      "image 535/553 /home/piai/yolo8_bus/valid/images/Screenshot_20231210_220521_Video-Player_jpg.rf.d2947566d06f53aeafacd4cf219d06e1.jpg: 640x640 2 class_13s, 1 class_22, 14.3ms\n",
      "image 536/553 /home/piai/yolo8_bus/valid/images/Screenshot_20231210_224317_Video-Player_jpg.rf.b702739568bc290bb6310ba3704803be.jpg: 640x640 1 class_12, 1 class_22, 12.2ms\n",
      "image 537/553 /home/piai/yolo8_bus/valid/images/Screenshot_20231210_225126_Video-Player_jpg.rf.ef9342e1230eef53f1720c618ce13918.jpg: 640x640 1 class_20, 15.3ms\n",
      "image 538/553 /home/piai/yolo8_bus/valid/images/SmartSelect_20231210_210418_Video-Player_jpg.rf.9e1c8d089719c7587afb785f8f87354a.jpg: 640x640 1 class_10, 13.2ms\n",
      "image 539/553 /home/piai/yolo8_bus/valid/images/_206_original_206_original_-2023-12-12-01-42-13-png_50685f2c-f9aa-4bf9-8f9f-9a15a267e6d9-png_9c5531a5-6649-45f8-931a-8bcf69b7fa82_png.rf.d12ab0053ab386b34e36166011f555c0.jpg: 640x640 1 class_6, 14.8ms\n",
      "image 540/553 /home/piai/yolo8_bus/valid/images/_206_original_206_original_-2023-12-12-01-42-13-png_81fc050c-be6c-479b-ac0d-49c8fc466320-png_71000dd7-67d4-4c9f-b78b-8cab9449cc1f_png.rf.0711a9f6f1599eddfad6b0a3e09f4d9c.jpg: 640x640 1 class_6, 12.9ms\n",
      "image 541/553 /home/piai/yolo8_bus/valid/images/_206_original_206_original_-2023-12-12-01-42-13-png_ae1ee424-9077-4caa-9544-4cb8bc950243-png_f9709c86-4356-4938-a611-ec920407f198_png.rf.472400a6141040e96b50b7164bceb3d5.jpg: 640x640 1 class_6, 12.7ms\n",
      "image 542/553 /home/piai/yolo8_bus/valid/images/_206_original_206_original_-2023-12-12-01-42-13-png_cdd459f3-b03a-4476-b85f-2b57cd08dea4-png_bd48b61d-d2cc-46a9-9797-6424512871cb_png.rf.776665ff5f21b35bd8840de121517275.jpg: 640x640 1 class_6, 11.9ms\n",
      "image 543/553 /home/piai/yolo8_bus/valid/images/_206_original_206_original_-2023-12-12-01-42-50-png_32785589-bbf2-45e4-a3d9-c678b223b306-png_e736356e-8194-40ac-a37a-e28f2844cd98_png.rf.053f1e9716b5b8d056a78f632aacf2c2.jpg: 640x640 2 class_6s, 1 class_22, 11.0ms\n",
      "image 544/553 /home/piai/yolo8_bus/valid/images/_206_original_206_original_-2023-12-12-01-43-00-png_8beb9889-bb4b-44e7-8895-daaf3f0d6c61-png_e0fcefa4-0496-4ce4-a28a-f5270412e9b7_png.rf.e0d04ada0f9f55e059ca3ee4b4e4e9ff.jpg: 640x640 1 class_6, 1 class_22, 20.1ms\n",
      "image 545/553 /home/piai/yolo8_bus/valid/images/_206_original_206_original_-2023-12-12-01-43-00-png_e39f9f4e-cc10-491c-9eed-6d121e73ccea-png_e0dac574-d56d-4ebc-8b3b-952cb50d089c_png.rf.120b5c665aa60115111a6439548d7a0f.jpg: 640x640 1 class_6, 1 class_14, 1 class_22, 13.1ms\n",
      "image 546/553 /home/piai/yolo8_bus/valid/images/_209_original_209_original_-2023-12-12-19-46-27-png_0b0dfe59-f0f9-42e2-bdf0-578053647f35-png_2d5d8301-0b90-4610-972f-b405beb20c08_png.rf.c21d283c4ce9de7854ac08e55496c35a.jpg: 640x640 2 class_8s, 12.7ms\n",
      "image 547/553 /home/piai/yolo8_bus/valid/images/_209_original_209_original_-2023-12-12-19-46-27-png_15d09a5d-0e52-4e84-a52d-5ea33427e35c-png_8529aa21-de82-4b06-be2b-268d3e82e652_png.rf.7e9b05a169d76bc15a4922fce02eb4fe.jpg: 640x640 1 class_8, 13.1ms\n",
      "image 548/553 /home/piai/yolo8_bus/valid/images/_209_original_209_original_-2023-12-12-19-46-27-png_e017257e-2ca0-4908-a045-574a86277ea3-png_c6121ef2-f746-4883-826d-b1106fb7f25f_png.rf.e3ab78094e9b00c7eaebee5887da122b.jpg: 640x640 2 class_8s, 13.0ms\n",
      "image 549/553 /home/piai/yolo8_bus/valid/images/_209_original_209_original_-2023-12-12-19-46-27-png_ea8aed15-6612-4038-b925-19dc3648b330-png_ba97ee69-b0f7-4300-91ea-db8c2b22bee7_png.rf.1aa94f0ffa9145b7c0614b77e09cf60c.jpg: 640x640 1 class_8, 12.9ms\n",
      "image 550/553 /home/piai/yolo8_bus/valid/images/_209_original_209_original_-2023-12-12-19-46-27-png_f57e5e7a-95e9-4c9b-bc9e-ce6688ce23ed-png_866dbe2d-1784-409f-8293-214c3ac6951b_png.rf.3e493cf6384467c8b3bb56c8fb260a5a.jpg: 640x640 2 class_8s, 13.2ms\n",
      "image 551/553 /home/piai/yolo8_bus/valid/images/_306_original_306_original_-2023-12-12-21-45-36-png_255404f7-d28a-48ed-8712-57f5ed3aa9bb-png_13744e4c-2f2d-4bef-aee6-cd690fc84f93_png.rf.75a499c7ff6b0648c044e27c0defa6f4.jpg: 640x640 2 class_14s, 1 class_22, 12.5ms\n",
      "image 552/553 /home/piai/yolo8_bus/valid/images/_306_original_306_original_-2023-12-12-21-45-36-png_255404f7-d28a-48ed-8712-57f5ed3aa9bb-png_299bcd8c-25c9-49bd-9f95-3ed6b19e89e0_png.rf.a9d276e67094d07b579c19a0cbf9b2a3.jpg: 640x640 6 class_14s, 1 class_22, 10.5ms\n",
      "image 553/553 /home/piai/yolo8_bus/valid/images/_306_original_306_original_-2023-12-12-21-45-36-png_5de06644-9844-4cc9-8867-e44bc461db84-png_3b426c90-a01e-4dc0-8029-fcf395095489_png.rf.355d7ac83b02cbf20402f9845ad03f12.jpg: 640x640 3 class_14s, 1 class_22, 10.8ms\n",
      "Speed: 2.7ms preprocess, 13.6ms inference, 3.0ms postprocess per image at shape (1, 3, 640, 640)\n",
      "Results saved to \u001b[1mruns/detect/train132\u001b[0m\n"
     ]
    }
   ],
   "source": [
    "results = model.predict(source='/home/piai/yolo8_bus/valid/images/', save=True)"
   ]
  },
  {
   "cell_type": "markdown",
   "id": "03f74576-a948-42a9-b2ba-331d5ed39af5",
   "metadata": {},
   "source": [
    "#### 시각화"
   ]
  },
  {
   "cell_type": "code",
   "execution_count": null,
   "id": "26dac352-8c3e-4572-928f-0cd6b1202f0a",
   "metadata": {},
   "outputs": [],
   "source": [
    "result_images = glob.glob('*.jpg')\n",
    "\n",
    "# 결과 이미지 출력\n",
    "for imageName in result_images[:20]: \n",
    "    display(Image(filename=imageName))"
   ]
  },
  {
   "cell_type": "markdown",
   "id": "046163e5-a57a-4185-a24f-2f0bb560dda1",
   "metadata": {},
   "source": [
    "## Export"
   ]
  },
  {
   "cell_type": "code",
   "execution_count": null,
   "id": "83e2e1cd-bd50-4f6b-89ed-fbe74a3e5c22",
   "metadata": {},
   "outputs": [],
   "source": [
    "from ultralytics import YOLO\n",
    "import cv2\n",
    "import os\n",
    "import urllib\n",
    "import glob\n",
    "from IPython.display import Image, display"
   ]
  },
  {
   "cell_type": "code",
   "execution_count": null,
   "id": "4fb0657f-f663-4d6e-9dfe-590515fb75d8",
   "metadata": {},
   "outputs": [],
   "source": [
    "# load model\n",
    "model = YOLO(\"./pretrained/yolov8n.pt\")"
   ]
  },
  {
   "cell_type": "code",
   "execution_count": 11,
   "id": "c59664d8-7937-46b5-92ce-665970d23655",
   "metadata": {},
   "outputs": [
    {
     "name": "stdout",
     "output_type": "stream",
     "text": [
      "Ultralytics YOLOv8.0.227 🚀 Python-3.8.18 torch-1.10.1 CPU (Intel Xeon Silver 4112 2.60GHz)\n",
      "Model summary (fused): 168 layers, 3006623 parameters, 0 gradients, 8.1 GFLOPs\n",
      "\n",
      "\u001b[34m\u001b[1mPyTorch:\u001b[0m starting from '/home/piai/runs/detect/train21/weights/best.pt' with input shape (1, 3, 640, 640) BCHW and output shape(s) (1, 9, 8400) (6.0 MB)\n"
     ]
    }
   ],
   "source": [
    "!yolo export model= /home/piai/runs/detect/train21/weights/best.pt format=tflite int8=True"
   ]
  },
  {
   "cell_type": "code",
   "execution_count": null,
   "id": "26f9106a-dd19-425e-b4bc-17a904a9f235",
   "metadata": {},
   "outputs": [],
   "source": []
  }
 ],
 "metadata": {
  "kernelspec": {
   "display_name": "Python 3 (ipykernel)",
   "language": "python",
   "name": "python3"
  },
  "language_info": {
   "codemirror_mode": {
    "name": "ipython",
    "version": 3
   },
   "file_extension": ".py",
   "mimetype": "text/x-python",
   "name": "python",
   "nbconvert_exporter": "python",
   "pygments_lexer": "ipython3",
   "version": "3.8.18"
  }
 },
 "nbformat": 4,
 "nbformat_minor": 5
}
